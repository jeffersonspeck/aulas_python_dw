{
 "cells": [
  {
   "cell_type": "markdown",
   "metadata": {},
   "source": [
    "# Operações com Strings\n",
    "\n",
    "Tempo estimado necessário: **30** minutos.\n",
    "\n",
    "## Objetivos\n",
    "\n",
    "Após concluir este laboratório, você será capaz de:\n",
    "\n",
    "* Trabalhar com strings  \n",
    "* Realizar operações com strings  \n",
    "* Manipular strings usando indexação e sequências de escape\n"
   ]
  },
  {
   "cell_type": "markdown",
   "metadata": {},
   "source": [
    "<h2>Tabela de Conteúdos</h2>\n",
    "<div class=\"alert alert-block alert-info\" style=\"margin-top: 20px\">\n",
    "<ul>\n",
    "<li>\n",
    "<a href=\"#What-are-Strings?\">O que são Strings?</a>\n",
    "</li>\n",
    "<li>\n",
    "<a href=\"#Indexing\">Indexação</a>\n",
    "<ul>\n",
    "<li><a href=\"#Negative-Indexing\">Indexação Negativa</a></li>\n",
    "<li><a href=\"#Slicing\">Fatiamento (Slicing)</a></li>\n",
    "<li><a href=\"#Stride\">Passo (Stride)</a></li>\n",
    "<li><a href=\"#Concatenate-Strings\">Concatenação de Strings</a></li>\n",
    "</ul>\n",
    "</li>\n",
    "<li>\n",
    "<a href=\"#Escape-Sequences\">Sequências de Escape</a>\n",
    "</li>\n",
    "<li>\n",
    "<a href=\"#String-Manipulation-Operations\">Operações de Manipulação de Strings</a>\n",
    "</li>\n",
    "<li>\n",
    "<a href=\"#Quiz-on-Strings\">Quiz sobre Strings</a>\n",
    "</li>\n",
    "</ul>\n",
    "</div>\n",
    "<hr/>"
   ]
  },
  {
   "cell_type": "markdown",
   "metadata": {},
   "source": [
    "## O que são String?"
   ]
  },
  {
   "cell_type": "markdown",
   "metadata": {},
   "source": [
    "<p>O exemplo a seguir mostra uma string contida entre 2 aspas:</p>"
   ]
  },
  {
   "cell_type": "code",
   "execution_count": null,
   "metadata": {},
   "outputs": [],
   "source": [
    "# Use aspas para definir uma string\n",
    "\n",
    "\"The BodyGuard\""
   ]
  },
  {
   "cell_type": "markdown",
   "metadata": {},
   "source": [
    "<p>Também podemos usar aspas simples:</p>"
   ]
  },
  {
   "cell_type": "code",
   "execution_count": null,
   "metadata": {},
   "outputs": [],
   "source": [
    "# Use aspas simples para definir uma string\n",
    "\n",
    "'The BodyGuard'"
   ]
  },
  {
   "cell_type": "markdown",
   "metadata": {},
   "source": [
    "<p>Uma string pode ser uma combinação de espaços e dígitos:</p>"
   ]
  },
  {
   "cell_type": "code",
   "execution_count": null,
   "metadata": {},
   "outputs": [],
   "source": [
    "# Dígitos e espaços em uma string\n",
    "\n",
    "'1 2 3 4 5 6 '"
   ]
  },
  {
   "cell_type": "markdown",
   "metadata": {},
   "source": [
    "<p>Uma string também pode ser uma combinação de caracteres especiais:</p>"
   ]
  },
  {
   "cell_type": "code",
   "execution_count": null,
   "metadata": {},
   "outputs": [],
   "source": [
    "# Caracteres especiais em string\n",
    "\n",
    "'@#2_#]&*^%$'"
   ]
  },
  {
   "cell_type": "markdown",
   "metadata": {},
   "source": [
    "<p>Podemos imprimir nossa string usando a instrução <code>print</code>:</p>"
   ]
  },
  {
   "cell_type": "code",
   "execution_count": null,
   "metadata": {},
   "outputs": [],
   "source": [
    "# Imprimindo uma String\n",
    "\n",
    "print(\"hello!\")"
   ]
  },
  {
   "cell_type": "markdown",
   "metadata": {},
   "source": [
    "<p>Podemos vincular ou atribuir uma string a outra variável:</p>"
   ]
  },
  {
   "cell_type": "code",
   "execution_count": null,
   "metadata": {},
   "outputs": [],
   "source": [
    "# Atribuir string a uma variável\n",
    "\n",
    "name = \"The BodyGuard\"\n",
    "name"
   ]
  },
  {
   "cell_type": "markdown",
   "metadata": {},
   "source": [
    "<hr/>\n"
   ]
  },
  {
   "cell_type": "markdown",
   "metadata": {},
   "source": [
    "## Indexing"
   ]
  },
  {
   "cell_type": "markdown",
   "metadata": {},
   "source": [
    "<p>É útil pensar em uma string como uma sequência ordenada. Cada elemento da sequência pode ser acessado usando um índice representado por um array de números:</p>"
   ]
  },
  {
   "cell_type": "markdown",
   "metadata": {},
   "source": [
    "<img align=\"center\" src=\"https://cf-courses-data.s3.us.cloud-object-storage.appdomain.cloud/xwKqWxQWBL47h718d3BLzw/IMG1.png\" width=\"600\"/>\n"
   ]
  },
  {
   "cell_type": "markdown",
   "metadata": {},
   "source": [
    "<p>O primeiro índice pode ser acessado da seguinte forma:</p>"
   ]
  },
  {
   "cell_type": "markdown",
   "metadata": {},
   "source": [
    "<hr/>\n",
    "<div class=\"alert alert-success alertsuccess\" style=\"margin-top: 20px\">\n",
    "    [Dica]: Como a indexação começa em 0, isso significa que o primeiro índice está no índice 0.\n",
    "</div>\n",
    "<hr/>"
   ]
  },
  {
   "cell_type": "code",
   "execution_count": null,
   "metadata": {},
   "outputs": [],
   "source": [
    "# Imprimir o primeiro elemento da string\n",
    "\n",
    "print(name[0])"
   ]
  },
  {
   "cell_type": "markdown",
   "metadata": {},
   "source": [
    "<p>Podemos acessar o índice 6:</p>"
   ]
  },
  {
   "cell_type": "code",
   "execution_count": null,
   "metadata": {},
   "outputs": [],
   "source": [
    "# Imprimir o elemento no índice 6 da string\n",
    "\n",
    "print(name[6])"
   ]
  },
  {
   "cell_type": "markdown",
   "metadata": {},
   "source": [
    "<p>Além disso, podemos acessar o índice 10:</p>"
   ]
  },
  {
   "cell_type": "code",
   "execution_count": null,
   "metadata": {},
   "outputs": [],
   "source": [
    "# Imprimir o elemento no índice 10 da string\n",
    "\n",
    "print(name[10])"
   ]
  },
  {
   "cell_type": "markdown",
   "metadata": {},
   "source": [
    "### Indexação negativa"
   ]
  },
  {
   "cell_type": "markdown",
   "metadata": {},
   "source": [
    "<p>Também podemos usar indexação negativa com strings:</p>"
   ]
  },
  {
   "cell_type": "markdown",
   "metadata": {},
   "source": [
    "<img align=\"center\" src=\"https://cf-courses-data.s3.us.cloud-object-storage.appdomain.cloud/VAdKOVUWpsM7hC7CjWmEdQ/IMG2.png\" width=\"600\"/>\n"
   ]
  },
  {
   "cell_type": "markdown",
   "metadata": {},
   "source": [
    "<p>O índice negativo pode nos ajudar a contar o elemento a partir do final da string.</p>"
   ]
  },
  {
   "cell_type": "markdown",
   "metadata": {},
   "source": [
    "<p>O último elemento é dado pelo índice -1:</p>"
   ]
  },
  {
   "cell_type": "code",
   "execution_count": null,
   "metadata": {},
   "outputs": [],
   "source": [
    "# Imprimir o último elemento da string\n",
    "\n",
    "print(name[-1])"
   ]
  },
  {
   "cell_type": "markdown",
   "metadata": {},
   "source": [
    "<p>O primeiro elemento pode ser obtido pelo índice -11:</p>"
   ]
  },
  {
   "cell_type": "code",
   "execution_count": null,
   "metadata": {},
   "outputs": [],
   "source": [
    "# Imprimir o primeiro elemento da string\n",
    "\n",
    "print(name[-13])"
   ]
  },
  {
   "cell_type": "markdown",
   "metadata": {},
   "source": [
    "<p>Podemos encontrar o número de caracteres em uma string usando <code>len</code>, que é a abreviação de comprimento:</p>"
   ]
  },
  {
   "cell_type": "code",
   "execution_count": null,
   "metadata": {},
   "outputs": [],
   "source": [
    "# Encontrar o comprimento da string\n",
    "\n",
    "len(\"The BodyGuard\")"
   ]
  },
  {
   "cell_type": "markdown",
   "metadata": {},
   "source": [
    "### Fatiamento (Slicing)"
   ]
  },
  {
   "cell_type": "markdown",
   "metadata": {},
   "source": [
    "<p>Podemos obter múltiplos caracteres de uma string usando fatiamento. Podemos obter do 0º ao 4º e do 8º ao 12º elemento:</p>"
   ]
  },
  {
   "cell_type": "markdown",
   "metadata": {},
   "source": [
    "<img align=\"center\" src=\"https://cf-courses-data.s3.us.cloud-object-storage.appdomain.cloud/Ph9xvvIvaf-krPI-qoaZ2Q/IMG3.png\" width=\"600\"/>\n"
   ]
  },
  {
   "cell_type": "markdown",
   "metadata": {},
   "source": [
    "<hr/>\n",
    "<div class=\"alert alert-success alertsuccess\" style=\"margin-top: 20px\">\n",
    "    [Dica]: Ao fazer o fatiamento, o primeiro número significa o índice (começando de 0), e o segundo número significa o comprimento do índice até o último elemento que você deseja (começando de 1)\n",
    "</div>\n",
    "<hr/>"
   ]
  },
  {
   "cell_type": "code",
   "execution_count": null,
   "metadata": {},
   "outputs": [],
   "source": [
    "# Fazer o fatiamento na variável nome com apenas os índices de 0 a 3\n",
    "\n",
    "name[0:4]"
   ]
  },
  {
   "cell_type": "code",
   "execution_count": null,
   "metadata": {},
   "outputs": [],
   "source": [
    "# Fazer o fatiamento na variável nome com apenas os índices de 8 a 11\n",
    "\n",
    "name[8:12]"
   ]
  },
  {
   "cell_type": "markdown",
   "metadata": {},
   "source": [
    "### Passo (Stride)"
   ]
  },
  {
   "cell_type": "markdown",
   "metadata": {},
   "source": [
    "<p>Também podemos inserir um valor de passo (stride) da seguinte forma, com o '2' indicando que estamos selecionando cada segunda variável:</p>"
   ]
  },
  {
   "cell_type": "markdown",
   "metadata": {},
   "source": [
    "<img align=\"center\" src=\"https://cf-courses-data.s3.us.cloud-object-storage.appdomain.cloud/SaORQ3bZLArgeix_9-jjRQ/IMG4.png\" width=\"600\"/>\n"
   ]
  },
  {
   "cell_type": "code",
   "execution_count": null,
   "metadata": {},
   "outputs": [],
   "source": [
    "# Obter todo segundo elemento. Os elementos nos índices 1, 3, 5...\n",
    "\n",
    "name[::2]"
   ]
  },
  {
   "cell_type": "markdown",
   "metadata": {},
   "source": [
    "<p>Também podemos incorporar o fatiamento com o passo (stride). Neste caso, selecionamos os primeiros cinco elementos e depois usamos o passo:</p>"
   ]
  },
  {
   "cell_type": "code",
   "execution_count": null,
   "metadata": {},
   "outputs": [],
   "source": [
    "# Obter todo segundo elemento no intervalo do índice 0 ao 4\n",
    "\n",
    "name[0:5:2]"
   ]
  },
  {
   "cell_type": "markdown",
   "metadata": {},
   "source": [
    "### Concatenar Strings"
   ]
  },
  {
   "cell_type": "markdown",
   "metadata": {},
   "source": [
    "<p>Podemos concatenar ou combinar strings usando o símbolo de adição, e o resultado é uma nova string que é a combinação de ambas:</p>"
   ]
  },
  {
   "cell_type": "code",
   "execution_count": null,
   "metadata": {},
   "outputs": [],
   "source": [
    "# Concatenar duas strings\n",
    "\n",
    "statement = name + \" is the best album\"\n",
    "statement"
   ]
  },
  {
   "cell_type": "markdown",
   "metadata": {},
   "source": [
    "<p>Para replicar os valores de uma string, simplesmente multiplicamos a string pelo número de vezes que gostaríamos de replicá-la. Neste caso, o número é três. O resultado é uma nova string, e essa nova string consiste em três cópias da string original:</p>"
   ]
  },
  {
   "cell_type": "code",
   "execution_count": null,
   "metadata": {},
   "outputs": [],
   "source": [
    "# Imprimir a string por 3 vezes\n",
    "\n",
    "3 * \"The BodyGuard\""
   ]
  },
  {
   "cell_type": "markdown",
   "metadata": {},
   "source": [
    "<p>Você pode criar uma nova string atribuindo-a à variável original. Concatenada com uma nova string, o resultado é uma nova string que muda de \"The BodyGuard\" para \"The BodyGuard é o melhor álbum\".</p>"
   ]
  },
  {
   "cell_type": "code",
   "execution_count": null,
   "metadata": {},
   "outputs": [],
   "source": [
    "# Concatenar strings\n",
    "\n",
    "name = \"The BodyGuard\"\n",
    "name = name + \" is the best album\"\n",
    "name"
   ]
  },
  {
   "cell_type": "markdown",
   "metadata": {},
   "source": [
    "<hr/>\n"
   ]
  },
  {
   "cell_type": "markdown",
   "metadata": {},
   "source": [
    "## Sequências de Escape (Escape Sequences)"
   ]
  },
  {
   "cell_type": "markdown",
   "metadata": {},
   "source": [
    "<p>As barras invertidas representam o início das sequências de escape. As sequências de escape representam strings que podem ser difíceis de digitar. Por exemplo, a barra invertida \"n\" representa uma nova linha. O resultado é dado por uma nova linha após a barra invertida \"n\" ser encontrada:</p>"
   ]
  },
  {
   "cell_type": "code",
   "execution_count": null,
   "metadata": {},
   "outputs": [],
   "source": [
    "# Sequência de escape de nova linha\n",
    "\n",
    "print(\" The BodyGuard\\n is the best album\" )"
   ]
  },
  {
   "cell_type": "markdown",
   "metadata": {},
   "source": [
    "<p>Da mesma forma, a barra invertida \"t\" representa uma tabulação:</p>"
   ]
  },
  {
   "cell_type": "code",
   "execution_count": null,
   "metadata": {},
   "outputs": [],
   "source": [
    "# Sequência de escape de tabulação\n",
    "\n",
    "print(\" The BodyGuard \\t is the best album\" )"
   ]
  },
  {
   "cell_type": "markdown",
   "metadata": {},
   "source": [
    "<p>Se você quiser colocar uma barra invertida na sua string, use uma dupla barra invertida:</p>"
   ]
  },
  {
   "cell_type": "code",
   "execution_count": null,
   "metadata": {},
   "outputs": [],
   "source": [
    "# Incluir barra invertida na string\n",
    "\n",
    "print(\" The BodyGuard \\\\ is the best album\" )"
   ]
  },
  {
   "cell_type": "markdown",
   "metadata": {},
   "source": [
    "<p>Também podemos colocar um \"r\" antes da string para exibir a barra invertida:</p>"
   ]
  },
  {
   "cell_type": "code",
   "execution_count": null,
   "metadata": {},
   "outputs": [],
   "source": [
    "# r informará ao Python que a string será exibida como string bruta\n",
    "\n",
    "print(r\" The BodyGuard \\ is the best album\" )"
   ]
  },
  {
   "cell_type": "markdown",
   "metadata": {},
   "source": [
    "<hr/>\n"
   ]
  },
  {
   "cell_type": "markdown",
   "metadata": {},
   "source": [
    "## Operações de Manipulação de Strings"
   ]
  },
  {
   "cell_type": "markdown",
   "metadata": {},
   "source": [
    "<p>Existem muitos métodos de operações com strings em Python que podem ser usados para manipular os dados. Vamos usar algumas operações básicas com strings nos dados.</p>"
   ]
  },
  {
   "cell_type": "markdown",
   "metadata": {},
   "source": [
    "<p>Vamos tentar com o método <code>upper</code>; esse método converte caracteres minúsculos em caracteres maiúsculos:</p>"
   ]
  },
  {
   "cell_type": "code",
   "execution_count": null,
   "metadata": {},
   "outputs": [],
   "source": [
    "# Converter todos os caracteres na string para maiúsculas\n",
    "\n",
    "a = \"Thriller is the sixth studio album\"\n",
    "print(\"before upper:\", a)\n",
    "b = a.upper()\n",
    "print(\"After upper:\", b)"
   ]
  },
  {
   "cell_type": "markdown",
   "metadata": {},
   "source": [
    "<p>O método <code>replace</code> substitui um segmento da string, ou seja, uma substring, por uma nova string. Nós informamos a parte da string que gostaríamos de mudar. O segundo argumento é o que gostaríamos de trocar pelo segmento, e o resultado é uma nova string com o segmento alterado:</p>"
   ]
  },
  {
   "cell_type": "code",
   "execution_count": null,
   "metadata": {},
   "outputs": [],
   "source": [
    "# Substituir a antiga substring pela nova substring de destino, caso o segmento tenha sido encontrado na string\n",
    "\n",
    "a = \"The BodyGuard is the best album\"\n",
    "b = a.replace('BodyGuard', 'Janet')\n",
    "b"
   ]
  },
  {
   "cell_type": "markdown",
   "metadata": {},
   "source": [
    "<p>O método <code>find</code> encontra uma substring. O argumento é a substring que você gostaria de encontrar, e a saída é o primeiro índice da sequência. Podemos encontrar a substring <code>he</code> ou <code>Guard</code>.</p>"
   ]
  },
  {
   "cell_type": "markdown",
   "metadata": {},
   "source": [
    "<img align=\"center\" src=\"https://cf-courses-data.s3.us.cloud-object-storage.appdomain.cloud/eK6pP3xD4kLWk2vri9KA5A/IMG5.png\" width=\"600\"/>\n"
   ]
  },
  {
   "cell_type": "code",
   "execution_count": null,
   "metadata": {},
   "outputs": [],
   "source": [
    "# Encontrar a substring na string. Somente o índice do primeiro elemento da substring na string será o resultado\n",
    "\n",
    "name = \"The BodyGuard\"\n",
    "name.find('he')"
   ]
  },
  {
   "cell_type": "code",
   "execution_count": null,
   "metadata": {},
   "outputs": [],
   "source": [
    "# Encontrar a substring na string.\n",
    "\n",
    "name.find('Guard')"
   ]
  },
  {
   "cell_type": "markdown",
   "metadata": {},
   "source": [
    "<p>Se a substring não estiver na string, a saída será negativa. Por exemplo, a string 'Jasdfasdasdf' não é uma substring:</p>"
   ]
  },
  {
   "cell_type": "code",
   "execution_count": null,
   "metadata": {},
   "outputs": [],
   "source": [
    "# Se não encontrar a substring na string\n",
    "\n",
    "name.find('Jasdfasdasdf')"
   ]
  },
  {
   "cell_type": "markdown",
   "metadata": {},
   "source": [
    "<p>O método <code>split</code> divide a string no separador especificado e retorna uma lista.</p>\n",
    "\n",
    "<p><strong>Sintaxe</strong> <code>string.split(separator, maxsplit)</code></p>\n",
    "\n",
    "<p><strong>Parâmetros</strong></p>\n",
    "<ul>\n",
    "    <li><strong>separator</strong> (opcional): Este é o delimitador no qual a string será dividida. Se não for fornecido, o separador padrão é qualquer espaço em branco.</li>\n",
    "    <li><strong>maxsplit</strong> (opcional): Especifica o número máximo de divisões a serem realizadas. Se não for fornecido, não há limite para o número de divisões.</li>\n",
    "</ul>\n",
    "\n",
    "<p><strong>Valor de Retorno:</strong></p>\n",
    "<p>O método retorna uma lista de substrings.</p>"
   ]
  },
  {
   "cell_type": "code",
   "execution_count": null,
   "metadata": {},
   "outputs": [],
   "source": [
    "# Dividir a substring em uma lista\n",
    "name = \"The BodyGuard\"\n",
    "split_string = (name.split())\n",
    "split_string"
   ]
  },
  {
   "cell_type": "markdown",
   "metadata": {},
   "source": [
    "<hr/>\n"
   ]
  },
  {
   "cell_type": "markdown",
   "metadata": {},
   "source": [
    "## RegEx"
   ]
  },
  {
   "cell_type": "markdown",
   "metadata": {},
   "source": [
    "<p>No Python, RegEx (abreviação de Expressão Regular) é uma ferramenta para combinar e manipular strings.</p>"
   ]
  },
  {
   "cell_type": "markdown",
   "metadata": {},
   "source": [
    "<p>Este módulo RegEx fornece várias funções para trabalhar com expressões regulares, incluindo <code>search</code>, <code>split</code>, <code>findall</code> e <code>sub</code>.</p>"
   ]
  },
  {
   "cell_type": "markdown",
   "metadata": {},
   "source": [
    "<p>O Python fornece um módulo embutido chamado <code>re</code>, que permite trabalhar com expressões regulares. Primeiro, importe o módulo <code>re</code>.</p>"
   ]
  },
  {
   "cell_type": "code",
   "execution_count": null,
   "metadata": {},
   "outputs": [],
   "source": [
    "import re"
   ]
  },
  {
   "cell_type": "markdown",
   "metadata": {},
   "source": [
    "<p>A função <code>search()</code> procura por padrões especificados dentro de uma string. Aqui está um exemplo que explica como usar a função <code>search()</code> para procurar pela palavra \"Body\" na string \"The BodyGuard is the best\".</p>"
   ]
  },
  {
   "cell_type": "code",
   "execution_count": null,
   "metadata": {},
   "outputs": [],
   "source": [
    "s1 = \"The BodyGuard is the best album\"\n",
    "\n",
    "# Defina o padrão a ser procurado\n",
    "pattern = r\"Body\"\n",
    "\n",
    "# Use a função <code>search()</code> para procurar o padrão na string\n",
    "result = re.search(pattern, s1)\n",
    "\n",
    "# Verifique se uma correspondência foi encontrada\n",
    "if result:\n",
    "    print(\"Match found!\")\n",
    "else:\n",
    "    print(\"Match not found.\")\n"
   ]
  },
  {
   "cell_type": "markdown",
   "metadata": {},
   "source": [
    "<p>Expressões regulares (RegEx) são padrões usados para combinar e manipular strings de texto. Existem várias sequências especiais em RegEx que podem ser usadas para combinar caracteres ou padrões específicos.</p>\n",
    "\n",
    "<table>\n",
    "    <thead>\n",
    "        <tr>\n",
    "            <th>Sequência Especial</th>\n",
    "            <th>Significado</th>\n",
    "            <th>Exemplo</th>\n",
    "        </tr>\n",
    "    </thead>\n",
    "    <tbody>\n",
    "        <tr>\n",
    "            <td>\\d</td>\n",
    "            <td>Combina qualquer caractere numérico (0-9)</td>\n",
    "            <td>\"123\" combina com \"\\d\\d\\d\"</td>\n",
    "        </tr>\n",
    "        <tr>\n",
    "            <td>\\D</td>\n",
    "            <td>Combina qualquer caractere não numérico</td>\n",
    "            <td>\"hello\" combina com \"\\D\\D\\D\\D\\D\"</td>\n",
    "        </tr>\n",
    "        <tr>\n",
    "            <td>\\w</td>\n",
    "            <td>Combina qualquer caractere de palavra (a-z, A-Z, 0-9 e _)</td>\n",
    "            <td>\"hello_world\" combina com \"\\w\\w\\w\\w\\w\\w\\w\\w\\w\\w\\w\"</td>\n",
    "        </tr>\n",
    "        <tr>\n",
    "            <td>\\W</td>\n",
    "            <td>Combina qualquer caractere não de palavra</td>\n",
    "            <td>\"@#$%\" combina com \"\\W\\W\\W\\W\"</td>\n",
    "        </tr>\n",
    "        <tr>\n",
    "            <td>\\s</td>\n",
    "            <td>Combina qualquer caractere de espaço em branco (espaço, tabulação, nova linha, etc.)</td>\n",
    "            <td>\"hello world\" combina com \"\\w\\w\\w\\w\\w\\s\\w\\w\\w\\w\\w\"</td>\n",
    "        </tr>\n",
    "        <tr>\n",
    "            <td>\\S</td>\n",
    "            <td>Combina qualquer caractere não de espaço em branco</td>\n",
    "            <td>\"hello_world\" combina com \"\\S\\S\\S\\S\\S\\S\\S\\S\\S\"</td>\n",
    "        </tr>\n",
    "        <tr>\n",
    "            <td>\\b</td>\n",
    "            <td>Combina a fronteira entre um caractere de palavra e um caractere não de palavra</td>\n",
    "            <td>\"cat\" combina com \"\\bcat\\b\" em \"The cat sat on the mat\"</td>\n",
    "        </tr>\n",
    "        <tr>\n",
    "            <td>\\B</td>\n",
    "            <td>Combina qualquer posição que não seja uma fronteira de palavra</td>\n",
    "            <td>\"cat\" combina com \"\\Bcat\\B\" em \"category\", mas\n"
   ]
  },
  {
   "cell_type": "markdown",
   "metadata": {},
   "source": [
    "<p>Exemplos de Sequências Especiais:</p>\n",
    "\n",
    "<p>Um exemplo simples de uso da sequência especial <code>\\d</code> em um padrão de expressão regular com código Python:</p>"
   ]
  },
  {
   "cell_type": "code",
   "execution_count": null,
   "metadata": {},
   "outputs": [],
   "source": [
    "pattern = r\"\\d\\d\\d\\d\\d\\d\\d\\d\\d\\d\"  # Combina qualquer dez dígitos consecutivos\n",
    "text = \"My Phone number is 1234567890\"\n",
    "match = re.search(pattern, text)\n",
    "\n",
    "if match:\n",
    "    print(\"Phone number found:\", match.group())\n",
    "else:\n",
    "    print(\"No match\")"
   ]
  },
  {
   "cell_type": "markdown",
   "metadata": {},
   "source": [
    "<p>O método <code>match.group()</code> é usado no módulo <code>re</code> do Python para recuperar a parte da string onde o padrão da expressão regular foi correspondido. Aqui está uma explicação detalhada:</p>\n",
    "\n",
    "<p><strong>Objetivo</strong></p>\n",
    "<ul>\n",
    "    <li><strong>Extrair o Texto Correspondente</strong>: <code>match.group()</code> retorna a substring exata que correspondeu ao padrão.</li>\n",
    "</ul>\n",
    "\n",
    "<p><strong>Uso</strong></p>\n",
    "<ul>\n",
    "    <li>Quando você usa funções como <code>re.search()</code> ou <code>re.match()</code>, elas retornam um objeto de correspondência se o padrão for encontrado. Você pode então usar <code>match.group()</code> para obter o texto correspondente.</li>\n",
    "</ul>\n",
    "\n",
    "<p>Aqui <code>match.group()</code> recupera a substring 1234567890 do texto, que é a parte que correspondeu ao padrão.</p>"
   ]
  },
  {
   "cell_type": "markdown",
   "metadata": {},
   "source": [
    "<p>O padrão de expressão regular é definido como r\"\\d\\d\\d\\d\\d\\d\\d\\d\\d\\d\", que utiliza a sequência especial <code>\\d</code> para combinar qualquer caractere numérico (0-9), e a sequência <code>\\d</code> é repetida dez vezes para combinar dez dígitos consecutivos.</p>"
   ]
  },
  {
   "cell_type": "markdown",
   "metadata": {},
   "source": [
    "<p>Um exemplo simples de uso da sequência especial <code>\\W</code> em um padrão de expressão regular com código Python:</p>"
   ]
  },
  {
   "cell_type": "code",
   "execution_count": null,
   "metadata": {},
   "outputs": [],
   "source": [
    "pattern = r\"\\W\"  # Combina qualquer caractere não de palavra\n",
    "text = \"Hello, world!\"\n",
    "matches = re.findall(pattern, text)\n",
    "\n",
    "print(\"Matches:\", matches)"
   ]
  },
  {
   "cell_type": "markdown",
   "metadata": {},
   "source": [
    "<p>O padrão de expressão regular é definido como r\"\\W\", que utiliza a sequência especial <code>\\W</code> para combinar qualquer caractere que não seja um caractere de palavra (a-z, A-Z, 0-9 ou _). A string em que estamos procurando uma correspondência é \"Hello, world!\".</p>"
   ]
  },
  {
   "cell_type": "markdown",
   "metadata": {},
   "source": [
    "<p>A função <code>findall()</code> encontra todas as ocorrências de um padrão especificado dentro de uma string.</p>"
   ]
  },
  {
   "cell_type": "code",
   "execution_count": null,
   "metadata": {},
   "outputs": [],
   "source": [
    "s2 = \"The BodyGuard é o melhor álbum de 'Whitney Houston'.\"\n",
    "\n",
    "# Use a função findall() para encontrar todas as ocorrências de \"st\" na string\n",
    "resultado = re.findall(\"st\", s2)\n",
    "\n",
    "# Imprimir a lista de palavras correspondentes\n",
    "print(resultado)"
   ]
  },
  {
   "cell_type": "markdown",
   "metadata": {},
   "source": [
    "<p>A função <code>split()</code> de uma expressão regular divide uma string em um array de substrings com base em um padrão especificado.</p>"
   ]
  },
  {
   "cell_type": "code",
   "execution_count": null,
   "metadata": {},
   "outputs": [],
   "source": [
    "# Use a função split para dividir a string pelo \"\\s\"\n",
    "split_array = re.split(r\"\\s\", s2)\n",
    "\n",
    "# O split_array contém todas as substrings, divididas por caracteres de espaço em branco\n",
    "print(split_array)"
   ]
  },
  {
   "cell_type": "markdown",
   "metadata": {},
   "source": [
    "<p>Aqui está uma explicação detalhada: <code>re.split(\"\\s\", s2)</code>:</p>\n",
    "\n",
    "<p><strong>re.split</strong>: Esta função divide uma string pelas ocorrências de um padrão.</p>\n",
    "<ul>\n",
    "    <li><strong>r\"\\s\"</strong>: Este é um padrão de expressão regular que combina qualquer caractere de espaço em branco (espaços, tabulações, quebras de linha, etc.).</li>\n",
    "    <li><strong>s2</strong>: Esta é a string que você deseja dividir.</li>\n",
    "</ul>"
   ]
  },
  {
   "cell_type": "markdown",
   "metadata": {},
   "source": [
    "<p>A função <code>sub</code> de uma expressão regular em Python é usada para substituir todas as ocorrências de um padrão em uma string por um valor de substituição especificado.</p>"
   ]
  },
  {
   "cell_type": "code",
   "execution_count": null,
   "metadata": {},
   "outputs": [],
   "source": [
    "# Definir o padrão de expressão regular para procurar\n",
    "padrão = r\"Whitney Houston\"\n",
    "\n",
    "# Definir a string de substituição\n",
    "substituição = \"lenda\"\n",
    "\n",
    "# Usar a função sub para substituir o padrão pela string de substituição\n",
    "nova_string = re.sub(padrão, substituição, s2, flags=re.IGNORECASE)\n",
    "\n",
    "# A nova_string contém a string original com o padrão substituído pela string de substituição\n",
    "print(nova_string)"
   ]
  },
  {
   "cell_type": "markdown",
   "metadata": {},
   "source": [
    "<hr/>\n"
   ]
  },
  {
   "cell_type": "markdown",
   "metadata": {},
   "source": [
    "<h2 id=\"quiz\">Quiz sobre Strings</h2>"
   ]
  },
  {
   "cell_type": "markdown",
   "metadata": {},
   "source": [
    "<p>Qual é o valor da variável <code>a</code> após o seguinte código ser executado?</p>"
   ]
  },
  {
   "cell_type": "code",
   "execution_count": null,
   "metadata": {},
   "outputs": [],
   "source": [
    "# Escreva seu código abaixo e pressione Shift+Enter para executar\n",
    "\n",
    "a = \"1\""
   ]
  },
  {
   "cell_type": "markdown",
   "metadata": {},
   "source": [
    "<details><summary>Clique aqui para ver a solução</summary>\n",
    "\n",
    "```python\n",
    "\"1\"\n",
    "\n",
    "```\n",
    "</details>\n"
   ]
  },
  {
   "cell_type": "markdown",
   "metadata": {},
   "source": [
    "<p>Qual é o valor da variável <code>b</code> após o seguinte código ser executado?</p>"
   ]
  },
  {
   "cell_type": "code",
   "execution_count": null,
   "metadata": {},
   "outputs": [],
   "source": [
    "# Escreva seu código abaixo e pressione Shift+Enter para executar\n",
    "\n",
    "\n",
    "b = \"2\""
   ]
  },
  {
   "cell_type": "markdown",
   "metadata": {},
   "source": [
    "<details><summary>Clique aqui para ver a solução</summary>\n",
    "\n",
    "```python\n",
    "\"2\"\n",
    "\n",
    "```\n",
    "</details>"
   ]
  },
  {
   "cell_type": "markdown",
   "metadata": {},
   "source": [
    "<p>Qual é o valor da variável <code>c</code> após o seguinte código ser executado?</p>"
   ]
  },
  {
   "cell_type": "code",
   "execution_count": null,
   "metadata": {},
   "outputs": [],
   "source": [
    "# Escreva seu código abaixo e pressione Shift+Enter para executar\n",
    "\n",
    "\n",
    "c = a + b"
   ]
  },
  {
   "cell_type": "markdown",
   "metadata": {},
   "source": [
    "<details><summary>Clique aqui para ver a solução</summary>\n",
    "\n",
    "```python\n",
    "\"12\"\n",
    "\n",
    "```\n",
    "</details>\n"
   ]
  },
  {
   "cell_type": "markdown",
   "metadata": {},
   "source": [
    "<hr/>\n"
   ]
  },
  {
   "cell_type": "markdown",
   "metadata": {},
   "source": [
    "<p>Considere a variável <code>d</code> e use o fatiamento para imprimir os primeiros três elementos:</p>"
   ]
  },
  {
   "cell_type": "code",
   "execution_count": null,
   "metadata": {},
   "outputs": [],
   "source": [
    "# Escreva seu código abaixo e pressione Shift+Enter para executar\n",
    "\n",
    "\n",
    "d = \"ABCDEFG\""
   ]
  },
  {
   "cell_type": "markdown",
   "metadata": {},
   "source": [
    "<details><summary>Clique aqui para ver a solução</summary>\n",
    "\n",
    "```python\n",
    "print(d[:3]) \n",
    "\n",
    "# or \n",
    "\n",
    "print(d[0:3])\n",
    "\n",
    "```\n",
    "</details>\n"
   ]
  },
  {
   "cell_type": "markdown",
   "metadata": {},
   "source": [
    "<hr/>\n"
   ]
  },
  {
   "cell_type": "markdown",
   "metadata": {},
   "source": [
    "<p>Use um valor de passo (stride) de 2 para imprimir cada segundo caractere da string <code>e</code>:</p>"
   ]
  },
  {
   "cell_type": "code",
   "execution_count": null,
   "metadata": {},
   "outputs": [],
   "source": [
    "# Escreva seu código abaixo e pressione Shift+Enter para executar\n",
    "\n",
    "\n",
    "e = 'clocrkr1e1c1t'"
   ]
  },
  {
   "cell_type": "markdown",
   "metadata": {},
   "source": [
    "<details><summary>Clique aqui para ver a solução</summary>\n",
    "\n",
    "```python\n",
    "print(e[::2])\n",
    "\n",
    "```\n",
    "</details>\n"
   ]
  },
  {
   "cell_type": "markdown",
   "metadata": {},
   "source": [
    "<hr/>\n"
   ]
  },
  {
   "cell_type": "markdown",
   "metadata": {},
   "source": [
    "<p>Imprima uma barra invertida:</p>"
   ]
  },
  {
   "cell_type": "code",
   "execution_count": null,
   "metadata": {},
   "outputs": [],
   "source": [
    "# Escreva seu código abaixo e pressione Shift+Enter para executar\n",
    "\n"
   ]
  },
  {
   "cell_type": "markdown",
   "metadata": {},
   "source": [
    "<details><summary>Clique aqui para ver a solução</summary>\n",
    "\n",
    "```python\n",
    "print(\"\\\\\\\\\\\\\")\n",
    "\n",
    "or\n",
    "\n",
    "print(r\"\\\")\n",
    "\n",
    "```\n",
    "</details>\n"
   ]
  },
  {
   "cell_type": "markdown",
   "metadata": {},
   "source": [
    "<hr/>\n"
   ]
  },
  {
   "cell_type": "markdown",
   "metadata": {},
   "source": [
    "<p>Converta a variável <code>f</code> para maiúsculas:</p>"
   ]
  },
  {
   "cell_type": "code",
   "execution_count": null,
   "metadata": {},
   "outputs": [],
   "source": [
    "# Escreva seu código abaixo e pressione Shift+Enter para executar\n",
    "\n",
    "\n",
    "f = \"You are wrong\""
   ]
  },
  {
   "cell_type": "markdown",
   "metadata": {},
   "source": [
    "<details><summary>Clique aqui para ver a solução</summary>\n",
    "\n",
    "```python\n",
    "f.upper()\n",
    "\n",
    "```\n",
    "</details>\n"
   ]
  },
  {
   "cell_type": "markdown",
   "metadata": {},
   "source": [
    "<p>Converta a variável <code>f2</code> para minúsculas:</p>"
   ]
  },
  {
   "cell_type": "code",
   "execution_count": null,
   "metadata": {},
   "outputs": [],
   "source": [
    "# Escreva seu código abaixo e pressione Shift+Enter para executar\n",
    "\n",
    "f2=\"YOU ARE RIGHT\""
   ]
  },
  {
   "cell_type": "markdown",
   "metadata": {},
   "source": [
    "<details><summary>Clique aqui para ver a solução</summary>\n",
    "\n",
    "```python\n",
    "f2.lower()\n",
    "\n",
    "```\n",
    "</details>\n"
   ]
  },
  {
   "cell_type": "markdown",
   "metadata": {},
   "source": [
    "<hr/>\n"
   ]
  },
  {
   "cell_type": "markdown",
   "metadata": {},
   "source": [
    "<p>Considere a variável <code>g</code>, e encontre o primeiro índice da substring <code>snow</code>:</p>"
   ]
  },
  {
   "cell_type": "code",
   "execution_count": null,
   "metadata": {},
   "outputs": [],
   "source": [
    "# Escreva seu código abaixo e pressione Shift+Enter para executar\n",
    "\n",
    "\n",
    "g = \"Mary had a little lamb Little lamb, little lamb Mary had a little lamb \\\n",
    "Its fleece was white as snow And everywhere that Mary went Mary went, Mary went \\\n",
    "Everywhere that Mary went The lamb was sure to go\""
   ]
  },
  {
   "cell_type": "markdown",
   "metadata": {},
   "source": [
    "<details><summary>Clique aqui para ver a solução</summary>\n",
    "\n",
    "```python\n",
    "g.find(\"snow\")\n",
    "\n",
    "```\n",
    "\n",
    "</details>\n"
   ]
  },
  {
   "cell_type": "markdown",
   "metadata": {},
   "source": [
    "<p>Na variável <code>g</code>, substitua a substring <code>Mary</code> por <code>Bob</code>:</p>"
   ]
  },
  {
   "cell_type": "code",
   "execution_count": null,
   "metadata": {},
   "outputs": [],
   "source": [
    "# Escreva seu código abaixo e pressione Shift+Enter para executar\n",
    "\n"
   ]
  },
  {
   "cell_type": "markdown",
   "metadata": {},
   "source": [
    "<details><summary>Clique aqui para ver a solução</summary>\n",
    "\n",
    "```python\n",
    "g.replace(\"Mary\", \"Bob\")\n",
    "\n",
    "```\n",
    "</details>\n"
   ]
  },
  {
   "cell_type": "markdown",
   "metadata": {},
   "source": [
    "<p>Na variável <code>g</code>, substitua a substring <code>,</code> por <code>.</code>:</p>"
   ]
  },
  {
   "cell_type": "code",
   "execution_count": null,
   "metadata": {},
   "outputs": [],
   "source": [
    "# Escreva seu código abaixo e pressione Shift+Enter para executar\n"
   ]
  },
  {
   "cell_type": "markdown",
   "metadata": {},
   "source": [
    "<details><summary>Clique aqui para ver a solução</summary>\n",
    "\n",
    "\n",
    "```python\n",
    "g.replace(',','.')\n",
    "\n",
    "```\n",
    "\n",
    "</details>\n"
   ]
  },
  {
   "cell_type": "markdown",
   "metadata": {},
   "source": [
    "<p>Na variável <code>g</code>, divida a substring em uma lista:</p>"
   ]
  },
  {
   "cell_type": "code",
   "execution_count": null,
   "metadata": {},
   "outputs": [],
   "source": [
    "# Escreva seu código abaixo e pressione Shift+Enter para executar\n"
   ]
  },
  {
   "cell_type": "markdown",
   "metadata": {},
   "source": [
    "<details><summary>Clique aqui para ver a solução</summary>\n",
    "\n",
    "```python\n",
    "g.split()\n",
    "\n",
    "```\n",
    "</details>\n"
   ]
  },
  {
   "cell_type": "markdown",
   "metadata": {},
   "source": [
    "<p>Na string <code>s3</code>, verifique se o dígito está presente ou não usando o <code>\\d</code> e a função <code>search()</code>:</p>"
   ]
  },
  {
   "cell_type": "code",
   "execution_count": null,
   "metadata": {},
   "outputs": [],
   "source": [
    "s3 = \"House number- 1105\"\n",
    "# Escreva seu código abaixo e pressione Shift+Enter para executar\n"
   ]
  },
  {
   "cell_type": "markdown",
   "metadata": {},
   "source": [
    "<details><summary>Clique aqui para ver a solução</summary>\n",
    "\n",
    "```python\n",
    "# Use the search() function to search for the \"\\d\" in the string\n",
    "result = re.search(r\"\\d\", s3)\n",
    "\n",
    "# Check if a match was found\n",
    "if result:\n",
    "    print(\"Digit found\")\n",
    "else:\n",
    "    print(\"Digit not found.\")\n",
    "```\n",
    "\n",
    "</details>\n"
   ]
  },
  {
   "cell_type": "markdown",
   "metadata": {},
   "source": [
    "<p>Na string <code>str1</code>, substitua a substring <code>fox</code> por <code>bear</code> usando a função <code>sub()</code>:</p>"
   ]
  },
  {
   "cell_type": "code",
   "execution_count": null,
   "metadata": {},
   "outputs": [],
   "source": [
    "str1= \"The quick brown fox jumps over the lazy dog.\"\n",
    "\n",
    "# Escreva seu código abaixo e pressione Shift+Enter para executar\n",
    "\n"
   ]
  },
  {
   "cell_type": "markdown",
   "metadata": {},
   "source": [
    "<details><summary>Clique aqui para ver a solução</summary>\n",
    "\n",
    "```python\n",
    "# Use re.sub() to replace \"fox\" with \"bear\"\n",
    "new_str1 = re.sub(r\"fox\", \"bear\", str1)\n",
    "\n",
    "print(new_str1)\n",
    "```\n",
    "\n",
    "</details>\n"
   ]
  },
  {
   "cell_type": "markdown",
   "metadata": {},
   "source": [
    "<p>Na string <code>str2</code>, encontre todas as ocorrências de <code>woo</code> usando a função <code>findall()</code>:</p>"
   ]
  },
  {
   "cell_type": "code",
   "execution_count": null,
   "metadata": {},
   "outputs": [],
   "source": [
    "str2= \"How much wood would a woodchuck chuck, if a woodchuck could chuck wood?\"\n",
    "\n",
    "# Escreva seu código abaixo e pressione Shift+Enter para executar\n"
   ]
  },
  {
   "cell_type": "markdown",
   "metadata": {},
   "source": [
    "<details><summary>Clique aqui para ver a solução</summary>\n",
    "\n",
    "```python\n",
    "# Use re.findall() to find all occurrences of \"woo\"\n",
    "matches = re.findall(r\"woo\", str2)\n",
    "\n",
    "print(matches)\n",
    "```\n",
    "</details>\n"
   ]
  },
  {
   "cell_type": "markdown",
   "metadata": {},
   "source": [
    "<hr/>\n",
    "<h2>O último exercício!</h2>\n",
    "<p>Parabéns, você concluiu sua primeira lição e laboratório prático em Python.</p>\n",
    "<hr/>"
   ]
  },
  {
   "cell_type": "markdown",
   "metadata": {},
   "source": [
    "## Autor\n",
    "\n",
    "<a href=\"https://linktr.ee/jeffersonspeck\" target=\"_blank\">Jefferson Rodrigo Speck</a>\n",
    "\n",
    "## <h3 align=\"center\"> © Este conteúdo não pode ser reproduzido sem autorização do autor <h3/>\n"
   ]
  }
 ],
 "metadata": {
  "kernelspec": {
   "display_name": "Python (Pyodide)",
   "language": "python",
   "name": "python"
  },
  "language_info": {
   "codemirror_mode": {
    "name": "python",
    "version": 3
   },
   "file_extension": ".py",
   "mimetype": "text/x-python",
   "name": "python",
   "nbconvert_exporter": "python",
   "pygments_lexer": "ipython3",
   "version": "3.8"
  },
  "prev_pub_hash": "7e26843b26fdd01967467997405c908e8d6afa930c2a21887ddad1d3f374fd89"
 },
 "nbformat": 4,
 "nbformat_minor": 4
}

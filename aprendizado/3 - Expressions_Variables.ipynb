{
 "cells": [
  {
   "cell_type": "markdown",
   "metadata": {},
   "source": [
    "# Trabalhando com Variáveis e Expressões em Python\n",
    "\n",
    "Tempo estimado necessário: **10** minutos\n",
    "\n",
    "## Objetivos\n",
    "\n",
    "Após completar este laboratório, você será capaz de:\n",
    "\n",
    "* Usar expressões e variáveis para realizar operações\n"
   ]
  },
  {
   "cell_type": "markdown",
   "metadata": {},
   "source": [
    "<h2>Tabela de Conteúdo</h2>\n",
    "<div class=\"alert alert-block\" style=\"margin-top: 20px\">\n",
    "    <ul>\n",
    "        <li>\n",
    "            <a href=\"#Expressões-and-Variáveis\">Expressões e Variáveis</a>\n",
    "            <ul>\n",
    "                <li><a href=\"#Expressões\">Expressões</a></li>\n",
    "                <li><a href=\"#Exercise:-Expressões\">Exercício: Expressões</a></li>\n",
    "                <li><a href=\"#Variáveis\">Variáveis</a></li>\n",
    "                <li><a href=\"#Exercise:-Expression-and-Variáveis-in-Python\">Exercício: Expressões e Variáveis em Python</a></li>\n",
    "            </ul>\n",
    "        </li>\n",
    "    </ul>\n",
    "</div>\n",
    "\n",
    "<hr>\n",
    "\n"
   ]
  },
  {
   "cell_type": "markdown",
   "metadata": {},
   "source": [
    "## Expressões e Variáveis\n"
   ]
  },
  {
   "cell_type": "markdown",
   "metadata": {},
   "source": [
    "### Expressões\n"
   ]
  },
  {
   "cell_type": "markdown",
   "metadata": {},
   "source": [
    "<p>Expressões em Python podem incluir operações entre tipos compatíveis (por exemplo, inteiros e floats). Por exemplo, operações aritméticas básicas como somar múltiplos números:</p>\n"
   ]
  },
  {
   "cell_type": "code",
   "execution_count": null,
   "metadata": {},
   "outputs": [],
   "source": [
    "# Expressão de operação de adição\n",
    "\n",
    "43 + 60 + 16 + 41"
   ]
  },
  {
   "cell_type": "markdown",
   "metadata": {},
   "source": [
    "<p>Podemos realizar operações de subtração usando o operador de menos. Neste caso, o resultado é um número negativo:</p>\n"
   ]
  },
  {
   "cell_type": "code",
   "execution_count": null,
   "metadata": {},
   "outputs": [],
   "source": [
    "# Expressão de operação de subtração\n",
    "\n",
    "50 - 60"
   ]
  },
  {
   "cell_type": "markdown",
   "metadata": {},
   "source": [
    "<p>Podemos fazer multiplicação usando um asterisco:</p>\n"
   ]
  },
  {
   "cell_type": "code",
   "execution_count": null,
   "metadata": {},
   "outputs": [],
   "source": [
    "# Expressão de operação de multiplicação\n",
    "\n",
    "5 * 5"
   ]
  },
  {
   "cell_type": "markdown",
   "metadata": {},
   "source": [
    "<p>Também podemos realizar divisão com a barra (/):\n"
   ]
  },
  {
   "cell_type": "code",
   "execution_count": null,
   "metadata": {},
   "outputs": [],
   "source": [
    "# Expressão de operação de divisão\n",
    "\n",
    "25 / 5"
   ]
  },
  {
   "cell_type": "code",
   "execution_count": null,
   "metadata": {},
   "outputs": [],
   "source": [
    "# Expressão de operação de divisão\n",
    "\n",
    "25 / 6"
   ]
  },
  {
   "cell_type": "markdown",
   "metadata": {},
   "source": [
    "<p>Como visto no exercício acima, podemos usar duas barras (//) para divisão inteira, onde o resultado é arredondado para baixo:\n"
   ]
  },
  {
   "cell_type": "code",
   "execution_count": null,
   "metadata": {},
   "outputs": [],
   "source": [
    "# Expressão de operação de divisão inteira\n",
    "\n",
    "25 // 5"
   ]
  },
  {
   "cell_type": "code",
   "execution_count": null,
   "metadata": {},
   "outputs": [],
   "source": [
    "# Expressão de operação de divisão inteira\n",
    "\n",
    "25 // 6"
   ]
  },
  {
   "cell_type": "markdown",
   "metadata": {},
   "source": [
    "<p>Vamos escrever uma expressão que calcula quantas horas existem em 160 minutos:\n"
   ]
  },
  {
   "cell_type": "code",
   "execution_count": null,
   "metadata": {},
   "outputs": [],
   "source": [
    "# Escreva seu código abaixo. Não se esqueça de pressionar Shift+Enter para executar a célula\n",
    "160//60 "
   ]
  },
  {
   "cell_type": "markdown",
   "metadata": {},
   "source": [
    "<p>Python segue convenções matemáticas bem aceitas ao avaliar expressões matemáticas. No exemplo a seguir, Python soma 30 ao resultado da multiplicação (ou seja, 120).\n"
   ]
  },
  {
   "cell_type": "code",
   "execution_count": null,
   "metadata": {},
   "outputs": [],
   "source": [
    "# Expressão matemática\n",
    "\n",
    "30 + 2 * 60"
   ]
  },
  {
   "cell_type": "markdown",
   "metadata": {},
   "source": [
    "<p>E assim como na matemática, expressões entre parênteses têm prioridade. Assim, o seguinte multiplica 32 por 60.\n"
   ]
  },
  {
   "cell_type": "code",
   "execution_count": null,
   "metadata": {},
   "outputs": [],
   "source": [
    "# Expressão matemática\n",
    "\n",
    "(30 + 2) * 60"
   ]
  },
  {
   "cell_type": "markdown",
   "metadata": {},
   "source": [
    "### Variáveis\n"
   ]
  },
  {
   "cell_type": "markdown",
   "metadata": {},
   "source": [
    "<p>Assim como na maioria das linguagens de programação, podemos armazenar valores em <i>variáveis</i>, para usá-los mais tarde. Por exemplo:</p>\n"
   ]
  },
  {
   "cell_type": "code",
   "execution_count": null,
   "metadata": {},
   "outputs": [],
   "source": [
    "# Armazenar valor em uma variável\n",
    "\n",
    "x = 43 + 60 + 16 + 41"
   ]
  },
  {
   "cell_type": "markdown",
   "metadata": {},
   "source": [
    "<p>Para ver o valor de <code>x</code> em um Notebook, podemos simplesmente colocá-lo na última linha de uma célula:</p>\n"
   ]
  },
  {
   "cell_type": "code",
   "execution_count": null,
   "metadata": {},
   "outputs": [],
   "source": [
    "# Exibir o valor na variável\n",
    "\n",
    "x"
   ]
  },
  {
   "cell_type": "markdown",
   "metadata": {},
   "source": [
    "<p>Também podemos realizar operações com <code>x</code> e salvar o resultado em uma nova variável:</p>\n"
   ]
  },
  {
   "cell_type": "code",
   "execution_count": null,
   "metadata": {},
   "outputs": [],
   "source": [
    "# Usar outra variável para armazenar o resultado da operação entre variável e valor\n",
    "\n",
    "y = x / 60\n",
    "y"
   ]
  },
  {
   "cell_type": "markdown",
   "metadata": {},
   "source": [
    "<p>Se atribuirmos um valor a uma variável existente, o novo valor substituirá o valor anterior:</p>\n"
   ]
  },
  {
   "cell_type": "code",
   "execution_count": null,
   "metadata": {},
   "outputs": [],
   "source": [
    "# Substituir variável com novo valor\n",
    "\n",
    "x = x / 60\n",
    "x"
   ]
  },
  {
   "cell_type": "markdown",
   "metadata": {},
   "source": [
    "<p>É uma boa prática usar nomes de variáveis significativos, para que você e outras pessoas possam entender o código com mais facilidade:</p>\n"
   ]
  },
  {
   "cell_type": "code",
   "execution_count": null,
   "metadata": {},
   "outputs": [],
   "source": [
    "# Nomear as variáveis de forma significativa\n",
    "\n",
    "total_min = 43 + 42 + 57 # Duração total dos álbuns em minutos\n",
    "total_min"
   ]
  },
  {
   "cell_type": "code",
   "execution_count": null,
   "metadata": {},
   "outputs": [],
   "source": [
    "# Nomear as variáveis de forma significativa\n",
    "\n",
    "total_hours = total_min / 60 # Duração total dos álbuns em horas\n",
    "total_hours"
   ]
  },
  {
   "cell_type": "markdown",
   "metadata": {},
   "source": [
    "<p>Nas células acima, somamos a duração de três álbuns em minutos e armazenamos em <code>total_min</code>. Em seguida, dividimos por 60 para calcular a duração total <code>total_hours</code> em horas. Você também pode fazer tudo de uma vez em uma única expressão, desde que use parênteses para somar a duração dos álbuns antes de dividir, como mostrado abaixo.</p>\n"
   ]
  },
  {
   "cell_type": "code",
   "execution_count": null,
   "metadata": {},
   "outputs": [],
   "source": [
    "# Expressão complicada\n",
    "\n",
    "total_hours = (43 + 42 + 57) / 60  # Total de horas em uma única expressão\n",
    "total_hours"
   ]
  },
  {
   "cell_type": "markdown",
   "metadata": {},
   "source": [
    "<p>Se preferir ter o total de horas como um número inteiro, você pode substituir a divisão de ponto flutuante pela divisão inteira (ou seja, <code>//</code>).</p>\n"
   ]
  },
  {
   "cell_type": "markdown",
   "metadata": {},
   "source": [
    "### Exercício: Expressões no Python\n"
   ]
  },
  {
   "cell_type": "markdown",
   "metadata": {},
   "source": [
    "Escreva uma expressão para somar 30 e 20 e subtrair 40\n"
   ]
  },
  {
   "cell_type": "code",
   "execution_count": null,
   "metadata": {},
   "outputs": [],
   "source": [
    "# Escreva seu código abaixo. Não se esqueça de pressionar Shift+Enter para executar a célula"
   ]
  },
  {
   "cell_type": "markdown",
   "metadata": {},
   "source": [
    "<details><summary>Clique aqui para ver a solução</summary>\n",
    "\n",
    "```python\n",
    "\n",
    "30+20-40\n",
    "# This will print 10\n",
    "\n",
    "```\n",
    "\n",
    "</details>\n"
   ]
  },
  {
   "cell_type": "markdown",
   "metadata": {},
   "source": [
    "Escreva uma expressão para subtrair 5 de 55 e dividir o resultado por 10\n"
   ]
  },
  {
   "cell_type": "code",
   "execution_count": null,
   "metadata": {},
   "outputs": [],
   "source": [
    "# Escreva seu código abaixo. Não se esqueça de pressionar Shift+Enter para executar a célula"
   ]
  },
  {
   "cell_type": "markdown",
   "metadata": {},
   "source": [
    "<details><summary>Clique aqui para ver a solução</summary>\n",
    "\n",
    "```python\n",
    "\n",
    "(55-5)/10\n",
    "# This will print 5.0\n",
    "\n",
    "```\n",
    "\n",
    "</details>\n"
   ]
  },
  {
   "cell_type": "markdown",
   "metadata": {},
   "source": [
    "Escreva uma expressão para multiplicar 6 por 10 e dividir o resultado por 12\n"
   ]
  },
  {
   "cell_type": "code",
   "execution_count": null,
   "metadata": {},
   "outputs": [],
   "source": [
    "# Escreva seu código abaixo. Não se esqueça de pressionar Shift+Enter para executar a célula"
   ]
  },
  {
   "cell_type": "markdown",
   "metadata": {},
   "source": [
    "<details><summary>Clique aqui para ver a solução</summary>\n",
    "\n",
    "```python\n",
    "\n",
    "(6*10)/12\n",
    "# This will print 5.0\n",
    "\n",
    "```\n",
    "\n",
    "</details>\n"
   ]
  },
  {
   "cell_type": "markdown",
   "metadata": {},
   "source": [
    "### Exercício: Variáveis no Python\n"
   ]
  },
  {
   "cell_type": "markdown",
   "metadata": {},
   "source": [
    "<p>Qual é o valor de <code>x</code> onde <code>x = 3 + 2 * 2</code></p>\n"
   ]
  },
  {
   "cell_type": "code",
   "execution_count": null,
   "metadata": {},
   "outputs": [],
   "source": [
    "# Escreva seu código abaixo. Não se esqueça de pressionar Shift+Enter para executar a célula"
   ]
  },
  {
   "cell_type": "markdown",
   "metadata": {},
   "source": [
    "<details><summary>Clique aqui para ver a solução</summary>\n",
    "\n",
    "```python\n",
    "x = 3 + 2 * 2\n",
    "x\n",
    "# This will print 7\n",
    "\n",
    "```\n",
    "\n",
    "</details>\n"
   ]
  },
  {
   "cell_type": "markdown",
   "metadata": {},
   "source": [
    "<p>Qual é o valor de <code>y</code> onde <code>y = (3 + 2) * 2</code>?</p>\n"
   ]
  },
  {
   "cell_type": "code",
   "execution_count": null,
   "metadata": {},
   "outputs": [],
   "source": [
    "# Escreva seu código abaixo. Não se esqueça de pressionar Shift+Enter para executar a célula"
   ]
  },
  {
   "cell_type": "markdown",
   "metadata": {},
   "source": [
    "<details><summary>Clique aqui para ver a solução</summary>\n",
    "\n",
    "```python\n",
    "\n",
    "y = (3 + 2) * 2\n",
    "y\n",
    "# This will print 10\n",
    "\n",
    "```\n",
    "\n",
    "</details>\n"
   ]
  },
  {
   "cell_type": "markdown",
   "metadata": {},
   "source": [
    "<p>Qual é o valor de <code>z</code> onde <code>z = x + y</code>?</p>\n"
   ]
  },
  {
   "cell_type": "code",
   "execution_count": null,
   "metadata": {},
   "outputs": [],
   "source": [
    "# Escreva seu código abaixo. Não se esqueça de pressionar Shift+Enter para executar a célula"
   ]
  },
  {
   "cell_type": "markdown",
   "metadata": {},
   "source": [
    "<details><summary>Clique aqui para ver a solução</summary>\n",
    "\n",
    "```python\n",
    "\n",
    "z = x+y \n",
    "z\n",
    "# This will print 17\n",
    "\n",
    "```\n",
    "\n",
    "</details>\n"
   ]
  },
  {
   "cell_type": "markdown",
   "metadata": {},
   "source": [
    "<hr>\n",
    "<p>Parabéns, você completou este laboratório!</p>\n",
    "<hr>\n"
   ]
  },
  {
   "cell_type": "markdown",
   "metadata": {},
   "source": [
    "## Autor\n",
    "\n",
    "<a href=\"https://linktr.ee/jeffersonspeck\" target=\"_blank\">Jefferson Rodrigo Speck</a>\n",
    "\n",
    "## <h3 align=\"center\"> © Este conteúdo não pode ser reproduzido sem autorização do autor <h3/>\n"
   ]
  }
 ],
 "metadata": {
  "kernelspec": {
   "display_name": "Python (Pyodide)",
   "language": "python",
   "name": "python"
  },
  "language_info": {
   "codemirror_mode": {
    "name": "python",
    "version": 3
   },
   "file_extension": ".py",
   "mimetype": "text/x-python",
   "name": "python",
   "nbconvert_exporter": "python",
   "pygments_lexer": "ipython3",
   "version": "3.8"
  },
  "prev_pub_hash": "38315f83c6ccfe0ea1405ea98829655fbe1d562d8f700325e229ba41968a231d"
 },
 "nbformat": 4,
 "nbformat_minor": 4
}

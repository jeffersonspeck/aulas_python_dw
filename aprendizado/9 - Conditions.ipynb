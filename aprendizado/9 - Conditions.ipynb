{
  "cells": [
    {
      "cell_type": "markdown",
      "metadata": {},
      "source": [
        "# Condições e Ramificações\n",
        "\n",
        "Tempo estimado: **20** minutos\n",
        "\n",
        "## Objetivos\n",
        "\n",
        "Após concluir este laboratório, você será capaz de:\n",
        "\n",
        "* trabalhar com declarações condicionais em Python, incluindo operadores e ramificações.\n"
      ]
    },
    {
      "cell_type": "markdown",
      "metadata": {},
      "source": [
        "<h2>Sumário</h2>\n",
        "<div class=\"alert alert-block\" style=\"margin-top: 20px\">\n",
        "    <ul>\n",
        "        <li>\n",
        "            <a href=\"#Condition-Statements\">Declarações Condicionais</a>\n",
        "            <ul>\n",
        "                <li><a href=\"#Comparison-Operators\">Operadores de Comparação</a></li>\n",
        "                <li><a href=\"#Branching\">Ramificação</a></li>\n",
        "                <li><a href=\"#Logical-operators\">Operadores Lógicos</a></li>\n",
        "            </ul>\n",
        "        </li>\n",
        "        <li>\n",
        "            <a href=\"#Quiz-on-Condition-Statement\">Quiz sobre Declarações Condicionais</a>\n",
        "        </li>\n",
        "    </ul>\n",
        "\n",
        "</div>\n",
        "\n",
        "<hr>\n"
      ]
    },
    {
      "cell_type": "markdown",
      "metadata": {},
      "source": [
        "## Declarações Condicionais\n"
      ]
    },
    {
      "cell_type": "markdown",
      "metadata": {},
      "source": [
        "### Operadores de Comparação\n"
      ]
    },
    {
      "cell_type": "markdown",
      "metadata": {},
      "source": [
        "Operações de comparação confrontam um valor ou operando e, com base em uma condição, produzem um valor Booleano. Ao comparar dois valores, você pode utilizar estes operadores:\n",
        "\n",
        "<ul>\n",
        "    <li>igual: <b>==</b></li>\n",
        "    <li>diferente: <b>!=</b></li>\n",
        "    <li>maior que: <b>></b></li>\n",
        "    <li>menor que: <b>&lt;</b></li>\n",
        "    <li>maior ou igual a: <b>>=</b></li>\n",
        "    <li>menor ou igual a: <b>&lt;=</b></li>\n",
        "</ul>\n"
      ]
    },
    {
      "cell_type": "markdown",
      "metadata": {},
      "source": [
        "Vamos atribuir à <code>a</code> o valor 5. Use o operador de igualdade, denotado por dois sinais de igual <b>==</b>, para determinar se dois valores são iguais. O exemplo abaixo compara a variável <code>a</code> com 6.\n"
      ]
    },
    {
      "cell_type": "code",
      "execution_count": 5,
      "metadata": {},
      "outputs": [
        {
          "name": "stdout",
          "output_type": "stream",
          "text": [
            "nao entrou\n"
          ]
        }
      ],
      "source": [
        "# Condition Equal\n",
        "\n",
        "a = 5\n",
        "a == 6\n",
        "\n",
        "if (a >= 10):\n",
        "    print(\"teste\")\n",
        "else:\n",
        "    print(\"nao entrou\")\n"
      ]
    },
    {
      "cell_type": "markdown",
      "metadata": {},
      "source": [
        "O resultado é <b>False</b>, pois 5 não é igual a 6.\n"
      ]
    },
    {
      "cell_type": "markdown",
      "metadata": {},
      "source": [
        "Considere o seguinte operador de comparação: <code>i > 5</code>. Se o valor do operando à esquerda, neste caso a variável <b>i</b>, for maior que o valor do operando à direita, neste caso 5, então a condição é <b>True</b>. Caso contrário, a condição é <b>False</b>. Se <b>i</b> for igual a 6, já que 6 é maior que 5, o resultado será <b>True</b>.\n"
      ]
    },
    {
      "cell_type": "code",
      "execution_count": 6,
      "metadata": {},
      "outputs": [
        {
          "data": {
            "text/plain": [
              "True"
            ]
          },
          "execution_count": 6,
          "metadata": {},
          "output_type": "execute_result"
        }
      ],
      "source": [
        "# Greater than Sign\n",
        "\n",
        "i = 6\n",
        "i > 5"
      ]
    },
    {
      "cell_type": "markdown",
      "metadata": {},
      "source": [
        "Defina <code>i = 2</code>. A condição é False, pois 2 não é maior que 5:\n"
      ]
    },
    {
      "cell_type": "code",
      "execution_count": 7,
      "metadata": {},
      "outputs": [
        {
          "data": {
            "text/plain": [
              "False"
            ]
          },
          "execution_count": 7,
          "metadata": {},
          "output_type": "execute_result"
        }
      ],
      "source": [
        "# Greater than Sign\n",
        "\n",
        "i = 2\n",
        "i > 5"
      ]
    },
    {
      "cell_type": "markdown",
      "metadata": {},
      "source": [
        "Vamos exibir alguns valores para <code>i</code> na figura. Os valores maiores que 5 aparecerão em verde e os demais em vermelho. A região verde representa onde a condição é **True** e a região vermelha, onde a condição é **False**. Se o valor de <code>i</code> for 2, obtemos **False**, pois 2 está na região vermelha. Da mesma forma, se o valor de <code>i</code> for 6, obtemos **True**, pois a condição se enquadra na região verde.\n"
      ]
    },
    {
      "cell_type": "markdown",
      "metadata": {},
      "source": [
        "<img src=\"https://cf-courses-data.s3.us.cloud-object-storage.appdomain.cloud/IBMDeveloperSkillsNetwork-PY0101EN-SkillsNetwork/labs/Module%203/images/CondsGreater.gif\" width=\"650\">\n"
      ]
    },
    {
      "cell_type": "markdown",
      "metadata": {},
      "source": [
        "O teste de desigualdade utiliza um ponto de exclamação antes do sinal de igual; se dois operandos não são iguais, a condição torna-se **True**. Por exemplo, a condição a seguir produzirá **True** enquanto o valor de <code>i</code> não for igual a 6:\n"
      ]
    },
    {
      "cell_type": "code",
      "execution_count": 8,
      "metadata": {},
      "outputs": [
        {
          "data": {
            "text/plain": [
              "True"
            ]
          },
          "execution_count": 8,
          "metadata": {},
          "output_type": "execute_result"
        }
      ],
      "source": [
        "# Inequality Sign\n",
        "\n",
        "i = 2\n",
        "i != 6"
      ]
    },
    {
      "cell_type": "markdown",
      "metadata": {},
      "source": [
        "Quando <code>i</code> é igual a 6, a expressão de desigualdade produz <b>False</b>.\n"
      ]
    },
    {
      "cell_type": "code",
      "execution_count": 9,
      "metadata": {},
      "outputs": [
        {
          "data": {
            "text/plain": [
              "False"
            ]
          },
          "execution_count": 9,
          "metadata": {},
          "output_type": "execute_result"
        }
      ],
      "source": [
        "# Inequality Sign\n",
        "\n",
        "i = 6\n",
        "i != 6"
      ]
    },
    {
      "cell_type": "markdown",
      "metadata": {},
      "source": [
        "Veja a linha numérica abaixo. Quando a condição é **True**, os números correspondentes são marcados em verde; quando a condição é **False**, o número correspondente é marcado em vermelho. Se definirmos <code>i</code> como 2, o operador é verdadeiro, já que 2 está na região verde. Se definirmos <code>i</code> como 6, obtemos **False**, pois a condição se enquadra na região vermelha.\n"
      ]
    },
    {
      "cell_type": "markdown",
      "metadata": {},
      "source": [
        "<img src=\"https://cf-courses-data.s3.us.cloud-object-storage.appdomain.cloud/IBMDeveloperSkillsNetwork-PY0101EN-SkillsNetwork/labs/Module%203/images/CondsIneq.gif\" width=\"650\">\n"
      ]
    },
    {
      "cell_type": "markdown",
      "metadata": {},
      "source": [
        "Podemos aplicar os mesmos métodos em strings. Por exemplo, podemos usar um operador de igualdade em duas strings diferentes. Como as strings não são iguais, o resultado será **False**.\n"
      ]
    },
    {
      "cell_type": "code",
      "execution_count": 11,
      "metadata": {},
      "outputs": [
        {
          "data": {
            "text/plain": [
              "True"
            ]
          },
          "execution_count": 11,
          "metadata": {},
          "output_type": "execute_result"
        }
      ],
      "source": [
        "# Use Equality sign to compare the strings\n",
        "\n",
        "\"ACDC\" != \"The Bodyguard\""
      ]
    },
    {
      "cell_type": "markdown",
      "metadata": {},
      "source": [
        "Se usarmos o operador de desigualdade, o resultado será **True**, pois as strings não são iguais.\n"
      ]
    },
    {
      "cell_type": "code",
      "execution_count": null,
      "metadata": {},
      "outputs": [],
      "source": [
        "# Use Inequality sign to compare the strings\n",
        "\n",
        "\"ACDC\" != \"The Bodyguard\""
      ]
    },
    {
      "cell_type": "markdown",
      "metadata": {},
      "source": [
        "A operação de desigualdade também é utilizada para comparar letras, palavras ou símbolos de acordo com o valor ASCII. O valor decimal apresentado na tabela a seguir representa a ordem do caractere:\n"
      ]
    },
    {
      "cell_type": "markdown",
      "metadata": {},
      "source": [
        "<style type=\"text/css\">\n",
        ".tg  {border-collapse:collapse;border-spacing:0;}\n",
        ".tg td{border-color:black;border-style:solid;border-width:1px;font-family:Arial, sans-serif;font-size:14px;\n",
        "  overflow:hidden;padding:10px 5px;word-break:normal;}\n",
        ".tg th{border-color:black;border-style:solid;border-width:1px;font-family:Arial, sans-serif;font-size:14px;\n",
        "  font-weight:normal;overflow:hidden;padding:10px 5px;word-break:normal;}\n",
        ".tg .tg-baqh{text-align:center;vertical-align:top}\n",
        ".tg .tg-7geq{background-color:#ffffc7;text-align:center;vertical-align:top}\n",
        ".tg .tg-1cln{background-color:#ffcc67;font-size:100%;font-weight:bold;text-align:center;vertical-align:top}\n",
        ".tg .tg-xozw{background-color:#ffcc67;font-weight:bold;text-align:center;vertical-align:top}\n",
        "</style>\n",
        "\n",
        "<table class=\"tg\">\n",
        "<thead>\n",
        "  <tr>\n",
        "    <th class=\"tg-1cln\">Caractere</th>\n",
        "    <th class=\"tg-xozw\">ASCII</th>\n",
        "    <th class=\"tg-xozw\">Caractere</th>\n",
        "    <th class=\"tg-xozw\">ASCII</th>\n",
        "    <th class=\"tg-xozw\">Caractere</th>\n",
        "    <th class=\"tg-xozw\">ASCII</th>\n",
        "    <th class=\"tg-xozw\">Caractere</th>\n",
        "    <th class=\"tg-xozw\">ASCII</th>\n",
        "  </tr>\n",
        "</thead>\n",
        "<tbody>\n",
        "  <tr>\n",
        "    <td class=\"tg-7geq\">A</td>\n",
        "    <td class=\"tg-baqh\">65</td>\n",
        "    <td class=\"tg-7geq\">N</td>\n",
        "    <td class=\"tg-baqh\">78</td>\n",
        "    <td class=\"tg-7geq\">a</td>\n",
        "    <td class=\"tg-baqh\">97</td>\n",
        "    <td class=\"tg-7geq\">n</td>\n",
        "    <td class=\"tg-baqh\">110</td>\n",
        "  </tr>\n",
        "  <tr>\n",
        "    <td class=\"tg-7geq\">B</td>\n",
        "    <td class=\"tg-baqh\">66</td>\n",
        "    <td class=\"tg-7geq\">O</td>\n",
        "    <td class=\"tg-baqh\">79</td>\n",
        "    <td class=\"tg-7geq\">b</td>\n",
        "    <td class=\"tg-baqh\">98</td>\n",
        "    <td class=\"tg-7geq\">o</td>\n",
        "    <td class=\"tg-baqh\">111</td>\n",
        "  </tr>\n",
        "  <tr>\n",
        "    <td class=\"tg-7geq\">C</td>\n",
        "    <td class=\"tg-baqh\">67</td>\n",
        "    <td class=\"tg-7geq\">P</td>\n",
        "    <td class=\"tg-baqh\">80</td>\n",
        "    <td class=\"tg-7geq\">c</td>\n",
        "    <td class=\"tg-baqh\">99</td>\n",
        "    <td class=\"tg-7geq\">p</td>\n",
        "    <td class=\"tg-baqh\">112</td>\n",
        "  </tr>\n",
        "  <tr>\n",
        "    <td class=\"tg-7geq\">D</td>\n",
        "    <td class=\"tg-baqh\">68</td>\n",
        "    <td class=\"tg-7geq\">Q</td>\n",
        "    <td class=\"tg-baqh\">81</td>\n",
        "    <td class=\"tg-7geq\">d</td>\n",
        "    <td class=\"tg-baqh\">100</td>\n",
        "    <td class=\"tg-7geq\">q</td>\n",
        "    <td class=\"tg-baqh\">113</td>\n",
        "  </tr>\n",
        "  <tr>\n",
        "    <td class=\"tg-7geq\">E</td>\n",
        "    <td class=\"tg-baqh\">69</td>\n",
        "    <td class=\"tg-7geq\">R</td>\n",
        "    <td class=\"tg-baqh\">82</td>\n",
        "    <td class=\"tg-7geq\">e</td>\n",
        "    <td class=\"tg-baqh\">101</td>\n",
        "    <td class=\"tg-7geq\">r</td>\n",
        "    <td class=\"tg-baqh\">114</td>\n",
        "  </tr>\n",
        "  <tr>\n",
        "    <td class=\"tg-7geq\">F</td>\n",
        "    <td class=\"tg-baqh\">70</td>\n",
        "    <td class=\"tg-7geq\">S</td>\n",
        "    <td class=\"tg-baqh\">83</td>\n",
        "    <td class=\"tg-7geq\">f</td>\n",
        "    <td class=\"tg-baqh\">102</td>\n",
        "    <td class=\"tg-7geq\">s</td>\n",
        "    <td class=\"tg-baqh\">115</td>\n",
        "  </tr>\n",
        "  <tr>\n",
        "    <td class=\"tg-7geq\">G</td>\n",
        "    <td class=\"tg-baqh\">71</td>\n",
        "    <td class=\"tg-7geq\">T</td>\n",
        "    <td class=\"tg-baqh\">84</td>\n",
        "    <td class=\"tg-7geq\">g</td>\n",
        "    <td class=\"tg-baqh\">103</td>\n",
        "    <td class=\"tg-7geq\">t</td>\n",
        "    <td class=\"tg-baqh\">116</td>\n",
        "  </tr>\n",
        "  <tr>\n",
        "    <td class=\"tg-7geq\">H</td>\n",
        "    <td class=\"tg-baqh\">72</td>\n",
        "    <td class=\"tg-7geq\">U</td>\n",
        "    <td class=\"tg-baqh\">85</td>\n",
        "    <td class=\"tg-7geq\">h</td>\n",
        "    <td class=\"tg-baqh\">104</td>\n",
        "    <td class=\"tg-7geq\">u</td>\n",
        "    <td class=\"tg-baqh\">117</td>\n",
        "  </tr>\n",
        "  <tr>\n",
        "    <td class=\"tg-7geq\">I</td>\n",
        "    <td class=\"tg-baqh\">73</td>\n",
        "    <td class=\"tg-7geq\">V</td>\n",
        "    <td class=\"tg-baqh\">86</td>\n",
        "    <td class=\"tg-7geq\">i</td>\n",
        "    <td class=\"tg-baqh\">105</td>\n",
        "    <td class=\"tg-7geq\">v</td>\n",
        "    <td class=\"tg-baqh\">118</td>\n",
        "  </tr>\n",
        "  <tr>\n",
        "    <td class=\"tg-7geq\">J</td>\n",
        "    <td class=\"tg-baqh\">74</td>\n",
        "    <td class=\"tg-7geq\">W</td>\n",
        "    <td class=\"tg-baqh\">87</td>\n",
        "    <td class=\"tg-7geq\">j</td>\n",
        "    <td class=\"tg-baqh\">106</td>\n",
        "    <td class=\"tg-7geq\">w</td>\n",
        "    <td class=\"tg-baqh\">119</td>\n",
        "  </tr>\n",
        "  <tr>\n",
        "    <td class=\"tg-7geq\">K</td>\n",
        "    <td class=\"tg-baqh\">75</td>\n",
        "    <td class=\"tg-7geq\">X</td>\n",
        "    <td class=\"tg-baqh\">88</td>\n",
        "    <td class=\"tg-7geq\">k</td>\n",
        "    <td class=\"tg-baqh\">107</td>\n",
        "    <td class=\"tg-7geq\">x</td>\n",
        "    <td class=\"tg-baqh\">120</td>\n",
        "  </tr>\n",
        "  <tr>\n",
        "    <td class=\"tg-7geq\">L</td>\n",
        "    <td class=\"tg-baqh\">76</td>\n",
        "    <td class=\"tg-7geq\">Y</td>\n",
        "    <td class=\"tg-baqh\">89</td>\n",
        "    <td class=\"tg-7geq\">l</td>\n",
        "    <td class=\"tg-baqh\">108</td>\n",
        "    <td class=\"tg-7geq\">y</td>\n",
        "    <td class=\"tg-baqh\">121</td>\n",
        "  </tr>\n",
        "  <tr>\n",
        "    <td class=\"tg-7geq\">M</td>\n",
        "    <td class=\"tg-baqh\">77</td>\n",
        "    <td class=\"tg-7geq\">Z</td>\n",
        "    <td class=\"tg-baqh\">90</td>\n",
        "    <td class=\"tg-7geq\">m</td>\n",
        "    <td class=\"tg-baqh\">109</td>\n",
        "    <td class=\"tg-7geq\">z</td>\n",
        "    <td class=\"tg-baqh\">122</td>\n",
        "  </tr>\n",
        "</tbody>\n",
        "</table>\n"
      ]
    },
    {
      "cell_type": "markdown",
      "metadata": {},
      "source": [
        "Por exemplo, o código ASCII para <b>!</b> é 33, enquanto o código ASCII para <b>+</b> é 43. Portanto, <b>+</b> é maior que <b>!</b> pois 43 é maior que 33.\n"
      ]
    },
    {
      "cell_type": "markdown",
      "metadata": {},
      "source": [
        "Da mesma forma, na tabela acima vemos que o valor para <b>A</b> é 65 e o valor para <b>B</b> é 66, portanto:\n"
      ]
    },
    {
      "cell_type": "code",
      "execution_count": 12,
      "metadata": {},
      "outputs": [
        {
          "data": {
            "text/plain": [
              "True"
            ]
          },
          "execution_count": 12,
          "metadata": {},
          "output_type": "execute_result"
        }
      ],
      "source": [
        "# Compare characters\n",
        "\n",
        "'B' > 'A'"
      ]
    },
    {
      "cell_type": "markdown",
      "metadata": {},
      "source": [
        "Quando há várias letras, a primeira tem precedência na ordenação:\n"
      ]
    },
    {
      "cell_type": "code",
      "execution_count": 13,
      "metadata": {},
      "outputs": [
        {
          "data": {
            "text/plain": [
              "True"
            ]
          },
          "execution_count": 13,
          "metadata": {},
          "output_type": "execute_result"
        }
      ],
      "source": [
        "# Compare characters\n",
        "\n",
        "'BA' > 'AB'"
      ]
    },
    {
      "cell_type": "markdown",
      "metadata": {},
      "source": [
        "<b>Nota</b>: Letras maiúsculas possuem códigos ASCII diferentes das minúsculas, o que significa que a comparação entre letras em Python diferencia maiúsculas de minúsculas.\n"
      ]
    },
    {
      "cell_type": "markdown",
      "metadata": {},
      "source": [
        "### Ramificação\n"
      ]
    },
    {
      "cell_type": "markdown",
      "metadata": {},
      "source": [
        "A ramificação permite executar declarações diferentes para entradas distintas. É útil pensar em uma declaração **if** como uma sala trancada: se a condição for **True**, podemos entrar e o programa executa tarefas pré-definidas; se for **False**, essa tarefa é ignorada.\n",
        "\n",
        "Por exemplo, considere o retângulo azul que representa um show do ACDC. Se o indivíduo tiver mais de 18 anos, ele pode entrar no show do ACDC. Se tiver 18 anos ou menos, não poderá entrar.\n",
        "\n",
        "Podemos usar as condições aprendidas anteriormente na declaração **if**. A sintaxe é simples: <code>if <i>condição</i>:</code>. Após os dois-pontos, inicie as tarefas que devem ser executadas com um recuo. As linhas indentadas serão executadas apenas se a condição for **True**; o recuo termina a execução dessas tarefas.\n",
        "\n",
        "No exemplo abaixo, o código <code>print(\"you can enter\")</code> é executado apenas se a variável <code>age</code> for maior que 18; já <code>print(\"move on\")</code> será executado independentemente da condição.\n"
      ]
    },
    {
      "cell_type": "code",
      "execution_count": 15,
      "metadata": {},
      "outputs": [
        {
          "name": "stdout",
          "output_type": "stream",
          "text": [
            "move on\n"
          ]
        }
      ],
      "source": [
        "# If statement example\n",
        "\n",
        "#age = 19\n",
        "age = 18\n",
        "\n",
        "# expressão que pode ser verdadeira ou falsa\n",
        "if age > 18:\n",
        "    \n",
        "    # dentro do recuo, o código é executado se a condição for verdadeira\n",
        "    print(\"you can enter\")\n",
        "\n",
        "# As instruções após o if são executadas independentemente da condição\n",
        "print(\"move on\")"
      ]
    },
    {
      "cell_type": "markdown",
      "metadata": {},
      "source": [
        "<i>Tente descomentar a variável age</i>\n"
      ]
    },
    {
      "cell_type": "markdown",
      "metadata": {},
      "source": [
        "É útil utilizar o diagrama a seguir para ilustrar o processo. À esquerda, vemos o que acontece quando a condição é <b>True</b>: a pessoa entra no show do ACDC (o código indentado é executado) e, em seguida, prossegue. À direita, se a condição é <b>False</b>, a pessoa não tem acesso, mas o restante do código é executado.\n"
      ]
    },
    {
      "cell_type": "markdown",
      "metadata": {},
      "source": [
        "<img src=\"https://cf-courses-data.s3.us.cloud-object-storage.appdomain.cloud/IBMDeveloperSkillsNetwork-PY0101EN-SkillsNetwork/labs/Module%203/images/CondsIf.gif\" width=\"650\">\n"
      ]
    },
    {
      "cell_type": "markdown",
      "metadata": {},
      "source": [
        "A declaração <code>else</code> executa um bloco de código se nenhuma das condições anteriores for <b>True</b>. Utilizando a analogia do show do ACDC: se o usuário tiver 17 anos, não pode ir ao show do ACDC, mas pode assistir ao show do Meat Loaf.\n",
        "A sintaxe do <code>else</code> é: <code>else:</code> (não há condição após ele).\n",
        "Experimente alterar os valores de <code>age</code> para ver o que acontece:\n"
      ]
    },
    {
      "cell_type": "code",
      "execution_count": null,
      "metadata": {},
      "outputs": [
        {
          "name": "stdout",
          "output_type": "stream",
          "text": [
            "go see Meat Loaf\n",
            "move on\n"
          ]
        }
      ],
      "source": [
        "# Else statement example\n",
        "\n",
        "age = 18\n",
        "# age = 19\n",
        "\n",
        "if age > 18:\n",
        "    print(\"you can enter\")\n",
        "else:\n",
        "    print(\"go see Meat Loaf\")\n",
        "    \n",
        "print(\"move on\")"
      ]
    },
    {
      "cell_type": "markdown",
      "metadata": {},
      "source": [
        "O processo é demonstrado abaixo: à esquerda, com <code>age</code> igual a 17 (o indivíduo assiste ao show do Meat Loaf) e à direita, com <code>age</code> igual a 19 (o indivíduo tem acesso ao show do ACDC).\n"
      ]
    },
    {
      "cell_type": "markdown",
      "metadata": {},
      "source": [
        "<img src=\"https://cf-courses-data.s3.us.cloud-object-storage.appdomain.cloud/IBMDeveloperSkillsNetwork-PY0101EN-SkillsNetwork/labs/Module%203/images/CondsElse.gif\" width=\"650\">\n"
      ]
    },
    {
      "cell_type": "markdown",
      "metadata": {},
      "source": [
        "Observe o código a seguir:\n"
      ]
    },
    {
      "cell_type": "code",
      "execution_count": 18,
      "metadata": {},
      "outputs": [
        {
          "name": "stdout",
          "output_type": "stream",
          "text": [
            "do something..\n"
          ]
        }
      ],
      "source": [
        "# Condition statement example\n",
        "\n",
        "#album_year = 1983\n",
        "album_year = 1970\n",
        "\n",
        "if album_year > 1980:\n",
        "    print(\"Album year is greater than 1980\")\n",
        "    \n",
        "print('do something..')"
      ]
    },
    {
      "cell_type": "markdown",
      "metadata": {},
      "source": [
        "Sinta-se à vontade para alterar o valor de <code>album_year</code> para outros valores -- você verá que o resultado muda!\n"
      ]
    },
    {
      "cell_type": "markdown",
      "metadata": {},
      "source": [
        "Note que o código no bloco indentado acima será executado somente se o resultado for <b>True</b>.\n"
      ]
    },
    {
      "cell_type": "markdown",
      "metadata": {},
      "source": [
        "Como antes, podemos acrescentar um bloco <code>else</code> à estrutura <code>if</code>. O código no bloco <code>else</code> será executado apenas se a condição for <b>False</b>.\n",
        "\n",
        "<b>Sintaxe:</b>\n",
        "\n",
        "if (condição):\n",
        "    # faça algo\n",
        "else:\n",
        "    # faça outra coisa\n"
      ]
    },
    {
      "cell_type": "markdown",
      "metadata": {},
      "source": [
        "Se a condição na declaração <code>if</code> for <b>False</b>, a instrução após o bloco <code>else</code> será executada. Isso é demonstrado na figura:\n"
      ]
    },
    {
      "cell_type": "markdown",
      "metadata": {},
      "source": [
        "<img src=\"https://cf-courses-data.s3.us.cloud-object-storage.appdomain.cloud/IBMDeveloperSkillsNetwork-PY0101EN-SkillsNetwork/labs/Module%203/images/CondsLogicMap.png\" width=\"650\">\n"
      ]
    },
    {
      "cell_type": "code",
      "execution_count": null,
      "metadata": {},
      "outputs": [],
      "source": [
        "# Condition statement example\n",
        "\n",
        "album_year = 1983\n",
        "#album_year = 1970\n",
        "\n",
        "if album_year > 1980:\n",
        "    print(\"Album year is greater than 1980\")\n",
        "else:\n",
        "    print(\"less than 1980\")\n",
        "\n",
        "print('do something..')"
      ]
    },
    {
      "cell_type": "markdown",
      "metadata": {},
      "source": [
        "Sinta-se à vontade para alterar o valor de <code>album_year</code> para outros valores -- você verá que o resultado muda com base neles!\n"
      ]
    },
    {
      "cell_type": "markdown",
      "metadata": {},
      "source": [
        "### Operadores Lógicos\n"
      ]
    },
    {
      "cell_type": "markdown",
      "metadata": {},
      "source": [
        "Às vezes, é necessário verificar mais de uma condição ao mesmo tempo. Por exemplo, você pode querer confirmar se duas condições são ambas <b>True</b>. Os operadores lógicos permitem combinar ou modificar condições.\n",
        "\n",
        "<ul>\n",
        "    <li><code>and</code></li>\n",
        "    <li><code>or</code></li>\n",
        "    <li><code>not</code></li>\n",
        "</ul>\n",
        "\n",
        "Esses operadores são resumidos para duas variáveis usando as seguintes tabelas verdade:\n"
      ]
    },
    {
      "cell_type": "markdown",
      "metadata": {},
      "source": [
        "<img src=\"https://cf-courses-data.s3.us.cloud-object-storage.appdomain.cloud/IBMDeveloperSkillsNetwork-PY0101EN-SkillsNetwork/labs/Module%203/images/CondsTable.png\" width=\"650\">\n"
      ]
    },
    {
      "cell_type": "markdown",
      "metadata": {},
      "source": [
        "A declaração <code>and</code> é <b>True</b> somente quando ambas as condições são verdadeiras. A declaração <code>or</code> é <b>True</b> se pelo menos uma das condições for verdadeira. A declaração <code>not</code> inverte o valor lógico.\n"
      ]
    },
    {
      "cell_type": "markdown",
      "metadata": {},
      "source": [
        "Vamos ver como determinar se um álbum foi lançado após 1979 (1979 não incluso) e antes de 1990 (1990 não incluso). Os períodos entre 1980 e 1989 satisfazem essa condição. Isso é demonstrado na figura abaixo. As áreas verdes nas linhas <strong>a</strong> e <strong>b</strong> indicam períodos onde a condição é <b>True</b>. A área verde na linha <strong>c</strong> mostra onde ambas as condições são <b>True</b>, ou seja, onde as áreas verdes se sobrepõem.\n"
      ]
    },
    {
      "cell_type": "markdown",
      "metadata": {},
      "source": [
        "<img src=\"https://cf-courses-data.s3.us.cloud-object-storage.appdomain.cloud/IBMDeveloperSkillsNetwork-PY0101EN-SkillsNetwork/labs/Module%203/images/CondsEgOne.png\" width=\"650\">\n"
      ]
    },
    {
      "cell_type": "markdown",
      "metadata": {},
      "source": [
        "O bloco de código para realizar essa verificação é o seguinte:\n"
      ]
    },
    {
      "cell_type": "code",
      "execution_count": 19,
      "metadata": {},
      "outputs": [
        {
          "name": "stdout",
          "output_type": "stream",
          "text": [
            "Album year was in between 1980 and 1989\n",
            "\n",
            "Do Stuff..\n"
          ]
        }
      ],
      "source": [
        "# Condition statement example\n",
        "\n",
        "album_year = 1980\n",
        "\n",
        "if (album_year > 1979) and (album_year < 1990):\n",
        "    print(\"Album year was in between 1980 and 1989\")\n",
        "    \n",
        "print(\"\")\n",
        "print(\"Do Stuff..\")"
      ]
    },
    {
      "cell_type": "markdown",
      "metadata": {},
      "source": [
        "Para determinar se um álbum foi lançado antes de 1980 (1979 ou antes) ou após 1989 (1990 ou depois), podemos usar uma declaração <code>or</code>. Os períodos anteriores a 1980 ou posteriores a 1989 satisfazem essa condição. Isso é demonstrado na figura a seguir: a cor verde em <strong>a</strong> e <strong>b</strong> indica os períodos onde a condição é verdadeira; a cor verde em <strong>c</strong> indica onde pelo menos uma das condições é verdadeira.\n"
      ]
    },
    {
      "cell_type": "markdown",
      "metadata": {},
      "source": [
        "<img src=\"https://cf-courses-data.s3.us.cloud-object-storage.appdomain.cloud/IBMDeveloperSkillsNetwork-PY0101EN-SkillsNetwork/labs/Module%203/images/CondsEgTwo.png\" width=\"650\">\n"
      ]
    },
    {
      "cell_type": "markdown",
      "metadata": {},
      "source": [
        "O bloco de código para realizar essa verificação é o seguinte:\n"
      ]
    },
    {
      "cell_type": "code",
      "execution_count": 21,
      "metadata": {},
      "outputs": [
        {
          "name": "stdout",
          "output_type": "stream",
          "text": [
            "Album was not made in the 1980's\n"
          ]
        }
      ],
      "source": [
        "# Condition statement example\n",
        "\n",
        "album_year = 1990#\n",
        "# ((album_year < 1980) or (album_year > 1989))\n",
        "if (album_year < 1980) or (album_year > 1989):\n",
        "    print(\"Album was not made in the 1980's\")\n",
        "else:\n",
        "    print(\"The Album was made in the 1980's\")"
      ]
    },
    {
      "cell_type": "markdown",
      "metadata": {},
      "source": [
        "A declaração <code>not</code> verifica se a condição é falsa:\n"
      ]
    },
    {
      "cell_type": "code",
      "execution_count": 23,
      "metadata": {},
      "outputs": [
        {
          "name": "stdout",
          "output_type": "stream",
          "text": [
            "Album year is not 1984\n"
          ]
        }
      ],
      "source": [
        "# Condition statement example\n",
        "\n",
        "album_year = 1983\n",
        "\n",
        "if (album_year != 1984):\n",
        "    print(\"Album year is not 1984\")"
      ]
    },
    {
      "cell_type": "markdown",
      "metadata": {},
      "source": [
        "<hr>\n"
      ]
    },
    {
      "cell_type": "markdown",
      "metadata": {},
      "source": [
        "## Quiz sobre Condições\n"
      ]
    },
    {
      "cell_type": "markdown",
      "metadata": {},
      "source": [
        "Analise um conjunto de dados contendo informações sobre atletas renomados, incluindo nomes, esportes e conquistas notáveis, para aplicar lógica condicional e técnicas de filtragem.\n"
      ]
    },
    {
      "cell_type": "markdown",
      "metadata": {},
      "source": [
        "<table border=\"1\">\n",
        "  <tr>\n",
        "    <th>Nome do Jogador</th>\n",
        "    <th>Esporte</th>\n",
        "    <th>Conquistas</th>\n",
        "  </tr>\n",
        "  <tr>\n",
        "    <td>Serena Williams</td>\n",
        "    <td>Tênis</td>\n",
        "    <td>23 Grand Slams</td>\n",
        "  </tr>\n",
        "  <tr>\n",
        "    <td>Lionel Messi</td>\n",
        "    <td>Futebol</td>\n",
        "    <td>7 Ballon d'Ors</td>\n",
        "  </tr>\n",
        "  <tr>\n",
        "    <td>Michael Phelps</td>\n",
        "    <td>Natação</td>\n",
        "    <td>23 Medalhas de Ouro</td>\n",
        "  </tr>\n",
        "  <tr>\n",
        "    <td>Usain Bolt</td>\n",
        "    <td>Atletismo</td>\n",
        "    <td>8 Medalhas de Ouro</td>\n",
        "  </tr>\n",
        "  <tr>\n",
        "    <td>Roger Federer</td>\n",
        "    <td>Tênis</td>\n",
        "    <td>20 Grand Slams</td>\n",
        "  </tr>\n",
        "  <tr>\n",
        "    <td>Cristiano Ronaldo</td>\n",
        "    <td>Futebol</td>\n",
        "    <td>5 Ballon d'Ors</td>\n",
        "  </tr>\n",
        "</table>\n"
      ]
    },
    {
      "cell_type": "markdown",
      "metadata": {},
      "source": [
        "Escreva um programa em Python para verificar se o jogador <b>Lionel Messi</b> possui mais de 10 conquistas. Se a condição for verdadeira, imprima o nome do jogador, o esporte e as conquistas; caso contrário, imprima que ele não possui mais de 10 conquistas.\n"
      ]
    },
    {
      "cell_type": "code",
      "execution_count": null,
      "metadata": {},
      "outputs": [],
      "source": [
        "# Write your code below and press Shift+Enter to execute\n"
      ]
    },
    {
      "cell_type": "markdown",
      "metadata": {},
      "source": [
        "<details><summary>Clique aqui para a solução</summary>\n",
        "    \n",
        "```python\n",
        "player_name = \"Lionel Messi\"\n",
        "sport = \"Soccer\"\n",
        "achievements = 7\n",
        "\n",
        "if achievements > 10:\n",
        "    print(f\"{player_name} plays {sport} and has {achievements} achievements.\")\n",
        "else:\n",
        "    print(f\"{player_name} does not have more than 10 achievements.\")\n",
        "```\n",
        "</details>\n"
      ]
    },
    {
      "cell_type": "markdown",
      "metadata": {},
      "source": [
        "<hr>\n"
      ]
    },
    {
      "cell_type": "markdown",
      "metadata": {},
      "source": [
        "Escreva um programa em Python para verificar se um jogador pertence ao esporte Tênis ou possui exatamente 20 conquistas. Se a condição for verdadeira, imprima uma mensagem de sucesso.\n"
      ]
    },
    {
      "cell_type": "code",
      "execution_count": null,
      "metadata": {},
      "outputs": [],
      "source": [
        "# Write your code below and press Shift+Enter to execute\n"
      ]
    },
    {
      "cell_type": "markdown",
      "metadata": {},
      "source": [
        "<details><summary>Clique aqui para a solução</summary>\n",
        "\n",
        "```python\n",
        "player_name = \"Roger Federer\"\n",
        "sport = \"Tennis\"\n",
        "achievements = 20\n",
        "\n",
        "if sport == \"Tennis\" or achievements == 20:\n",
        "    print(f\"{player_name} meets the criteria! They play {sport} and have {achievements} achievements.\")\n",
        "else:\n",
        "    print(f\"{player_name} does not meet the criteria.\")\n",
        "```\n",
        "\n",
        "</details>\n"
      ]
    },
    {
      "cell_type": "markdown",
      "metadata": {},
      "source": [
        "<hr>\n"
      ]
    },
    {
      "cell_type": "markdown",
      "metadata": {},
      "source": [
        "Escreva um programa em Python para verificar se um jogador possui menos de 10 conquistas e não joga Futebol. Imprima seus detalhes se atender aos critérios.\n"
      ]
    },
    {
      "cell_type": "code",
      "execution_count": null,
      "metadata": {},
      "outputs": [],
      "source": [
        "# Write your code below and press Shift+Enter to execute\n"
      ]
    },
    {
      "cell_type": "markdown",
      "metadata": {},
      "source": [
        "<details><summary>Clique aqui para a solução</summary>\n",
        "\n",
        "```python\n",
        "player_name = \"Usain Bolt\"\n",
        "sport = \"Athletics\"\n",
        "achievements = 8\n",
        "\n",
        "if achievements < 10 and sport != \"Soccer\":\n",
        "    print(f\"{player_name} plays {sport} and has only {achievements} achievements.\")\n",
        "else:\n",
        "    print(f\"{player_name} does not meet the criteria.\")\n",
        "```\n",
        "\n",
        "</details>\n"
      ]
    },
    {
      "cell_type": "markdown",
      "metadata": {},
      "source": [
        "<hr>\n",
        "<h2>O último exercício!</h2>\n",
        "<p>Parabéns, você concluiu sua primeira lição e laboratório prático em Python. \n",
        "<hr>\n"
      ]
    }
  ],
  "metadata": {
    "kernelspec": {
      "display_name": "Python 3",
      "language": "python",
      "name": "python3"
    },
    "language_info": {
      "codemirror_mode": {
        "name": "ipython",
        "version": 3
      },
      "file_extension": ".py",
      "mimetype": "text/x-python",
      "name": "python",
      "nbconvert_exporter": "python",
      "pygments_lexer": "ipython3",
      "version": "3.12.3"
    },
    "prev_pub_hash": "da8f68a1de30709e7ecaaf2d7121409bb49c8a2e3ad535de4d476363ecf26c7c"
  },
  "nbformat": 4,
  "nbformat_minor": 4
}

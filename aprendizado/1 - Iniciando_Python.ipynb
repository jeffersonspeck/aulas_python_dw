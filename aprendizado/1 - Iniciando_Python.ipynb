{
 "cells": [
  {
   "cell_type": "markdown",
   "metadata": {},
   "source": [
    "# Escrevendo seu primeiro código em Python\n",
    "\n",
    "\n",
    "Tempo estimado necessário: **10** minutos\n",
    "    \n",
    "\n",
    "## Objetivos\n",
    "\n",
    "Após completar este laboratório, você será capaz de:\n",
    "* escrever um código básico em Python\n",
    "\n"
   ]
  },
  {
   "cell_type": "markdown",
   "metadata": {},
   "source": [
    "## Tabela de Conteúdo\n",
    "\n",
    "- [Diga 'Olá' ao mundo em Python](#diga-ola-ao-mundo-em-python)\n",
    "  - [Qual versão do Python estamos usando?](#qual-versao-do-python-estamos-usando)\n",
    "  - [Escrevendo comentários em Python](#escrevendo-comentarios-em-python)\n",
    "  - [Erros em Python](#erros-em-python)\n",
    "  - [O Python sabe sobre seu erro antes de executar seu código?](#o-python-sabe-sobre-seu-erro-antes-de-executar-seu-codigo)\n",
    "  - [Exercício: Seu Primeiro Programa](#exercicio-seu-primeiro-programa)"
   ]
  },
  {
   "cell_type": "markdown",
   "metadata": {},
   "source": [
    "## Diga Olá ao mundo em Python\n"
   ]
  },
  {
   "cell_type": "markdown",
   "metadata": {},
   "source": [
    "Ao aprender uma nova linguagem de programação, é costume começar com um exemplo de \"olá mundo\". Por mais simples que seja, esta linha de código garante que sabemos como imprimir uma string na saída e como executar código dentro de células em um notebook."
   ]
  },
  {
   "cell_type": "markdown",
   "metadata": {},
   "source": [
    "<hr/>\n",
    "<div class=\"alert alert-success alertsuccess\" style=\"margin-top: 20px\">\n",
    "[Dica]: Para executar o código Python na célula de código abaixo, clique na célula para selecioná-la e pressione <kbd>Shift</kbd> + <kbd>Enter</kbd>.\n",
    "</div>\n",
    "<hr/>"
   ]
  },
  {
   "cell_type": "code",
   "execution_count": null,
   "metadata": {},
   "outputs": [],
   "source": [
    "# Try your first Python output\n",
    "\n",
    "print('Hello, Python!')"
   ]
  },
  {
   "cell_type": "markdown",
   "metadata": {},
   "source": [
    "Após executar a célula acima, você verá que o Python imprime <code>Hello, Python!</code>. Parabéns por executar seu primeiro código em Python!\n"
   ]
  },
  {
   "cell_type": "markdown",
   "metadata": {},
   "source": [
    "<hr/>\n",
    "<div class=\"alert alert-success alertsuccess\" style=\"margin-top: 20px\">[Dica:]<code>print()</code> é uma função. Você passou a string <code>'Hello, Python!'</code> como argumento para instruir o Python sobre o que imprimir.\n",
    "</div>\n",
    "<hr/>\n"
   ]
  },
  {
   "cell_type": "markdown",
   "metadata": {},
   "source": [
    "### Qual versão do Python estamos usando?\n"
   ]
  },
  {
   "cell_type": "markdown",
   "metadata": {},
   "source": [
    "<p>\n",
    "    Existem duas versões populares da linguagem Python em uso atualmente: Python 2 e Python 3. A comunidade Python decidiu encerrar o suporte ao Python 2 e migrar definitivamente para o Python 3. Muitas bibliotecas populares já anunciaram que não darão mais suporte ao Python 2.\n",
    "</p>\n",
    "<p>\n",
    "    Como o Python 3 é o futuro, neste curso utilizaremos apenas essa versão. Mas como sabemos se nosso notebook está sendo executado com Python 3? Podemos verificar no canto superior direito do notebook, onde estará escrito \"Python 3\".\n",
    "</p>\n",
    "<p>\n",
    "    Também podemos perguntar diretamente ao Python e obter uma resposta detalhada. Experimente executar o código a seguir:\n",
    "</p>"
   ]
  },
  {
   "cell_type": "code",
   "execution_count": null,
   "metadata": {},
   "outputs": [],
   "source": [
    "# Check the Python Version\n",
    "\n",
    "import sys\n",
    "print(sys.version)"
   ]
  },
  {
   "cell_type": "markdown",
   "metadata": {},
   "source": [
    "<hr/>\n",
    "<div class=\"alert alert-success alertsuccess\" style=\"margin-top: 20px\">[Dica:]<code>sys</code> é um módulo embutido que contém muitos parâmetros e funções específicas do sistema, incluindo a versão do Python em uso. Antes de usá-lo, devemos explicitamente <code>import</code> it.\n",
    "</div>\n",
    "<hr/>\n"
   ]
  },
  {
   "cell_type": "markdown",
   "metadata": {},
   "source": [
    "### Escrevendo comentários em Python\n"
   ]
  },
  {
   "cell_type": "markdown",
   "metadata": {},
   "source": [
    "<p>\n",
    "    Além de escrever código, é sempre uma boa prática adicionar comentários. Isso ajuda outras pessoas a entenderem o que você estava tentando fazer (a razão pela qual você escreveu determinado trecho de código). Além de auxiliar <strong>outras pessoas</strong> a compreenderem seu código, os comentários também servem como lembrete <strong>para você</strong> mesmo quando voltar a ele semanas ou meses depois.\n",
    "</p>\n",
    "<p>\n",
    "    Para escrever comentários em Python, utilize o símbolo <code>#</code> antes do comentário. Ao executar o código, o Python ignorará tudo o que estiver após o <code>#</code> na mesma linha.\n",
    "</p>"
   ]
  },
  {
   "cell_type": "code",
   "execution_count": null,
   "metadata": {},
   "outputs": [],
   "source": [
    "# Practice on writing comments\n",
    "\n",
    "print('Hello, Python!') # This line prints a string\n",
    "# print(\"Hi\")"
   ]
  },
  {
   "cell_type": "markdown",
   "metadata": {},
   "source": [
    "<p>\n",
    "    Após executar a célula acima, você deve ter percebido que <code>This line prints a string</code> não apareceu na saída, pois era um comentário (e, portanto, foi ignorado pelo Python).\n",
    "</p>\n",
    "<p>\n",
    "    A segunda linha também não foi executada porque <code>print('Hi')</code> estava precedido pelo símbolo de comentário (<code>#</code>)! Como não se trata de um comentário explicativo do programador, mas sim de uma linha de código real, podemos dizer que o programador <em>comentou</em> essa segunda linha de código.\n",
    "</p>"
   ]
  },
  {
   "cell_type": "markdown",
   "metadata": {},
   "source": [
    "### Erros em Python\n"
   ]
  },
  {
   "cell_type": "markdown",
   "metadata": {},
   "source": [
    "<p>\n",
    "    Todos cometem erros. Para muitos tipos de erros, o Python exibirá uma mensagem de erro. É importante ler atentamente essas mensagens para entender onde ocorreu o problema e como corrigi-lo.\n",
    "</p>\n",
    "<p>\n",
    "    Por exemplo, se você escrever <code>print</code> como <code>frint</code>, o Python mostrará uma mensagem de erro. Experimente:\n",
    "</p>\n"
   ]
  },
  {
   "cell_type": "code",
   "execution_count": null,
   "metadata": {},
   "outputs": [],
   "source": [
    "# Print string as error message\n",
    "\n",
    "frint(\"Hello, Python!\")"
   ]
  },
  {
   "cell_type": "markdown",
   "metadata": {},
   "source": [
    "<p>\n",
    "    A mensagem de erro informa: \n",
    "</p>\n",
    "<ol>\n",
    "    <li>onde o erro ocorreu (o que é ainda mais útil em células grandes de notebook ou em scripts); e</li>\n",
    "    <li>qual foi o tipo de erro (<code>NameError</code>).</li>\n",
    "</ol>\n",
    "<p>\n",
    "    Neste caso, o Python tentou executar a função <code>frint</code>, mas não conseguiu determinar o que é <code>frint</code>, pois não se trata de uma função interna (built-in) nem foi definida previamente por nós.\n",
    "</p>"
   ]
  },
  {
   "cell_type": "markdown",
   "metadata": {},
   "source": [
    "<p>\n",
    "    Você notará que, se cometermos um erro diferente — por exemplo, esquecer de fechar uma string — obteremos outro tipo de erro (neste caso, um <code>SyntaxError</code>). Experimente abaixo:\n",
    "</p>"
   ]
  },
  {
   "cell_type": "code",
   "execution_count": null,
   "metadata": {},
   "outputs": [],
   "source": [
    "# Try to see built-in error message\n",
    "\n",
    "print(\"Hello, Python!)"
   ]
  },
  {
   "cell_type": "markdown",
   "metadata": {},
   "source": [
    "### O Python sabe sobre seu erro antes de executar seu código?\n"
   ]
  },
  {
   "cell_type": "markdown",
   "metadata": {},
   "source": [
    "<p>\n",
    "    Python é o que chamamos de <em>linguagem interpretada</em>. Linguagens compiladas analisam todo o programa no momento da compilação e conseguem avisar sobre uma série de erros antes mesmo da execução. Em contraste, o Python interpreta seu script linha por linha conforme o executa. O Python interromperá a execução de todo o programa quando encontrar um erro (a menos que esse erro seja previsto e tratado pelo programador — um assunto mais avançado que veremos mais adiante neste curso).\n",
    "</p>"
   ]
  },
  {
   "cell_type": "markdown",
   "metadata": {},
   "source": [
    "Tente executar o código na célula abaixo e veja o que acontece:\n"
   ]
  },
  {
   "cell_type": "code",
   "execution_count": null,
   "metadata": {},
   "outputs": [],
   "source": [
    "# Print string and error to see the running order\n",
    "\n",
    "print(\"This will be printed\")\n",
    "frint(\"This will cause an error\")\n",
    "print(\"This will NOT be printed\")"
   ]
  },
  {
   "cell_type": "markdown",
   "metadata": {},
   "source": [
    "### Exercício: Seu Primeiro Programa\n"
   ]
  },
  {
   "cell_type": "markdown",
   "metadata": {},
   "source": [
    "<p>\n",
    "    Gerações de programadores iniciaram suas carreiras imprimindo simplesmente \"Hello, world!\". Você seguirá os mesmos passos.\n",
    "</p>\n",
    "<p>\n",
    "    Na célula de código abaixo, utilize a função <code>print()</code> para exibir a frase: <code>Hello, world!</code>\n",
    "</p>\n"
   ]
  },
  {
   "cell_type": "code",
   "execution_count": null,
   "metadata": {},
   "outputs": [],
   "source": [
    "# Escreva seu código abaixo. Não se esqueça de pressionar Shift+Enter para executar a célula\n"
   ]
  },
  {
   "cell_type": "markdown",
   "metadata": {},
   "source": [
    "<details><summary>Clique aqui para ver a solução</summary>\n",
    "\n",
    "```python\n",
    "print(\"Hello, world!\")\n",
    "\n",
    "```\n",
    "\n",
    "</details>\n"
   ]
  },
  {
   "cell_type": "markdown",
   "metadata": {},
   "source": [
    "<p>\n",
    "    Agora, vamos aprimorar seu código com um comentário. Na célula de código abaixo, imprima a frase <code>Hello, world!</code> e comente na mesma linha com a frase <code>Imprima o tradicional olá mundo</code>.\n",
    "</p>"
   ]
  },
  {
   "cell_type": "code",
   "execution_count": null,
   "metadata": {},
   "outputs": [],
   "source": [
    "# Escreva seu código abaixo. Não se esqueça de pressionar Shift+Enter para executar a célula\n"
   ]
  },
  {
   "cell_type": "markdown",
   "metadata": {},
   "source": [
    "<details><summary>Clique aqui para ver a solução</summary>\n",
    "\n",
    "```python\n",
    "print(\"Hello, world!\") # Imprima o tradicional olá mundo\n",
    "\n",
    "```\n",
    "\n",
    "</details>\n"
   ]
  },
  {
   "cell_type": "markdown",
   "metadata": {},
   "source": [
    "<p>Qual é o valor de <code>z</code> onde <code>z = 2 + 15</code>?</p>\n"
   ]
  },
  {
   "cell_type": "code",
   "execution_count": null,
   "metadata": {},
   "outputs": [],
   "source": [
    "# Escreva seu código abaixo. Não se esqueça de pressionar Shift+Enter para executar a célula\n"
   ]
  },
  {
   "cell_type": "markdown",
   "metadata": {},
   "source": [
    "<details><summary>Clique aqui para ver a solução</summary>\n",
    "\n",
    "```python\n",
    "17\n",
    "\n",
    "```\n",
    "\n",
    "</details>\n"
   ]
  },
  {
   "cell_type": "markdown",
   "metadata": {},
   "source": [
    "<hr/>\n",
    "<p>Parabéns, você concluiu sua primeira lição e laboratório prático em Python.\n",
    "<hr/>\n",
    "</p>"
   ]
  },
  {
   "cell_type": "markdown",
   "metadata": {},
   "source": [
    "## Autor\n",
    "\n",
    "<a href=\"https://linktr.ee/jeffersonspeck\" target=\"_blank\">Jefferson Rodrigo Speck</a>\n",
    "\n",
    "## <h3 align=\"center\"> © Este conteúdo não pode ser reproduzido sem autorização do autor <h3/>"
   ]
  },
  {
   "cell_type": "markdown",
   "metadata": {},
   "source": [
    "```toggle## Change Log\n",
    "```\n",
    "\n",
    "\n",
    "```toggle|  Date (YYYY-MM-DD) |  Version | Changed By  |  Change Description |\n",
    "```\n",
    "```toggle|---|---|---|---|\n",
    "```\n",
    "```toggle| 2023-10-30 | 2.2 | Abhishek Gagneja| Updated instructions |\n",
    "```\n",
    "```toggle| 2022-01-10  | 2.1  | Malika  | Removed the readme for GitShare|\n",
    "```\n",
    "```toggle| 2020-08-26  | 2.0  | Lavanya | Moved lab to course repo in GitLab |\n",
    "```\n"
   ]
  }
 ],
 "metadata": {
  "kernelspec": {
   "display_name": "Python (Pyodide)",
   "language": "python",
   "name": "python"
  },
  "language_info": {
   "codemirror_mode": {
    "name": "python",
    "version": 3
   },
   "file_extension": ".py",
   "mimetype": "text/x-python",
   "name": "python",
   "nbconvert_exporter": "python",
   "pygments_lexer": "ipython3",
   "version": "3.8"
  },
  "prev_pub_hash": "3a36720919fc1ff3530f64cea98efcfbc2050a558585a772f827829b4bf89377"
 },
 "nbformat": 4,
 "nbformat_minor": 4
}

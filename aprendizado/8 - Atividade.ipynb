{
  "cells": [
    {
      "cell_type": "markdown",
      "metadata": {},
      "source": [
        "<center>\n",
        "\n",
        "# Laboratório Prático\n",
        "\n",
        "</center>\n"
      ]
    },
    {
      "cell_type": "markdown",
      "metadata": {},
      "source": [
        "<center>\n",
        "    \n",
        "# **Cenário: Análise de Texto**\n",
        "\n",
        "</center>\n"
      ]
    },
    {
      "cell_type": "markdown",
      "metadata": {},
      "source": [
        "Tempo estimado necessário: **45** minutos\n"
      ]
    },
    {
      "cell_type": "markdown",
      "metadata": {},
      "source": [
        "# O que é análise de texto?\n",
        "A análise de texto, também conhecida como mineração de texto ou text analytics, refere-se ao processo de extrair informações significativas e insights a partir de dados textuais.\n"
      ]
    },
    {
      "cell_type": "markdown",
      "metadata": {},
      "source": [
        "## Objetivos\n",
        " \n",
        "Após concluir este laboratório, você será capaz de:\n",
        "- Utilizar comandos Python para realizar análise de texto.\n",
        "- Converter o texto para minúsculas e, em seguida, encontrar e contar a frequência de todas as palavras únicas, bem como de uma palavra especificada.\n"
      ]
    },
    {
      "cell_type": "markdown",
      "metadata": {},
      "source": [
        "## Configuração\n"
      ]
    },
    {
      "cell_type": "markdown",
      "metadata": {},
      "source": [
        "Para este laboratório, você utilizará os seguintes tipos de dados:\n",
        "* Listas\n",
        "* Strings\n",
        "* Classes e objetos\n"
      ]
    },
    {
      "cell_type": "markdown",
      "metadata": {},
      "source": [
        "**Vamos considerar um cenário da vida real em que você está analisando o feedback de clientes para um produto. Você possui um grande conjunto de avaliações de clientes em forma de strings, e deseja extrair informações úteis a partir delas utilizando as três tarefas identificadas:**\n",
        "\n",
        "**Tarefa 1. String em minúsculas:**\n",
        "Você deseja pré-processar o feedback dos clientes convertendo todo o texto para minúsculas. Esse passo ajuda a padronizar o texto. Converter para minúsculas permite que você foque no conteúdo, em vez da capitalização das letras.\n",
        "\n",
        "**Tarefa 2. Frequência de todas as palavras em uma determinada string:**\n",
        "Após converter o texto para minúsculas, você deseja determinar a frequência de cada palavra no feedback dos clientes. Essa informação ajudará a identificar quais palavras são usadas com mais frequência, indicando os aspectos ou tópicos-chave mencionados pelos clientes em suas avaliações. Ao analisar as frequências, você pode obter insights sobre os problemas mais comuns apontados pelos clientes.\n",
        "\n",
        "**Tarefa 3. Frequência de uma palavra específica:**\n",
        "Além de analisar as frequências gerais, você deseja acompanhar especificamente a frequência de uma palavra que seja relevante para sua análise. Por exemplo, você pode estar interessado em monitorar com que frequência a palavra \"reliable\" aparece nas avaliações para avaliar o sentimento dos clientes sobre a confiabilidade do produto. Ao focar na frequência de uma palavra específica, você pode obter uma compreensão mais profunda das opiniões ou preferências dos clientes relacionadas a esse aspecto.\n",
        "\n",
        "Ao realizar essas tarefas no conjunto de dados do feedback dos clientes, você poderá obter insights valiosos sobre o sentimento dos clientes\n"
      ]
    },
    {
      "cell_type": "markdown",
      "metadata": {},
      "source": [
        "----\n"
      ]
    },
    {
      "cell_type": "markdown",
      "metadata": {},
      "source": [
        "<center>\n",
        "    \n",
        "# Parte-A\n"
      ]
    },
    {
      "cell_type": "markdown",
      "metadata": {},
      "source": [
        "<center>\n",
        "    \n",
        "**Nota: Na Parte-A, você não obterá nenhuma saída, pois está apenas armazenando a string e criando uma classe.**\n",
        "    </center>\n",
        "    \n"
      ]
    },
    {
      "cell_type": "markdown",
      "metadata": {},
      "source": [
        "## Etapa 1: Defina uma string\n",
        "\"Lorem ipsum dolor! diam amet, consetetur Lorem magna. sed diam nonumy eirmod tempor. diam et labore? et diam magna. et diam amet.\" <br>\n",
        "**Dica: Use uma variável e armazene a string acima.**\n"
      ]
    },
    {
      "cell_type": "code",
      "execution_count": 2,
      "metadata": {},
      "outputs": [],
      "source": [
        "#Press Shift+Enter to run the code\n",
        "givenstring=\"Lorem ipsum dolor! diam amet, consetetur Lorem magna. sed diam nonumy eirmod tempor. diam et labore? et diam magna. et diam amet.\""
      ]
    },
    {
      "cell_type": "markdown",
      "metadata": {},
      "source": [
        "### Para realizar as tarefas mencionadas no cenário, você precisa criar uma classe com três métodos diferentes.\n"
      ]
    },
    {
      "cell_type": "markdown",
      "metadata": {},
      "source": [
        "## Etapa 2: Defina a classe e seus atributos\n"
      ]
    },
    {
      "cell_type": "markdown",
      "metadata": {},
      "source": [
        "1. Crie uma classe chamada TextAnalyzer.\n",
        "2. Defina o método construtor `__init__` que receba um argumento de texto.\n"
      ]
    },
    {
      "cell_type": "code",
      "execution_count": null,
      "metadata": {},
      "outputs": [],
      "source": [
        "# Please do not run this code cell as it is incomplete and will produce an error.\n",
        "\n",
        "# Let's create a class called TextAnalyzer to analyze text.\n",
        "class TextAnalyzer(object):\n",
        "    # The __init__ method initializes the class with a 'text' parameter.\n",
        "    # You will store the provided 'text' as an instance variable.\n",
        "    def __init__(self, text):"
      ]
    },
    {
      "cell_type": "markdown",
      "metadata": {},
      "source": [
        "----\n"
      ]
    },
    {
      "cell_type": "markdown",
      "metadata": {},
      "source": [
        "## Etapa 3: Implemente um código para formatar o texto em minúsculas\n"
      ]
    },
    {
      "cell_type": "markdown",
      "metadata": {},
      "source": [
        "1. Dentro do construtor, converta o argumento de texto para minúsculas utilizando o método `lower()`.\n",
        "2. Em seguida, remova os sinais de pontuação (pontos, pontos de exclamação, vírgulas e pontos de interrogação) do texto usando o método `replace()`.\n",
        "3. Por fim, atribua o texto formatado a um novo atributo chamado fmtText.\n",
        "\n",
        "**Aqui você irá atualizar a classe `TextAnalyzer` acima com os pontos mencionados.**\n"
      ]
    },
    {
      "cell_type": "code",
      "execution_count": null,
      "metadata": {},
      "outputs": [],
      "source": [
        "# Press Shift+Enter to run the code.\n",
        "class TextAnalzer(object):\n",
        "    \n",
        "    def __init__ (self, text):\n",
        "        # remove punctuation\n",
        "        \n",
        "        # make text lowercase"
      ]
    },
    {
      "cell_type": "markdown",
      "metadata": {},
      "source": [
        "----\n"
      ]
    },
    {
      "cell_type": "markdown",
      "metadata": {},
      "source": [
        "## Etapa 4: Implemente um código para contar a frequência de todas as palavras únicas\n"
      ]
    },
    {
      "cell_type": "markdown",
      "metadata": {},
      "source": [
        " * Nesta etapa, você implementará o método `freqAll()` com os seguintes parâmetros:\n",
        "     1. Divida o atributo fmtText em palavras individuais utilizando o método `split()`.\n",
        "     2. Crie um dicionário vazio para armazenar a frequência das palavras.\n",
        "     3. Itere sobre a lista de palavras e atualize o dicionário de frequência conforme necessário.\n",
        "     4. Utilize o método `count` para contar a ocorrência.\n",
        "     5. Retorne o dicionário de frequência.\n",
        "     \n",
        "**Atualize a classe `TextAnalyzer` acima com os pontos mencionados.**\n"
      ]
    },
    {
      "cell_type": "code",
      "execution_count": null,
      "metadata": {},
      "outputs": [],
      "source": [
        "#Press shift+Enter to run the code\n",
        "class TextAnalyzer(object):\n",
        "    \n",
        "    def __init__ (self, text):\n",
        "        # remove punctuation\n",
        "       \n",
        "        # make text lowercase\n",
        "        \n",
        "    def freqAll(self):        \n",
        "        # split text into words\n",
        "        \n",
        "        # Create dictionary"
      ]
    },
    {
      "cell_type": "markdown",
      "metadata": {},
      "source": [
        "----\n"
      ]
    },
    {
      "cell_type": "markdown",
      "metadata": {},
      "source": [
        "## Etapa 5: Implemente um código para contar a frequência de uma palavra específica\n"
      ]
    },
    {
      "cell_type": "markdown",
      "metadata": {},
      "source": [
        "Na Etapa 5, você deve implementar o método `freqOf(word)` que recebe um argumento palavra:\n",
        "   1. Crie um método que receba a palavra a ser encontrada.\n",
        "   2. Utilize o método `freqAll` para obter a contagem e verificar se essa palavra está na lista.\n",
        "   3. Retorne a contagem. Se a palavra não for encontrada, a contagem retornada será 0.\n",
        "   \n",
        "**Atualize a classe `TextAnalyzer` acima com os pontos mencionados.**\n"
      ]
    },
    {
      "cell_type": "code",
      "execution_count": null,
      "metadata": {},
      "outputs": [],
      "source": [
        "#Press Shift+Enter to run the code\n",
        "class TextAnalyzer(object):\n",
        "    \n",
        "    def __init__ (self, text):\n",
        "        # remove punctuation\n",
        "       \n",
        "        # make text lowercase\n",
        "        \n",
        "    def freqAll(self):        \n",
        "        # split text into words\n",
        "        \n",
        "        # Create dictionary\n",
        "           \n",
        "    def freqOf(self,word):\n",
        "        # get frequency map\n"
      ]
    },
    {
      "cell_type": "markdown",
      "metadata": {},
      "source": [
        "----\n"
      ]
    },
    {
      "cell_type": "markdown",
      "metadata": {},
      "source": [
        "### Agora, você criou com sucesso uma classe com três métodos.\n"
      ]
    },
    {
      "cell_type": "markdown",
      "metadata": {},
      "source": [
        "<center>\n",
        "    \n",
        "# Parte-B \n",
        "  \n"
      ]
    },
    {
      "cell_type": "markdown",
      "metadata": {},
      "source": [
        "<center>\n",
        "    \n",
        "**Na Parte B, você chamará as funções criadas na Parte A, permitindo que elas sejam executadas e gerem saída.**\n",
        "    </center>\n"
      ]
    },
    {
      "cell_type": "markdown",
      "metadata": {},
      "source": [
        "## Etapa 1: Crie uma instância da classe TextAnalyzer\n",
        "* Instancie a classe TextAnalyzer passando a string fornecida como argumento.\n"
      ]
    },
    {
      "cell_type": "code",
      "execution_count": null,
      "metadata": {},
      "outputs": [],
      "source": [
        "# type your code here\n"
      ]
    },
    {
      "cell_type": "markdown",
      "metadata": {},
      "source": [
        "<details><summary>Clique aqui para a solução</summary>\n",
        "\n",
        "```python\n",
        "analyzed = TextAnalyzer(givenstring)\n",
        "```\n",
        "</details>\n"
      ]
    },
    {
      "cell_type": "markdown",
      "metadata": {},
      "source": [
        "## Etapa 2: Chame a função que converte os dados para minúsculas\n"
      ]
    },
    {
      "cell_type": "code",
      "execution_count": null,
      "metadata": {},
      "outputs": [],
      "source": [
        "# Press Shift+Enter to run the code.\n"
      ]
    },
    {
      "cell_type": "markdown",
      "metadata": {},
      "source": [
        "<details><summary>Clique aqui para a solução</summary>\n",
        "\n",
        "```python\n",
        "print(\"Formatted Text:\", analyzed.fmtText)\n",
        "```\n",
        "</details>\n"
      ]
    },
    {
      "cell_type": "markdown",
      "metadata": {},
      "source": [
        "Você converteu com sucesso a string para minúsculas.\n"
      ]
    },
    {
      "cell_type": "markdown",
      "metadata": {},
      "source": [
        "## Etapa 3: Chame a função que conta a frequência de todas as palavras únicas dos dados\n"
      ]
    },
    {
      "cell_type": "code",
      "execution_count": null,
      "metadata": {},
      "outputs": [],
      "source": [
        "# Press Shift+Enter to run the code.\n"
      ]
    },
    {
      "cell_type": "markdown",
      "metadata": {},
      "source": [
        "<details><summary>Clique aqui para a solução</summary>\n",
        "\n",
        "```python\n",
        "freqMap = analyzed.freqAll()\n",
        "print(freqMap)\n",
        "```\n",
        "</details>\n"
      ]
    },
    {
      "cell_type": "markdown",
      "metadata": {},
      "source": [
        "Você calculou com sucesso a frequência de todas as palavras únicas na string.\n"
      ]
    },
    {
      "cell_type": "markdown",
      "metadata": {},
      "source": [
        "## Etapa 4: Chame a função que conta a frequência de uma palavra específica\n",
        "Aqui, você chamará a função que conta a frequência da palavra \"lorem\".\n",
        "<br>\n",
        "\n",
        "Imprima a saída.**\n"
      ]
    },
    {
      "cell_type": "code",
      "execution_count": null,
      "metadata": {},
      "outputs": [],
      "source": [
        "# type your code here\n"
      ]
    },
    {
      "cell_type": "markdown",
      "metadata": {},
      "source": [
        "<details><summary>Clique aqui para a solução</summary>\n",
        "\n",
        "```python\n",
        "word = \"lorem\"\n",
        "frequency = analyzed.freqOf(word)\n",
        "print(\"A palavra\", word, \"aparece\", frequency, \"vezes.\")\n",
        "```\n",
        "</details>\n"
      ]
    },
    {
      "cell_type": "markdown",
      "metadata": {},
      "source": [
        "Você calculou com sucesso a frequência de todas as palavras especificadas.\n"
      ]
    },
    {
      "cell_type": "markdown",
      "metadata": {},
      "source": [
        "----\n"
      ]
    },
    {
      "cell_type": "markdown",
      "metadata": {},
      "source": [
        "## Autores\n"
      ]
    },
    {
      "cell_type": "markdown",
      "metadata": {},
      "source": [
        "\n",
        "**Jefferson Rodrigo Speck**\n"
      ]
    },
    {
      "cell_type": "markdown",
      "metadata": {},
      "source": [
        "<!--\n",
        "## Registro de Alterações\n",
        "-->\n"
      ]
    },
    {
      "cell_type": "markdown",
      "metadata": {},
      "source": [
        "<!--\n",
        "|Data (AAAA-MM-DD)|Versão|Alterado Por|Descrição da Alteração|\n",
        "|-|-|-|-|\n",
        "|2023-11-05|0.4|Abhishek Gagneja| Atualizou as instruções do laboratório|\n",
        "|2023-05-17|0.3|Akansha Yadav| Criou o laboratório sob manutenção|\n",
        "|2020-07-17|0.1|Sam     |Criou o modelo do laboratório|\n",
        "|2022-11-19|0.2|Shengkai|Atualizou o modelo do laboratório|\n",
        "-->\n"
      ]
    }
  ],
  "metadata": {
    "kernelspec": {
      "display_name": "Python 3",
      "language": "python",
      "name": "python3"
    },
    "language_info": {
      "codemirror_mode": {
        "name": "ipython",
        "version": 3
      },
      "file_extension": ".py",
      "mimetype": "text/x-python",
      "name": "python",
      "nbconvert_exporter": "python",
      "pygments_lexer": "ipython3",
      "version": "3.11.9"
    }
  },
  "nbformat": 4,
  "nbformat_minor": 4
}

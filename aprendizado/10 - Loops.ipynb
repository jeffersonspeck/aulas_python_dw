{
  "cells": [
    {
      "cell_type": "markdown",
      "metadata": {},
      "source": [
        "# Laços em Python\n",
        "\n",
        "Tempo estimado necessário: **20** minutos\n",
        "\n",
        "## Objetivos\n",
        "\n",
        "Após concluir este laboratório, você será capaz de:\n",
        "\n",
        "* Trabalhar com as estruturas de repetição em Python, incluindo laço for e laço while.\n"
      ]
    },
    {
      "cell_type": "markdown",
      "metadata": {},
      "source": [
        "<h1>Laços em Python</h1>\n"
      ]
    },
    {
      "cell_type": "markdown",
      "metadata": {},
      "source": [
        "<p><strong>Bem-vindo!</strong> Este notebook ensinará sobre os laços (loops) na linguagem de programação Python. Ao final deste laboratório, você saberá como utilizar as estruturas de repetição em Python, incluindo o laço for e o laço while.</p>\n"
      ]
    },
    {
      "cell_type": "markdown",
      "metadata": {},
      "source": [
        "<h2>Sumário</h2>\n",
        "<div class=\"alert alert-block\" style=\"margin-top: 20px\">\n",
        "    <ul>\n",
        "        <li>\n",
        "            <a href=\"#Loops\">Laços</a>\n",
        "            <ul>\n",
        "                <li><a href=\"#Range\">Range</a></li>\n",
        "                <li><a href=\"#What-is-for-loop?\">O que é o laço <code>for</code>?</a></li>\n",
        "                <li><a href=\"#What-is-while-loop?\">O que é o laço <code>while</code>?</a></li>\n",
        "            </ul>\n",
        "        </li>\n",
        "        <li>\n",
        "            <a href=\"#Quiz-on-Loops\">Quiz sobre Laços</a>\n",
        "        </li>\n",
        "    </ul>\n",
        "\n",
        "</div>\n",
        "\n",
        "<hr>\n"
      ]
    },
    {
      "cell_type": "markdown",
      "metadata": {},
      "source": [
        "## Laços\n"
      ]
    },
    {
      "cell_type": "markdown",
      "metadata": {},
      "source": [
        "### Range\n"
      ]
    },
    {
      "cell_type": "markdown",
      "metadata": {},
      "source": [
        "Às vezes, você pode desejar repetir uma determinada operação várias vezes. Execuções repetidas como essa são realizadas por meio de <b>laços</b>. Iremos analisar dois tipos de laços: o laço <code>for</code> e o laço <code>while</code>.\n",
        "\n",
        "Antes de discutirmos os laços, vamos abordar o objeto <code>range</code>. É útil pensar no objeto range como uma lista ordenada. Por ora, vejamos o caso mais simples. Se quisermos gerar um objeto que contenha elementos ordenados de 0 a 2, usamos simplesmente o seguinte comando:\n"
      ]
    },
    {
      "cell_type": "code",
      "execution_count": 1,
      "metadata": {},
      "outputs": [
        {
          "data": {
            "text/plain": [
              "range(0, 3)"
            ]
          },
          "execution_count": 1,
          "metadata": {},
          "output_type": "execute_result"
        }
      ],
      "source": [
        "# Use the range\n",
        "\n",
        "range(3)"
      ]
    },
    {
      "cell_type": "markdown",
      "metadata": {},
      "source": [
        "<img src=\"https://cf-courses-data.s3.us.cloud-object-storage.appdomain.cloud/IBMDeveloperSkillsNetwork-PY0101EN-SkillsNetwork/labs/Module%203/images/range.PNG\" width=\"300\">\n"
      ]
    },
    {
      "cell_type": "markdown",
      "metadata": {},
      "source": [
        "***NOTA: Embora no Python 2.x o comando retornasse uma lista, como visto nas aulas em vídeo, no Python 3.x ele retorna um objeto range.***\n"
      ]
    },
    {
      "cell_type": "markdown",
      "metadata": {},
      "source": [
        "### O que é o laço <code>for</code>?\n"
      ]
    },
    {
      "cell_type": "markdown",
      "metadata": {},
      "source": [
        "O laço <code>for</code> permite executar um bloco de código múltiplas vezes. Por exemplo, você o utilizaria para imprimir cada elemento de uma lista.\\\n",
        "Vamos tentar usar um laço <code>for</code> para imprimir todos os anos presentes na lista <code>dates</code>:\n"
      ]
    },
    {
      "cell_type": "markdown",
      "metadata": {},
      "source": [
        "Isso pode ser feito da seguinte forma:\n"
      ]
    },
    {
      "cell_type": "code",
      "execution_count": 13,
      "metadata": {},
      "outputs": [
        {
          "name": "stdout",
          "output_type": "stream",
          "text": [
            "1982\n",
            "1980\n",
            "1973\n"
          ]
        }
      ],
      "source": [
        "# For loop example\n",
        "\n",
        "dates = [1982,1980,1973]\n",
        "N = len(dates)\n",
        "\n",
        "for year in dates:\n",
        "    print(year)\n",
        "   "
      ]
    },
    {
      "cell_type": "markdown",
      "metadata": {},
      "source": [
        "O código indentado é executado <code>N</code> vezes, e a cada iteração o valor de <code>i</code> é incrementado em 1. A instrução executada é <code>print</code> do valor presente na lista, no índice <code>i</code>, conforme mostrado aqui:\n"
      ]
    },
    {
      "cell_type": "markdown",
      "metadata": {},
      "source": [
        "<img src=\"https://cf-courses-data.s3.us.cloud-object-storage.appdomain.cloud/IBMDeveloperSkillsNetwork-PY0101EN-SkillsNetwork/labs/Module%203/images/LoopsForRange.gif\" width=\"800\">\n"
      ]
    },
    {
      "cell_type": "markdown",
      "metadata": {},
      "source": [
        "Neste exemplo, podemos imprimir uma sequência de números de 0 a 7:\n"
      ]
    },
    {
      "cell_type": "code",
      "execution_count": 8,
      "metadata": {},
      "outputs": [
        {
          "name": "stdout",
          "output_type": "stream",
          "text": [
            "3\n",
            "4\n",
            "5\n",
            "6\n",
            "7\n"
          ]
        }
      ],
      "source": [
        "# Example of for loop\n",
        "\n",
        "for i in range(3, 8):\n",
        "    print(i)"
      ]
    },
    {
      "cell_type": "markdown",
      "metadata": {},
      "source": [
        "Em Python, podemos acessar diretamente os elementos da lista da seguinte forma:\n"
      ]
    },
    {
      "cell_type": "code",
      "execution_count": 9,
      "metadata": {},
      "outputs": [
        {
          "name": "stdout",
          "output_type": "stream",
          "text": [
            "1982\n",
            "1980\n",
            "1973\n"
          ]
        }
      ],
      "source": [
        "# Exmaple of for loop, loop through list\n",
        "dates\n",
        "for year in dates:  \n",
        "    print(year)   "
      ]
    },
    {
      "cell_type": "markdown",
      "metadata": {},
      "source": [
        "Em cada iteração, o valor da variável <code>year</code> equivale ao valor de <code>dates[i]</code> no primeiro exemplo:\n"
      ]
    },
    {
      "cell_type": "markdown",
      "metadata": {},
      "source": [
        "<img src=\"https://cf-courses-data.s3.us.cloud-object-storage.appdomain.cloud/IBMDeveloperSkillsNetwork-PY0101EN-SkillsNetwork/labs/Module%203/images/LoopsForList.gif\" width=\"800\">\n"
      ]
    },
    {
      "cell_type": "markdown",
      "metadata": {},
      "source": [
        "Podemos alterar os elementos de uma lista:\n"
      ]
    },
    {
      "cell_type": "code",
      "execution_count": 14,
      "metadata": {},
      "outputs": [
        {
          "name": "stdout",
          "output_type": "stream",
          "text": [
            "Before square  0 is red\n",
            "After square  0 is white\n",
            "Before square  1 is yellow\n",
            "After square  1 is white\n",
            "Before square  2 is green\n",
            "After square  2 is white\n",
            "Before square  3 is purple\n",
            "After square  3 is white\n",
            "Before square  4 is blue\n",
            "After square  4 is white\n"
          ]
        }
      ],
      "source": [
        "# Use for loop to change the elements in list\n",
        "\n",
        "squares = ['red', 'yellow', 'green', 'purple', 'blue']\n",
        "\n",
        "for i in range(0, 5):\n",
        "    print(\"Before square \", i, 'is',  squares[i])\n",
        "    squares[i] = 'white'\n",
        "    print(\"After square \", i, 'is',  squares[i])"
      ]
    },
    {
      "cell_type": "markdown",
      "metadata": {},
      "source": [
        "Podemos acessar o índice e os elementos de uma lista da seguinte forma:\n"
      ]
    },
    {
      "cell_type": "code",
      "execution_count": 15,
      "metadata": {},
      "outputs": [
        {
          "name": "stdout",
          "output_type": "stream",
          "text": [
            "0 red\n",
            "1 yellow\n",
            "2 green\n",
            "3 purple\n",
            "4 blue\n"
          ]
        }
      ],
      "source": [
        "# Loop through the list and iterate on both index and element value\n",
        "\n",
        "squares=['red', 'yellow', 'green', 'purple', 'blue']\n",
        "\n",
        "for i, square in enumerate(squares):\n",
        "    print(i, square)"
      ]
    },
    {
      "cell_type": "markdown",
      "metadata": {},
      "source": [
        "### O que é o laço <code>while</code>?\n"
      ]
    },
    {
      "cell_type": "markdown",
      "metadata": {},
      "source": [
        "Como podemos ver, o laço <code>for</code> é utilizado para um fluxo de repetição controlado. Entretanto, e se não soubermos quando queremos parar o laço? E se quisermos continuar executando um bloco de código até que uma determinada condição seja atendida? O laço <code>while</code> existe como uma ferramenta para execução repetida baseada em uma condição. O bloco de código continuará sendo executado até que a condição lógica especificada retorne **False**.\n"
      ]
    },
    {
      "cell_type": "markdown",
      "metadata": {},
      "source": [
        "Suponha que queiramos iterar pela lista <code>dates</code> e parar no ano 1973, e então imprimir o número de iterações. Isso pode ser feito com o seguinte bloco de código:\n"
      ]
    },
    {
      "cell_type": "code",
      "execution_count": 3,
      "metadata": {},
      "outputs": [
        {
          "name": "stdout",
          "output_type": "stream",
          "text": [
            "2030\n",
            "2025\n",
            "2000\n",
            "1980\n",
            "1982\n"
          ]
        }
      ],
      "source": [
        "# While Loop Example\n",
        "\n",
        "dates = [1982, 1980, 1973, 2000, 2025, 2030, 1973]\n",
        "\n",
        "def verifica_Discos(lista_data):\n",
        "    i = len(dates)\n",
        "    while (i > 0):\n",
        "        i -= 1\n",
        "        if (dates[i] != 1973):    \n",
        "            print(dates[i])\n",
        "\n",
        "verifica_Discos(dates)    "
      ]
    },
    {
      "cell_type": "markdown",
      "metadata": {},
      "source": [
        "O laço while itera apenas até que a condição informada não seja mais atendida, como mostrado na figura a seguir:\n"
      ]
    },
    {
      "cell_type": "markdown",
      "metadata": {},
      "source": [
        "<img src=\"https://cf-courses-data.s3.us.cloud-object-storage.appdomain.cloud/IBMDeveloperSkillsNetwork-PY0101EN-SkillsNetwork/labs/Module%203/images/LoopsWhile.gif\" width=\"650\">\n"
      ]
    },
    {
      "cell_type": "markdown",
      "metadata": {},
      "source": [
        "<hr>\n"
      ]
    },
    {
      "cell_type": "markdown",
      "metadata": {},
      "source": [
        "## Quiz sobre Laços\n"
      ]
    },
    {
      "cell_type": "markdown",
      "metadata": {},
      "source": [
        "Escreva um laço <code>for</code> que imprima todos os elementos entre <b>-5</b> e <b>5</b> utilizando a função range.\n"
      ]
    },
    {
      "cell_type": "code",
      "execution_count": null,
      "metadata": {},
      "outputs": [],
      "source": [
        "# Write your code below and press Shift+Enter to execute\n"
      ]
    },
    {
      "cell_type": "markdown",
      "metadata": {},
      "source": [
        "<details><summary>Clique aqui para a solução</summary>\n",
        "\n",
        "```python\n",
        "for i in range(-4, 5):\n",
        "    print(i)\n",
        "    \n",
        "```\n",
        "\n",
        "</details>\n"
      ]
    },
    {
      "cell_type": "markdown",
      "metadata": {},
      "source": [
        "Imprima os elementos da seguinte lista: <code>Genres=\\[ 'rock', 'R\\&B', 'Soundtrack', 'R\\&B', 'soul', 'pop']</code>.\n",
        "Certifique-se de seguir as convenções do Python.\n"
      ]
    },
    {
      "cell_type": "code",
      "execution_count": null,
      "metadata": {},
      "outputs": [],
      "source": [
        "# Write your code below and press Shift+Enter to execute\n"
      ]
    },
    {
      "cell_type": "markdown",
      "metadata": {},
      "source": [
        "<details><summary>Clique aqui para a solução</summary>\n",
        "\n",
        "```python\n",
        "Genres = ['rock', 'R&B', 'Soundtrack', 'R&B', 'soul', 'pop']\n",
        "for Genre in Genres:\n",
        "    print(Genre)\n",
        "    \n",
        "```\n",
        "\n",
        "</details>\n"
      ]
    },
    {
      "cell_type": "markdown",
      "metadata": {},
      "source": [
        "<hr>\n"
      ]
    },
    {
      "cell_type": "markdown",
      "metadata": {},
      "source": [
        "Escreva um laço for que imprima a seguinte lista: <code>squares=\\['red', 'yellow', 'green', 'purple', 'blue']</code>\n"
      ]
    },
    {
      "cell_type": "code",
      "execution_count": null,
      "metadata": {},
      "outputs": [],
      "source": [
        "# Write your code below and press Shift+Enter to execute\n"
      ]
    },
    {
      "cell_type": "markdown",
      "metadata": {},
      "source": [
        "<details><summary>Clique aqui para a solução</summary>\n",
        "\n",
        "```python\n",
        "squares=['red', 'yellow', 'green', 'purple', 'blue']\n",
        "for square in squares:\n",
        "    print(square)\n",
        "    \n",
        "```\n",
        "\n",
        "</details>\n"
      ]
    },
    {
      "cell_type": "markdown",
      "metadata": {},
      "source": [
        "<hr>\n"
      ]
    },
    {
      "cell_type": "markdown",
      "metadata": {},
      "source": [
        "Escreva um laço while para exibir os valores de avaliação (Rating) de uma playlist de álbuns armazenada na lista <code>PlayListRatings</code>. Se a nota for menor que 6, encerre o laço. A lista <code>PlayListRatings</code> é dada por: <code>PlayListRatings = \\[10, 9.5, 10, 8, 7.5, 5, 10, 10]</code>\n"
      ]
    },
    {
      "cell_type": "code",
      "execution_count": null,
      "metadata": {},
      "outputs": [],
      "source": [
        "# Write your code below and press Shift+Enter to execute\n"
      ]
    },
    {
      "cell_type": "markdown",
      "metadata": {},
      "source": [
        "<details><summary>Clique aqui para a solução</summary>\n",
        "\n",
        "```python\n",
        "PlayListRatings = [10, 9.5, 10, 8, 7.5, 5, 10, 10]\n",
        "i = 0\n",
        "Rating = PlayListRatings[0]\n",
        "while(i < len(PlayListRatings) and Rating >= 6):\n",
        "    print(Rating)\n",
        "    i = i + 1 # Isto imprime o valor 10 apenas uma vez \n",
        "    Rating = PlayListRatings[i]\n",
        "    i = i + 1 # Tente descomentar esta linha e comentar a linha anterior, e veja a diferença: o valor 10 será impresso duas vezes, pois quando o laço inicia ele imprimirá Rating e então, ao acessar PlayListRatings[0], atribuirá novamente o valor 10 a Rating. \n",
        "    \n",
        "```\n",
        "\n",
        "</details>\n"
      ]
    },
    {
      "cell_type": "markdown",
      "metadata": {},
      "source": [
        "Escreva um laço while para copiar as strings <code>'orange'</code> da lista <code>squares</code> para a lista <code>new_squares</code>. Pare e encerre o laço se o valor na lista não for <code>'orange'</code>:\n"
      ]
    },
    {
      "cell_type": "code",
      "execution_count": null,
      "metadata": {},
      "outputs": [],
      "source": [
        "# Write your code below and press Shift+Enter to execute\n",
        "\n",
        "squares = ['orange', 'orange', 'purple', 'blue ', 'orange']\n",
        "new_squares = []\n"
      ]
    },
    {
      "cell_type": "markdown",
      "metadata": {},
      "source": [
        "<details><summary>Clique aqui para a solução</summary>\n",
        "\n",
        "```python\n",
        "squares = ['orange', 'orange', 'purple', 'blue ', 'orange']\n",
        "new_squares = []\n",
        "i = 0\n",
        "while(i < len(squares) and squares[i] == 'orange'):\n",
        "    new_squares.append(squares[i])\n",
        "    i = i + 1\n",
        "print(new_squares)\n",
        "    \n",
        "```\n",
        "\n",
        "</details>\n"
      ]
    },
    {
      "cell_type": "markdown",
      "metadata": {},
      "source": [
        "<hr>\n",
        "<h2>O último exercício!</h2>\n",
        "<p>Parabéns, você concluiu sua primeira lição e laboratório prático em Python. \n",
        "<hr>\n"
      ]
    }
  ],
  "metadata": {
    "kernelspec": {
      "display_name": "Python 3",
      "language": "python",
      "name": "python3"
    },
    "language_info": {
      "codemirror_mode": {
        "name": "ipython",
        "version": 3
      },
      "file_extension": ".py",
      "mimetype": "text/x-python",
      "name": "python",
      "nbconvert_exporter": "python",
      "pygments_lexer": "ipython3",
      "version": "3.12.3"
    }
  },
  "nbformat": 4,
  "nbformat_minor": 4
}

{
  "cells": [
    {
      "cell_type": "markdown",
      "metadata": {},
      "source": [
        "# Funções em Python\n",
        "\n",
        "Tempo estimado necessário: **40** minutos\n",
        "\n",
        "## Objetivos\n",
        "\n",
        "Após concluir este laboratório você será capaz de:\n",
        "\n",
        "* Compreender funções e variáveis\n",
        "* Trabalhar com funções e variáveis\n"
      ]
    },
    {
      "cell_type": "markdown",
      "metadata": {},
      "source": [
        "<h1>Funções em Python</h1>\n"
      ]
    },
    {
      "cell_type": "markdown",
      "metadata": {},
      "source": [
        "<p><strong>Bem-vindo!</strong> Este notebook ensinará sobre as funções na Linguagem de Programação Python. Ao final deste laboratório, você conhecerá os conceitos básicos sobre funções, variáveis e como utilizá-las.</p>\n"
      ]
    },
    {
      "cell_type": "markdown",
      "metadata": {},
      "source": [
        "<h2>Sumário</h2>\n",
        "<div class=\"alert alert-block\" style=\"margin-top: 20px\">\n",
        "    <ul>\n",
        "        <li>\n",
        "            <a href=\"https://#func\">Funções</a>\n",
        "            <ul>\n",
        "                <li><a href=\"https://content/?utm_medium=Exinfluencer&utm_source=Exinfluencer&utm_content=000026UJ&utm_term=10006555&utm_id=NA-SkillsNetwork-Channel-SkillsNetworkCoursesIBMDeveloperSkillsNetworkPY0101ENSkillsNetwork19487395-2022-01-01\">O que é uma função?</a></li>\n",
        "                <li><a href=\"https://var/?utm_medium=Exinfluencer&utm_source=Exinfluencer&utm_content=000026UJ&utm_term=10006555&utm_id=NA-SkillsNetwork-Channel-SkillsNetworkCoursesIBMDeveloperSkillsNetworkPY0101ENSkillsNetwork19487395-2022-01-01\">Variáveis</a></li>\n",
        "                <li><a href=\"https://simple/?utm_medium=Exinfluencer&utm_source=Exinfluencer&utm_content=000026UJ&utm_term=10006555&utm_id=NA-SkillsNetwork-Channel-SkillsNetworkCoursesIBMDeveloperSkillsNetworkPY0101ENSkillsNetwork19487395-2022-01-01\">Funções Simplificam as Coisas</a></li>\n",
        "            </ul>\n",
        "        </li>\n",
        "        <li><a href=\"https://pre/?utm_medium=Exinfluencer&utm_source=Exinfluencer&utm_content=000026UJ&utm_term=10006555&utm_id=NA-SkillsNetwork-Channel-SkillsNetworkCoursesIBMDeveloperSkillsNetworkPY0101ENSkillsNetwork19487395-2022-01-01\">Funções pré-definidas</a></li>\n",
        "        <li><a href=\"https://if/?utm_medium=Exinfluencer&utm_source=Exinfluencer&utm_content=000026UJ&utm_term=10006555&utm_id=NA-SkillsNetwork-Channel-SkillsNetworkCoursesIBMDeveloperSkillsNetworkPY0101ENSkillsNetwork19487395-2022-01-01\">Utilizando declarações <code>if</code>/<code>else</code> e loops em funções</a></li>\n",
        "        <li><a href=\"https://default/?utm_medium=Exinfluencer&utm_source=Exinfluencer&utm_content=000026UJ&utm_term=10006555&utm_id=NA-SkillsNetwork-Channel-SkillsNetworkCoursesIBMDeveloperSkillsNetworkPY0101ENSkillsNetwork19487395-2022-01-01\">Definindo valores padrão para argumentos em suas funções personalizadas</a></li>\n",
        "        <li><a href=\"https://global/?utm_medium=Exinfluencer&utm_source=Exinfluencer&utm_content=000026UJ&utm_term=10006555&utm_id=NA-SkillsNetwork-Channel-SkillsNetworkCoursesIBMDeveloperSkillsNetworkPY0101ENSkillsNetwork19487395-2022-01-01\">Variáveis globais</a></li>\n",
        "        <li><a href=\"https://scope/?utm_medium=Exinfluencer&utm_source=Exinfluencer&utm_content=000026UJ&utm_term=10006555&utm_id=NA-SkillsNetwork-Channel-SkillsNetworkCoursesIBMDeveloperSkillsNetworkPY0101ENSkillsNetwork19487395-2022-01-01\">Escopo de uma variável</a></li>\n",
        "        <li><a href=\"https://collec/?utm_medium=Exinfluencer&utm_source=Exinfluencer&utm_content=000026UJ&utm_term=10006555&utm_id=NA-SkillsNetwork-Channel-SkillsNetworkCoursesIBMDeveloperSkillsNetworkPY0101ENSkillsNetwork19487395-2022-01-01\">Coleções e Funções</a></li>\n",
        "        <li>\n",
        "            <a href=\"https://#quiz\">Quiz sobre Loops</a>\n",
        "        </li>\n",
        "    </ul>\n",
        "\n",
        "</div>\n",
        "\n",
        "<hr>\n"
      ]
    },
    {
      "cell_type": "markdown",
      "metadata": {},
      "source": [
        "<h2 id=\"func\">Funções</h2>\n"
      ]
    },
    {
      "cell_type": "markdown",
      "metadata": {},
      "source": [
        "Uma função é um bloco de código reutilizável que executa as operações especificadas nela. Ela permite que você divida tarefas em partes menores e reutilize seu código em diferentes programas.\n",
        "\n",
        "Existem dois tipos de funções:\n",
        "\n",
        "* <b>Funções pré-definidas</b>\n",
        "* <b>Funções definidas pelo usuário</b>\n"
      ]
    },
    {
      "cell_type": "markdown",
      "metadata": {},
      "source": [
        "<h3 id=\"content\">O que é uma função?</h3>\n"
      ]
    },
    {
      "cell_type": "markdown",
      "metadata": {},
      "source": [
        "Você pode definir funções para fornecer a funcionalidade necessária. Aqui estão algumas regras simples para definir uma função em Python:\n",
        "\n",
        "* Os blocos de função começam com a palavra <code>def</code>, seguida pelo <code>nome</code> da função e pelos parênteses <code>()</code>.\n",
        "* Devem ser especificados os parâmetros ou argumentos de entrada dentro destes parênteses.\n",
        "* Todo bloco de função possui um corpo que começa com dois-pontos (<code>:</code>) e é indentado.\n",
        "* Você também pode incluir documentação logo após a definição da função.\n",
        "* A instrução <code>return</code> encerra a função, opcionalmente retornando um valor.\n",
        "\n",
        "Um exemplo de função que adiciona 1 ao parâmetro <code>a</code>, imprime e retorna o resultado como <code>b</code>:\n"
      ]
    },
    {
      "cell_type": "code",
      "execution_count": 4,
      "metadata": {},
      "outputs": [],
      "source": [
        "# First function example: Add 1 to a and store as b\n",
        "\n",
        "def add(a):\n",
        "    \"\"\"\n",
        "    add 1 to a\n",
        "    \"\"\"\n",
        "    b = a + 1\n",
        "    return(b)\n",
        "\n",
        "if (11 == add(9)):\n",
        "    print(\"caramba que top\")"
      ]
    },
    {
      "cell_type": "markdown",
      "metadata": {},
      "source": [
        "A figura abaixo ilustra a terminologia:\n"
      ]
    },
    {
      "cell_type": "markdown",
      "metadata": {},
      "source": [
        "<img src=\"https://cf-courses-data.s3.us.cloud-object-storage.appdomain.cloud/IBMDeveloperSkillsNetwork-PY0101EN-SkillsNetwork/labs/Module%203/images/FuncsDefinition.png\" width=\"500\"> \n"
      ]
    },
    {
      "cell_type": "markdown",
      "metadata": {},
      "source": [
        "Podemos obter ajuda sobre uma função:\n"
      ]
    },
    {
      "cell_type": "code",
      "execution_count": 5,
      "metadata": {},
      "outputs": [
        {
          "name": "stdout",
          "output_type": "stream",
          "text": [
            "Help on function add in module __main__:\n",
            "\n",
            "add(a)\n",
            "    add 1 to a\n",
            "\n"
          ]
        }
      ],
      "source": [
        "# Get a help on add function\n",
        "\n",
        "help(add)"
      ]
    },
    {
      "cell_type": "markdown",
      "metadata": {},
      "source": [
        "Podemos chamar a função:\n"
      ]
    },
    {
      "cell_type": "code",
      "execution_count": null,
      "metadata": {},
      "outputs": [],
      "source": [
        "# Call the function add()\n",
        "\n",
        "add(1)"
      ]
    },
    {
      "cell_type": "markdown",
      "metadata": {},
      "source": [
        "Se chamarmos a função com uma nova entrada, obtemos um novo resultado:\n"
      ]
    },
    {
      "cell_type": "code",
      "execution_count": 6,
      "metadata": {},
      "outputs": [
        {
          "data": {
            "text/plain": [
              "3"
            ]
          },
          "execution_count": 6,
          "metadata": {},
          "output_type": "execute_result"
        }
      ],
      "source": [
        "# Call the function add()\n",
        "\n",
        "add(2)"
      ]
    },
    {
      "cell_type": "markdown",
      "metadata": {},
      "source": [
        "Podemos criar funções diferentes. Por exemplo, podemos criar uma função que multiplica dois números. Os números serão representados pelas variáveis <code>a</code> e <code>b</code>:\n"
      ]
    },
    {
      "cell_type": "code",
      "execution_count": 7,
      "metadata": {},
      "outputs": [
        {
          "name": "stdout",
          "output_type": "stream",
          "text": [
            "24\n"
          ]
        }
      ],
      "source": [
        "# Define a function for multiple two numbers\n",
        "\n",
        "def Mult(a, b):\n",
        "    c = a * b\n",
        "    return(c)\n",
        "    print('This is not printed')\n",
        "    \n",
        "result = Mult(12,2)\n",
        "print(result)"
      ]
    },
    {
      "cell_type": "markdown",
      "metadata": {},
      "source": [
        "A mesma função pode ser utilizada para diferentes tipos de dados. Por exemplo, podemos multiplicar dois inteiros:\n"
      ]
    },
    {
      "cell_type": "code",
      "execution_count": null,
      "metadata": {},
      "outputs": [],
      "source": [
        "# Use mult() multiply two integers\n",
        "\n",
        "Mult(2, 3)"
      ]
    },
    {
      "cell_type": "markdown",
      "metadata": {},
      "source": [
        "Observe como a função termina na instrução <code>return</code>, retornando um valor. Esse valor pode ser posteriormente atribuído a outra variável, se desejado.\n",
        "\n",
        "<hr>\n",
        "A mesma função pode ser utilizada para diferentes tipos de dados. Por exemplo, podemos multiplicar dois inteiros:\n"
      ]
    },
    {
      "cell_type": "markdown",
      "metadata": {},
      "source": [
        "Dois floats:\n"
      ]
    },
    {
      "cell_type": "code",
      "execution_count": 8,
      "metadata": {},
      "outputs": [
        {
          "data": {
            "text/plain": [
              "31.400000000000002"
            ]
          },
          "execution_count": 8,
          "metadata": {},
          "output_type": "execute_result"
        }
      ],
      "source": [
        "# Use mult() multiply two floats\n",
        "\n",
        "Mult(10.0, 3.14)"
      ]
    },
    {
      "cell_type": "markdown",
      "metadata": {},
      "source": [
        "Podemos até replicar uma string multiplicando-a por um inteiro:\n"
      ]
    },
    {
      "cell_type": "code",
      "execution_count": 9,
      "metadata": {},
      "outputs": [
        {
          "data": {
            "text/plain": [
              "'The BodyGuard The BodyGuard '"
            ]
          },
          "execution_count": 9,
          "metadata": {},
          "output_type": "execute_result"
        }
      ],
      "source": [
        "# Use mult() multiply two different type values together\n",
        "\n",
        "Mult(2, \"The BodyGuard \")"
      ]
    },
    {
      "cell_type": "markdown",
      "metadata": {},
      "source": [
        "<h3 id=\"var\">Variáveis</h3>\n"
      ]
    },
    {
      "cell_type": "markdown",
      "metadata": {},
      "source": [
        "A entrada de uma função é chamada de parâmetro formal.\n",
        "\n",
        "Uma variável declarada dentro de uma função é denominada variável local. Esse parâmetro existe apenas dentro da função (ou seja, do início ao fim da função).\n",
        "\n",
        "Uma variável declarada fora da definição de uma função é uma variável global, e seu valor é acessível e modificável por todo o programa. Discutiremos mais sobre variáveis globais no final do laboratório.\n"
      ]
    },
    {
      "cell_type": "code",
      "execution_count": null,
      "metadata": {},
      "outputs": [],
      "source": [
        "# Function Definition\n",
        "\n",
        "def square(a):\n",
        "    \n",
        "    # Local variable b\n",
        "    b = 1\n",
        "    c = a * a + b\n",
        "    print(a, \"if you square + 1\", c) \n",
        "    return(c)"
      ]
    },
    {
      "cell_type": "markdown",
      "metadata": {},
      "source": [
        "Os rótulos são exibidos na figura:\n"
      ]
    },
    {
      "cell_type": "markdown",
      "metadata": {},
      "source": [
        "<img src=\"https://cf-courses-data.s3.us.cloud-object-storage.appdomain.cloud/IBMDeveloperSkillsNetwork-PY0101EN-SkillsNetwork/labs/Module%203/images/FuncsVar.png\" width=\"500\">\n"
      ]
    },
    {
      "cell_type": "markdown",
      "metadata": {},
      "source": [
        "Podemos chamar a função com uma entrada de <b>3</b>:\n"
      ]
    },
    {
      "cell_type": "code",
      "execution_count": null,
      "metadata": {},
      "outputs": [],
      "source": [
        "# Initializes Global variable  \n",
        "\n",
        "x = 3\n",
        "# Makes function call and return function a y\n",
        "y = square(x)\n",
        "y"
      ]
    },
    {
      "cell_type": "markdown",
      "metadata": {},
      "source": [
        "Podemos chamar a função com uma entrada de <b>2</b> de forma diferente:\n"
      ]
    },
    {
      "cell_type": "code",
      "execution_count": null,
      "metadata": {},
      "outputs": [],
      "source": [
        "# Directly enter a number as parameter\n",
        "\n",
        "square(2)"
      ]
    },
    {
      "cell_type": "markdown",
      "metadata": {},
      "source": [
        "Se não houver uma instrução <code>return</code>, a função retorna <code>None</code>. As duas funções a seguir são equivalentes:\n"
      ]
    },
    {
      "cell_type": "code",
      "execution_count": 10,
      "metadata": {},
      "outputs": [],
      "source": [
        "# Define functions, one with return value None and other without return value\n",
        "\n",
        "def MJ():\n",
        "    print('The BodyGuard')\n",
        "    \n",
        "def MJ1():\n",
        "    print('The BodyGuard')\n",
        "    return(None)"
      ]
    },
    {
      "cell_type": "code",
      "execution_count": 11,
      "metadata": {},
      "outputs": [
        {
          "name": "stdout",
          "output_type": "stream",
          "text": [
            "The BodyGuard\n"
          ]
        }
      ],
      "source": [
        "# See the output\n",
        "\n",
        "MJ()"
      ]
    },
    {
      "cell_type": "code",
      "execution_count": 12,
      "metadata": {},
      "outputs": [
        {
          "name": "stdout",
          "output_type": "stream",
          "text": [
            "The BodyGuard\n"
          ]
        }
      ],
      "source": [
        "# See the output\n",
        "\n",
        "MJ1()"
      ]
    },
    {
      "cell_type": "markdown",
      "metadata": {},
      "source": [
        "Imprimir o resultado da função após a chamada revela que **None** é o valor de retorno padrão:\n"
      ]
    },
    {
      "cell_type": "code",
      "execution_count": null,
      "metadata": {},
      "outputs": [],
      "source": [
        "# See what functions returns are\n",
        "\n",
        "print(MJ())\n",
        "print(MJ1())"
      ]
    },
    {
      "cell_type": "markdown",
      "metadata": {},
      "source": [
        "Crie uma função <code>con</code> que concatene duas strings utilizando a operação de adição:\n"
      ]
    },
    {
      "cell_type": "code",
      "execution_count": 13,
      "metadata": {},
      "outputs": [],
      "source": [
        "# Define the function for combining strings\n",
        "\n",
        "def con(a, b):\n",
        "    return(a + b)"
      ]
    },
    {
      "cell_type": "code",
      "execution_count": 14,
      "metadata": {},
      "outputs": [
        {
          "data": {
            "text/plain": [
              "'This is'"
            ]
          },
          "execution_count": 14,
          "metadata": {},
          "output_type": "execute_result"
        }
      ],
      "source": [
        "# Test on the con() function\n",
        "\n",
        "con(\"This \", \"is\")"
      ]
    },
    {
      "cell_type": "markdown",
      "metadata": {},
      "source": [
        "<hr/>\n",
        "    <div class=\"alert alert-success alertsuccess\" style=\"margin-top: 20px\">\n",
        "        <h4> [Dica] Como posso aprender mais sobre as funções pré-definidas em Python? </h4>\n",
        "        <p>Iremos apresentar uma variedade de funções pré-definidas à medida que você aprender mais sobre Python. Existem tantas funções que não há como ensiná-las todas de uma única vez. Mas, se você quiser dar uma olhada rápida, aqui está uma breve cartilha de referência para algumas das funções pré-definidas mais utilizadas: <a href=\"https://cf-courses-data.s3.us.cloud-object-storage.appdomain.cloud/IBMDeveloperSkillsNetwork-PY0101EN-SkillsNetwork/labs/Module%203/Python_reference_sheet.pdf?utm_medium=Exinfluencer&utm_source=Exinfluencer&utm_content=000026UJ&utm_term=10006555&utm_id=NA-SkillsNetwork-Channel-SkillsNetworkCoursesIBMDeveloperSkillsNetworkPY0101ENSkillsNetwork19487395-2022-01-01\">Referência</a></p>\n",
        "    </div>\n",
        "<hr/>\n"
      ]
    },
    {
      "cell_type": "markdown",
      "metadata": {},
      "source": [
        "<h3 id=\"simple\">Funções Simplificam as Coisas</h3>\n"
      ]
    },
    {
      "cell_type": "markdown",
      "metadata": {},
      "source": [
        "Considere as duas linhas de código no <b>Bloco 1</b> e no <b>Bloco 2</b>: o procedimento para cada bloco é idêntico. A única diferença está nos nomes e valores das variáveis.\n"
      ]
    },
    {
      "cell_type": "markdown",
      "metadata": {},
      "source": [
        "<h4>Bloco 1:</h4>\n"
      ]
    },
    {
      "cell_type": "code",
      "execution_count": 15,
      "metadata": {},
      "outputs": [
        {
          "data": {
            "text/plain": [
              "5"
            ]
          },
          "execution_count": 15,
          "metadata": {},
          "output_type": "execute_result"
        }
      ],
      "source": [
        "# a and b calculation block1\n",
        "\n",
        "a1 = 4\n",
        "b1 = 5\n",
        "c1 = a1 + b1 + 2 * a1 * b1 - 1\n",
        "if(c1 < 0):\n",
        "    c1 = 0 \n",
        "else:\n",
        "    c1 = 5\n",
        "c1   "
      ]
    },
    {
      "cell_type": "markdown",
      "metadata": {},
      "source": [
        "<h4>Bloco 2:</h4>\n"
      ]
    },
    {
      "cell_type": "code",
      "execution_count": 16,
      "metadata": {},
      "outputs": [
        {
          "data": {
            "text/plain": [
              "0"
            ]
          },
          "execution_count": 16,
          "metadata": {},
          "output_type": "execute_result"
        }
      ],
      "source": [
        "# a and b calculation block2\n",
        "\n",
        "a2 = 0\n",
        "b2 = 0\n",
        "c2 = a2 + b2 + 2 * a2 * b2 - 1\n",
        "if(c2 < 0):\n",
        "    c2 = 0 \n",
        "else:\n",
        "    c2 = 5\n",
        "c2   "
      ]
    },
    {
      "cell_type": "markdown",
      "metadata": {},
      "source": [
        "Podemos substituir essas linhas de código por uma função. Uma função agrupa muitas instruções em uma única estrutura de código. Uma vez definida, ela pode ser utilizada repetidamente. Você pode invocar a mesma função várias vezes em seu programa, salvá-la para uso futuro ou até mesmo utilizar a função de outra pessoa. As linhas de código no <b>Bloco 1</b> e no <b>Bloco 2</b> podem ser substituídas pela seguinte função:\n"
      ]
    },
    {
      "cell_type": "code",
      "execution_count": 17,
      "metadata": {},
      "outputs": [],
      "source": [
        "# Make a Function for the calculation above\n",
        "\n",
        "def Equation(a,b):\n",
        "    c = a + b + 2 * a * b - 1\n",
        "    if(c < 0):\n",
        "        c = 0 \n",
        "    else:\n",
        "        c = 5\n",
        "    return(c) "
      ]
    },
    {
      "cell_type": "markdown",
      "metadata": {},
      "source": [
        "Esta função recebe duas entradas, <code>a</code> e <code>b</code>, aplica várias operações e retorna <code>c</code>.\n",
        "Simplesmente definimos a função, substituímos as instruções por ela e fornecemos os novos valores de <code>a1</code>, <code>b1</code> e de <code>a2</code>, <code>b2</code> como entradas. Todo o processo é demonstrado na figura:\n"
      ]
    },
    {
      "cell_type": "markdown",
      "metadata": {},
      "source": [
        "<img src=\"https://cf-courses-data.s3.us.cloud-object-storage.appdomain.cloud/IBMDeveloperSkillsNetwork-PY0101EN-SkillsNetwork/labs/Module%203/images/FuncsPros.gif\" width=\"850\">\n"
      ]
    },
    {
      "cell_type": "markdown",
      "metadata": {},
      "source": [
        "Os <b>Bloco 1</b> e <b>Bloco 2</b> agora podem ser substituídos pelos <b>Bloco 3</b> e <b>Bloco 4</b>.\n"
      ]
    },
    {
      "cell_type": "markdown",
      "metadata": {},
      "source": [
        "<h4>Bloco 3:</h4>\n"
      ]
    },
    {
      "cell_type": "code",
      "execution_count": 18,
      "metadata": {},
      "outputs": [
        {
          "data": {
            "text/plain": [
              "5"
            ]
          },
          "execution_count": 18,
          "metadata": {},
          "output_type": "execute_result"
        }
      ],
      "source": [
        "a1 = 4\n",
        "b1 = 5\n",
        "c1 = Equation(a1, b1)\n",
        "c1"
      ]
    },
    {
      "cell_type": "markdown",
      "metadata": {},
      "source": [
        "<h4>Bloco 4:</h4>\n"
      ]
    },
    {
      "cell_type": "code",
      "execution_count": null,
      "metadata": {},
      "outputs": [],
      "source": [
        "a2 = 0\n",
        "b2 = 0\n",
        "c2 = Equation(a2, b2)\n",
        "c2"
      ]
    },
    {
      "cell_type": "markdown",
      "metadata": {},
      "source": [
        "<hr>\n"
      ]
    },
    {
      "cell_type": "markdown",
      "metadata": {},
      "source": [
        "<h2 id=\"pre\">Funções pré-definidas</h2>\n"
      ]
    },
    {
      "cell_type": "markdown",
      "metadata": {},
      "source": [
        "Existem muitas funções pré-definidas em Python, então vamos começar pelas mais simples.\n"
      ]
    },
    {
      "cell_type": "markdown",
      "metadata": {},
      "source": [
        "A função <code>print()</code>:\n"
      ]
    },
    {
      "cell_type": "code",
      "execution_count": null,
      "metadata": {},
      "outputs": [],
      "source": [
        "# Build-in function print()\n",
        "\n",
        "album_ratings = [10.0, 8.5, 9.5, 7.0, 7.0, 9.5, 9.0, 9.5] \n",
        "print(album_ratings)"
      ]
    },
    {
      "cell_type": "markdown",
      "metadata": {},
      "source": [
        "A função <code>sum()</code> soma todos os elementos de uma lista ou tupla:\n"
      ]
    },
    {
      "cell_type": "code",
      "execution_count": null,
      "metadata": {},
      "outputs": [],
      "source": [
        "# Use sum() to add every element in a list or tuple together\n",
        "\n",
        "sum(album_ratings)"
      ]
    },
    {
      "cell_type": "markdown",
      "metadata": {},
      "source": [
        "A função <code>len()</code> retorna o comprimento de uma lista ou tupla:\n"
      ]
    },
    {
      "cell_type": "code",
      "execution_count": null,
      "metadata": {},
      "outputs": [],
      "source": [
        "# Show the length of the list or tuple\n",
        "\n",
        "len(album_ratings)"
      ]
    },
    {
      "cell_type": "markdown",
      "metadata": {},
      "source": [
        "<h2 id=\"pre\">Funções Embutidas</h2>\n"
      ]
    },
    {
      "cell_type": "markdown",
      "metadata": {},
      "source": [
        "Em Python, uma função embutida é uma função pré-definida que está sempre disponível, fornecendo funcionalidades comuns sem a necessidade de importação.\n"
      ]
    },
    {
      "cell_type": "code",
      "execution_count": null,
      "metadata": {},
      "outputs": [],
      "source": [
        "#You will see below will return an error as integer alone is not considered while using a function.It either has to be in the form of tuple, list or a set.\n",
        "\n",
        "sum(1,2)"
      ]
    },
    {
      "cell_type": "code",
      "execution_count": null,
      "metadata": {},
      "outputs": [],
      "source": [
        "# Define a tuple\n",
        "a = (1, 2)\n",
        "\n",
        "# Pass the tuple to the sum function and store the result in a variable\n",
        "c = sum(a)\n",
        "\n",
        "# Print the result\n",
        "print(f\"The sum of the elements in the tuple {a} is {c}.\")\n"
      ]
    },
    {
      "cell_type": "code",
      "execution_count": null,
      "metadata": {},
      "outputs": [],
      "source": [
        "# Define a list\n",
        "a = [1, 2]\n",
        "\n",
        "# Pass the list to the sum function and store the result in a variable\n",
        "c = sum(a)\n",
        "\n",
        "# Print the result\n",
        "print(f\"The sum of the elements in the list {a} is {c}.\")\n"
      ]
    },
    {
      "cell_type": "markdown",
      "metadata": {},
      "source": [
        "<h2 id=\"if\">Usando declarações <code>if</code>/<code>else</code> e laços em funções</h2>\n"
      ]
    },
    {
      "cell_type": "markdown",
      "metadata": {},
      "source": [
        "A função <code>return()</code> é especialmente útil quando há declarações <code>if</code> na função e você deseja que a saída dependa de uma condição:\n"
      ]
    },
    {
      "cell_type": "code",
      "execution_count": null,
      "metadata": {},
      "outputs": [],
      "source": [
        "# Function example\n",
        "\n",
        "def type_of_album(album, year_released):\n",
        "    \n",
        "    print(album, year_released)\n",
        "    if year_released > 1980:\n",
        "        return \"Modern\"\n",
        "    else:\n",
        "        return \"Oldie\"\n",
        "    \n",
        "x = type_of_album(\"The BodyGuard\", 1980)\n",
        "print(x)"
      ]
    },
    {
      "cell_type": "markdown",
      "metadata": {},
      "source": [
        "Podemos utilizar um loop dentro de uma função. Por exemplo, podemos imprimir cada elemento de uma lista:\n"
      ]
    },
    {
      "cell_type": "code",
      "execution_count": null,
      "metadata": {},
      "outputs": [],
      "source": [
        "# Print the list using for loop\n",
        "\n",
        "def PrintList(the_list):\n",
        "    for element in the_list:\n",
        "        print(element)"
      ]
    },
    {
      "cell_type": "code",
      "execution_count": null,
      "metadata": {},
      "outputs": [],
      "source": [
        "# Implement the printlist function\n",
        "\n",
        "PrintList(['1', 1, 'the man', \"abc\"])"
      ]
    },
    {
      "cell_type": "markdown",
      "metadata": {},
      "source": [
        "<h2 id=\"if\">Comparação de Strings em Funções</h2>\n"
      ]
    },
    {
      "cell_type": "markdown",
      "metadata": {},
      "source": [
        "Os operadores relacionais comparam os valores Unicode dos caracteres das strings, desde o índice 0 até o final da string, e retornam um valor booleano de acordo com o operador utilizado.\n"
      ]
    },
    {
      "cell_type": "code",
      "execution_count": 19,
      "metadata": {},
      "outputs": [
        {
          "data": {
            "text/plain": [
              "'String matched'"
            ]
          },
          "execution_count": 19,
          "metadata": {},
          "output_type": "execute_result"
        }
      ],
      "source": [
        "#Compare Two Strings Directly using in operator\n",
        "# add string\n",
        "string= \"The BodyGuard is the best album\"\n",
        "\n",
        "# Define a funtion\n",
        "def check_string(text):\n",
        "    \n",
        "    # Use if else statement and 'in' operatore to compare the string\n",
        "    if text in string:\n",
        "        return 'String matched'\n",
        "    else:\n",
        "        return 'String not matched'\n",
        "\n",
        "check_string(\"The BodyGuard is the best\")"
      ]
    },
    {
      "cell_type": "markdown",
      "metadata": {},
      "source": [
        "Este programa utiliza uma função definida pelo usuário chamada compareStrings() para comparar duas strings.\n",
        "\n",
        "A função recebe ambas as strings como argumentos e retorna 1 se as duas forem iguais, utilizando o operador ==.\n"
      ]
    },
    {
      "cell_type": "code",
      "execution_count": null,
      "metadata": {},
      "outputs": [],
      "source": [
        "#Compare two strings using == operator and function\n",
        "def compareStrings(x, y):\n",
        "    # Use if else statement to compare x and y\n",
        "    if x==y:\n",
        "        return 1\n",
        "    \n",
        "# Declare two different variables as string1 and string2 and pass string in it\n",
        "string1 = \"The BodyGuard is the best album\"\n",
        "string2 = \"The BodyGuard is the best album\"\n",
        "\n",
        "# Declare a variable to store result after comparing both the strings\n",
        "check = compareStrings(string1, string2)\n",
        "\n",
        "#Use if else statement to compare the string\n",
        "if check==1:\n",
        "    print(\"\\nString Matched\")\n",
        "else:\n",
        "    print(\"\\nString not Matched\")"
      ]
    },
    {
      "cell_type": "markdown",
      "metadata": {},
      "source": [
        "**Conte a Frequência das Palavras que Aparecem em uma String Usando um Dicionário.** \n",
        "\n",
        "Encontre a contagem de ocorrência de qualquer palavra na nossa string utilizando Python. Esse é o objetivo desta seção: contar o número de vezes que uma palavra aparece em uma determinada string e imprimi-la.\n",
        "\n",
        "Suponha que temos uma ‘string’ e uma ‘palavra’, e precisamos encontrar quantas vezes essa palavra ocorre na string. Para isso, primeiramente definiremos uma função e criaremos uma lista vazia.\n",
        "\n",
        "Em seguida, converteremos a string em uma lista utilizando o método <code>split()</code> da string (pode-se usar <code>string.lower().split()</code> para tratar as letras minúsculas).\n",
        "\n",
        "Agora, declararemos um dicionário vazio.\n",
        "\n",
        "Depois, utilizaremos um loop <code>for</code> para iterar sobre as palavras, contar a frequência de cada uma e armazenar o resultado no dicionário.\n",
        "\n",
        "Por fim, imprimiremos o dicionário.\n"
      ]
    },
    {
      "cell_type": "code",
      "execution_count": null,
      "metadata": {},
      "outputs": [],
      "source": [
        "# Python Program to Count words in a String using Dictionary\n",
        "def freq(string):\n",
        "    \n",
        "    #passo 1: Declarar uma variável lista e inicializá-la como vazia.\n",
        "    words = []\n",
        "    \n",
        "    #passo 2: Dividir a string em uma lista de palavras\n",
        "    words = string.split()  # ou string.lower().split()\n",
        "    \n",
        "    #passo 3: Declarar um dicionário\n",
        "    Dict = {}\n",
        "    \n",
        "    #passo 4: Usar um loop for para iterar sobre as palavras e atribuir os valores ao dicionário\n",
        "    for key in words:\n",
        "        Dict[key] = words.count(key)\n",
        "        \n",
        "    #passo 5: Imprimir o dicionário\n",
        "    print(\"The Frequency of words is:\", Dict)\n",
        "    \n",
        "#passo 6: Chamar a função e passar a string como argumento\n",
        "freq(\"Mary had a little lamb Little lamb, little lamb Mary had a little lamb.Its fleece was white as snow And everywhere that Mary went Mary went, Mary went \\\n",
        "Everywhere that Mary went The lamb was sure to go\")"
      ]
    },
    {
      "cell_type": "markdown",
      "metadata": {},
      "source": [
        "<hr>\n"
      ]
    },
    {
      "cell_type": "markdown",
      "metadata": {},
      "source": [
        "<h2 id=\"default\">Definindo valores padrão para argumentos em suas funções personalizadas</h2>\n"
      ]
    },
    {
      "cell_type": "markdown",
      "metadata": {},
      "source": [
        "Você pode definir um valor padrão para os argumentos de sua função. Por exemplo, na função <code>isGoodRating()</code>, e se quiséssemos criar um limite para o que consideramos uma boa nota? Talvez, por padrão, o valor de avaliação deva ser 4:\n"
      ]
    },
    {
      "cell_type": "code",
      "execution_count": 22,
      "metadata": {},
      "outputs": [],
      "source": [
        "# Example for setting param with default value\n",
        "\n",
        "def isGoodRating(rating=[]): \n",
        "    if(rating < 7):\n",
        "        print(\"this album sucks it's rating is\", rating)\n",
        "    else:\n",
        "        print(\"this album is good its rating is\", rating)\n"
      ]
    },
    {
      "cell_type": "code",
      "execution_count": 23,
      "metadata": {},
      "outputs": [
        {
          "ename": "TypeError",
          "evalue": "'<' not supported between instances of 'list' and 'int'",
          "output_type": "error",
          "traceback": [
            "\u001b[31m---------------------------------------------------------------------------\u001b[39m",
            "\u001b[31mTypeError\u001b[39m                                 Traceback (most recent call last)",
            "\u001b[36mCell\u001b[39m\u001b[36m \u001b[39m\u001b[32mIn[23]\u001b[39m\u001b[32m, line 3\u001b[39m\n\u001b[32m      1\u001b[39m \u001b[38;5;66;03m# Test the value with default value and with input\u001b[39;00m\n\u001b[32m----> \u001b[39m\u001b[32m3\u001b[39m \u001b[43misGoodRating\u001b[49m\u001b[43m(\u001b[49m\u001b[43m)\u001b[49m\n\u001b[32m      4\u001b[39m isGoodRating([\u001b[32m10\u001b[39m])\n",
            "\u001b[36mCell\u001b[39m\u001b[36m \u001b[39m\u001b[32mIn[22]\u001b[39m\u001b[32m, line 4\u001b[39m, in \u001b[36misGoodRating\u001b[39m\u001b[34m(rating)\u001b[39m\n\u001b[32m      3\u001b[39m \u001b[38;5;28;01mdef\u001b[39;00m\u001b[38;5;250m \u001b[39m\u001b[34misGoodRating\u001b[39m(rating=[]): \n\u001b[32m----> \u001b[39m\u001b[32m4\u001b[39m     \u001b[38;5;28;01mif\u001b[39;00m(\u001b[43mrating\u001b[49m\u001b[43m \u001b[49m\u001b[43m<\u001b[49m\u001b[43m \u001b[49m\u001b[32;43m7\u001b[39;49m):\n\u001b[32m      5\u001b[39m         \u001b[38;5;28mprint\u001b[39m(\u001b[33m\"\u001b[39m\u001b[33mthis album sucks it\u001b[39m\u001b[33m'\u001b[39m\u001b[33ms rating is\u001b[39m\u001b[33m\"\u001b[39m, rating)\n\u001b[32m      6\u001b[39m     \u001b[38;5;28;01melse\u001b[39;00m:\n",
            "\u001b[31mTypeError\u001b[39m: '<' not supported between instances of 'list' and 'int'"
          ]
        }
      ],
      "source": [
        "# Test the value with default value and with input\n",
        "\n",
        "isGoodRating()\n",
        "isGoodRating([10])"
      ]
    },
    {
      "cell_type": "markdown",
      "metadata": {},
      "source": [
        "<hr>\n"
      ]
    },
    {
      "cell_type": "markdown",
      "metadata": {},
      "source": [
        "<h2 id=\"global\">Variáveis globais</h2>\n"
      ]
    },
    {
      "cell_type": "markdown",
      "metadata": {},
      "source": [
        "Até agora, temos criado variáveis dentro de funções, mas não discutimos as variáveis fora delas. Essas são chamadas de variáveis globais. <br>\n",
        "Vamos ver o que a função <code>printer1</code> retorna:\n"
      ]
    },
    {
      "cell_type": "code",
      "execution_count": 24,
      "metadata": {},
      "outputs": [
        {
          "name": "stdout",
          "output_type": "stream",
          "text": [
            "The BodyGuard is an album\n"
          ]
        },
        {
          "ename": "NameError",
          "evalue": "name 'internal_var1' is not defined",
          "output_type": "error",
          "traceback": [
            "\u001b[31m---------------------------------------------------------------------------\u001b[39m",
            "\u001b[31mNameError\u001b[39m                                 Traceback (most recent call last)",
            "\u001b[36mCell\u001b[39m\u001b[36m \u001b[39m\u001b[32mIn[24]\u001b[39m\u001b[32m, line 10\u001b[39m\n\u001b[32m      8\u001b[39m printer1(album)\n\u001b[32m      9\u001b[39m \u001b[38;5;66;03m# try running the following code\u001b[39;00m\n\u001b[32m---> \u001b[39m\u001b[32m10\u001b[39m printer1(\u001b[43minternal_var1\u001b[49m)\n",
            "\u001b[31mNameError\u001b[39m: name 'internal_var1' is not defined"
          ]
        }
      ],
      "source": [
        "# Example of global variable\n",
        "\n",
        "album = \"The BodyGuard\"\n",
        "def printer1(album):\n",
        "    internal_var1 = \"Thriller\"\n",
        "    print(album, \"is an album\")\n",
        "    \n",
        "printer1(album)\n",
        "# try running the following code\n",
        "printer1(internal_var1)"
      ]
    },
    {
      "cell_type": "markdown",
      "metadata": {},
      "source": [
        "<b>Obtivemos um Name Error: <code>name 'internal_var' is not defined</code>. Por quê?</b>\n",
        "\n",
        "Isso ocorre porque todas as variáveis criadas dentro de uma função são variáveis locais, ou seja, sua atribuição não persiste fora da função.\n",
        "\n",
        "Mas há uma maneira de criar variáveis globais dentro de uma função, conforme mostrado a seguir:\n"
      ]
    },
    {
      "cell_type": "code",
      "execution_count": 25,
      "metadata": {},
      "outputs": [
        {
          "name": "stdout",
          "output_type": "stream",
          "text": [
            "The BodyGuard is an album\n",
            "Thriller is an album\n"
          ]
        }
      ],
      "source": [
        "album = \"The BodyGuard\"\n",
        "\n",
        "def printer(album):\n",
        "    global internal_var\n",
        "    internal_var = \"Thriller\"\n",
        "    print(album, \"is an album\")\n",
        "\n",
        "printer(album)\n",
        "printer(internal_var)"
      ]
    },
    {
      "cell_type": "markdown",
      "metadata": {},
      "source": [
        "<h2 id=\"scope\">Escopo de uma Variável</h2>\n"
      ]
    },
    {
      "cell_type": "markdown",
      "metadata": {},
      "source": [
        "O escopo de uma variável é a parte do programa onde ela é acessível. Variáveis declaradas fora de todas as definições de função, como a variável <code>myFavouriteBand</code> mostrada a seguir, são acessíveis de qualquer lugar do programa. Portanto, tais variáveis possuem escopo global e são chamadas de variáveis globais. <code>myFavouriteBand</code> é global, o que a torna acessível dentro da função <code>getBandRating</code>, onde podemos usá-la para determinar a avaliação de uma banda. Ela também pode ser utilizada fora da função, por exemplo, quando a passamos para a função <code>print</code> para exibi-la:\n"
      ]
    },
    {
      "cell_type": "code",
      "execution_count": null,
      "metadata": {},
      "outputs": [],
      "source": [
        "# Example of global variable\n",
        "\n",
        "myFavouriteBand = \"AC/DC\"\n",
        "\n",
        "def getBandRating(bandname):\n",
        "    if bandname == myFavouriteBand:\n",
        "        return 10.0\n",
        "    else:\n",
        "        return 0.0\n",
        "\n",
        "print(\"AC/DC's rating is:\", getBandRating(\"AC/DC\"))\n",
        "print(\"Deep Purple's rating is:\", getBandRating(\"Deep Purple\"))\n",
        "print(\"My favourite band is:\", myFavouriteBand)"
      ]
    },
    {
      "cell_type": "markdown",
      "metadata": {},
      "source": [
        "Observe esta versão modificada do código. Agora a variável <code>myFavouriteBand</code> está definida dentro da função <code>getBandRating</code>. Uma variável definida dentro de uma função é local àquela função, ou seja, ela é acessível apenas dentro da função em que foi definida. Assim, nossa função <code>getBandRating</code> ainda funciona porque <code>myFavouriteBand</code> está definida dentro dela; porém, não é possível imprimir <code>myFavouriteBand</code> fora dela, pois ela é uma variável local:\n"
      ]
    },
    {
      "cell_type": "code",
      "execution_count": null,
      "metadata": {},
      "outputs": [],
      "source": [
        "# Deleting the variable \"myFavouriteBand\" from the previous example to demonstrate an example of a local variable \n",
        "\n",
        "del myFavouriteBand\n",
        "\n",
        "# Example of local variable\n",
        "\n",
        "def getBandRating(bandname):\n",
        "    myFavouriteBand = \"AC/DC\"\n",
        "    if bandname == myFavouriteBand:\n",
        "        return 10.0\n",
        "    else:\n",
        "        return 0.0\n",
        "\n",
        "print(\"AC/DC's rating is:\", getBandRating(\"AC/DC\"))\n",
        "print(\"Deep Purple's rating is:\", getBandRating(\"Deep Purple\"))\n",
        "print(\"My favourite band is\", myFavouriteBand)"
      ]
    },
    {
      "cell_type": "markdown",
      "metadata": {},
      "source": [
        "Por fim, observe este exemplo. Agora temos duas definições para a variável <code>myFavouriteBand</code>: a primeira possui escopo global, enquanto a segunda é uma variável local definida dentro da função <code>getBandRating</code>. Dentro da função, a variável local tem precedência; assim, quando passamos \"Deep Purple\" para a função, ela retorna 10.0. Porém, fora da função, como a variável local não está definida, o que é impresso é o valor da variável global, que é **AC/DC**:\n"
      ]
    },
    {
      "cell_type": "code",
      "execution_count": null,
      "metadata": {},
      "outputs": [],
      "source": [
        "# Example of global variable and local variable with the same name\n",
        "\n",
        "myFavouriteBand = \"AC/DC\"\n",
        "\n",
        "def getBandRating(bandname):\n",
        "    myFavouriteBand = \"Deep Purple\"\n",
        "    if bandname == myFavouriteBand:\n",
        "        return 10.0\n",
        "    else:\n",
        "        return 0.0\n",
        "\n",
        "print(\"AC/DC's rating is:\", getBandRating(\"AC/DC\"))\n",
        "print(\"Deep Purple's rating is:\", getBandRating(\"Deep Purple\"))\n",
        "print(\"My favourite band is:\", myFavouriteBand)"
      ]
    },
    {
      "cell_type": "markdown",
      "metadata": {},
      "source": [
        "<hr>\n",
        "<h2 id=\"collec\">Coleções e Funções</h2>\n"
      ]
    },
    {
      "cell_type": "markdown",
      "metadata": {},
      "source": [
        "Quando o número de argumentos para uma função é desconhecido, eles podem ser agrupados em uma tupla, conforme demonstrado abaixo:\n"
      ]
    },
    {
      "cell_type": "code",
      "execution_count": 26,
      "metadata": {},
      "outputs": [
        {
          "name": "stdout",
          "output_type": "stream",
          "text": [
            "No of arguments: 3\n",
            "Horsefeather\n",
            "Adonis\n",
            "Bone\n",
            "No of arguments: 4\n",
            "Sidecar\n",
            "Long Island\n",
            "Mudslide\n",
            "Carriage\n"
          ]
        }
      ],
      "source": [
        "def printAll(*args): # Todos os argumentos são agrupados em args, que pode ser tratado como uma tupla\n",
        "    print(\"No of arguments:\", len(args)) \n",
        "    for argument in args:\n",
        "        print(argument)\n",
        "#printAll with 3 arguments\n",
        "printAll('Horsefeather','Adonis','Bone')\n",
        "#printAll with 4 arguments\n",
        "printAll('Sidecar','Long Island','Mudslide','Carriage')"
      ]
    },
    {
      "cell_type": "markdown",
      "metadata": {},
      "source": [
        "Da mesma forma, os argumentos também podem ser agrupados em um dicionário, conforme mostrado abaixo:\n"
      ]
    },
    {
      "cell_type": "code",
      "execution_count": null,
      "metadata": {},
      "outputs": [],
      "source": [
        "def printDictionary(**args):\n",
        "    for key in args:\n",
        "        print(key + \" : \" + args[key])\n",
        "\n",
        "printDictionary(Country='Canada',Province='Ontario',City='Toronto')\n",
        "    "
      ]
    },
    {
      "cell_type": "markdown",
      "metadata": {},
      "source": [
        "Funções podem ser incrivelmente poderosas e versáteis. Elas podem aceitar (e retornar) tipos de dados, objetos e até outras funções como argumentos. Considere o exemplo a seguir:\n"
      ]
    },
    {
      "cell_type": "code",
      "execution_count": null,
      "metadata": {},
      "outputs": [],
      "source": [
        "def addItems(list):\n",
        "    list.append(\"Three\")\n",
        "    list.append(\"Four\")\n",
        "\n",
        "myList = [\"One\",\"Two\"]\n",
        "\n",
        "addItems(myList)\n",
        "\n",
        "myList\n",
        "    "
      ]
    },
    {
      "cell_type": "markdown",
      "metadata": {},
      "source": [
        "Observe como as mudanças realizadas na lista não se restringem ao escopo da função. Isso ocorre porque é a referência da lista que é passada para a função – qualquer modificação afeta a instância original da lista. Portanto, deve-se ter cautela ao passar objetos mutáveis para funções.\n",
        "\n",
        "<hr>\n"
      ]
    },
    {
      "cell_type": "markdown",
      "metadata": {},
      "source": [
        "<h2>Quiz sobre Funções</h2>\n"
      ]
    },
    {
      "cell_type": "markdown",
      "metadata": {},
      "source": [
        "Crie uma função que divida a primeira entrada pela segunda:\n"
      ]
    },
    {
      "cell_type": "code",
      "execution_count": null,
      "metadata": {},
      "outputs": [],
      "source": [
        "# Write your code below and press Shift+Enter to execute\n"
      ]
    },
    {
      "cell_type": "markdown",
      "metadata": {},
      "source": [
        "<details><summary>Clique aqui para a solução</summary>\n",
        "\n",
        "```python\n",
        "def div(a, b):\n",
        "    return(a/b)\n",
        "    \n",
        "```\n",
        "\n",
        "</details>\n"
      ]
    },
    {
      "cell_type": "markdown",
      "metadata": {},
      "source": [
        "<hr>\n"
      ]
    },
    {
      "cell_type": "markdown",
      "metadata": {},
      "source": [
        "Utilize a função <code>con</code> para a seguinte questão.\n"
      ]
    },
    {
      "cell_type": "code",
      "execution_count": null,
      "metadata": {},
      "outputs": [],
      "source": [
        "# Use the con function for the following question\n",
        "\n",
        "def con(a, b):\n",
        "    return(a + b)"
      ]
    },
    {
      "cell_type": "markdown",
      "metadata": {},
      "source": [
        "A função <code>con</code> que definimos anteriormente pode ser usada para somar dois inteiros ou concatenar strings?\n"
      ]
    },
    {
      "cell_type": "code",
      "execution_count": null,
      "metadata": {},
      "outputs": [],
      "source": [
        "# Write your code below and comment the text then press Shift+Enter to execute\n"
      ]
    },
    {
      "cell_type": "markdown",
      "metadata": {},
      "source": [
        "<details><summary>Clique aqui para a solução</summary>\n",
        "\n",
        "```python\n",
        "Yes, for example: \n",
        "con(2, 2)\n",
        "    \n",
        "```\n",
        "\n",
        "</details>\n"
      ]
    },
    {
      "cell_type": "markdown",
      "metadata": {},
      "source": [
        "<hr>\n"
      ]
    },
    {
      "cell_type": "markdown",
      "metadata": {},
      "source": [
        "A função <code>con</code> que definimos anteriormente pode ser usada para concatenar listas ou tuplas?\n"
      ]
    },
    {
      "cell_type": "code",
      "execution_count": null,
      "metadata": {},
      "outputs": [],
      "source": [
        "# Write your code below and comment the text then press Shift+Enter to execute\n"
      ]
    },
    {
      "cell_type": "markdown",
      "metadata": {},
      "source": [
        "<details><summary>Clique aqui para a solução</summary>\n",
        "\n",
        "```python\n",
        "Yes, for example: \n",
        "con(['a', 1], ['b', 1])\n",
        "    \n",
        "```\n",
        "\n",
        "</details>\n"
      ]
    },
    {
      "cell_type": "markdown",
      "metadata": {},
      "source": [
        "Escreva uma função que encontre a contagem total da palavra `little` na string dada: \n",
        "`\"Mary had a little lamb Little lamb, little lamb Mary had a little lamb.Its fleece was white as snow And everywhere that Mary went Mary went, Mary went Everywhere that Mary went The lamb was sure to go\"`\n"
      ]
    },
    {
      "cell_type": "code",
      "execution_count": null,
      "metadata": {},
      "outputs": [],
      "source": [
        "# Write your code below and press Shift+Enter to execute\n"
      ]
    },
    {
      "cell_type": "markdown",
      "metadata": {},
      "source": [
        "<details><summary>Clique aqui para a solução</summary>\n",
        "\n",
        "```python\n",
        "# Programa em Python para contar palavras em uma string usando dicionário\n",
        "def freq(string, passedkey):\n",
        "\n",
        "    # passo 1: Declarar uma variável lista e inicializá-la como vazia.\n",
        "    words = []\n",
        "\n",
        "    # passo 2: Dividir a string em uma lista de palavras\n",
        "    words = string.split()  # ou string.lower().split()\n",
        "\n",
        "    # passo 3: Declarar um dicionário\n",
        "    Dict = {}\n",
        "\n",
        "    # passo 4: Usar um loop for para iterar sobre as palavras e atribuir os valores ao dicionário\n",
        "    for key in words:\n",
        "        if key == passedkey:\n",
        "            Dict[key] = words.count(key)\n",
        "    # passo 5: Imprimir o dicionário\n",
        "    print(\"Total Count:\", Dict)\n",
        "\n",
        "# passo 6: Chamar a função e passar a string como argumento\n",
        "freq(\"Mary had a little lamb Little lamb, little lamb Mary had a little lamb.Its fleece was white as snow And everywhere that Mary went Mary went, Mary went \\\n",
        "Everywhere that Mary went The lamb was sure to go\", \"little\")\n",
        "    \n",
        "```\n",
        "\n",
        "</details>\n"
      ]
    },
    {
      "cell_type": "markdown",
      "metadata": {},
      "source": [
        "<hr>\n",
        "<h2>O último exercício!</h2>\n",
        "<p>Parabéns, você concluiu sua primeira lição e laboratório prático em Python. \n",
        "<hr>\n"
      ]
    }
  ],
  "metadata": {
    "kernelspec": {
      "display_name": "Python 3",
      "language": "python",
      "name": "python3"
    },
    "language_info": {
      "codemirror_mode": {
        "name": "ipython",
        "version": 3
      },
      "file_extension": ".py",
      "mimetype": "text/x-python",
      "name": "python",
      "nbconvert_exporter": "python",
      "pygments_lexer": "ipython3",
      "version": "3.12.3"
    },
    "prev_pub_hash": "abe1f79bb4154d173fd7e36514357e82dbf1938022a7ca803c334cff44d29d61"
  },
  "nbformat": 4,
  "nbformat_minor": 4
}

{
  "cells": [
    {
      "cell_type": "markdown",
      "metadata": {},
      "source": [
        "# Classes e Objetos em Python\n",
        "\n",
        "Tempo estimado necessário: **40** minutos\n",
        "\n",
        "## Objetivos\n",
        "\n",
        "Após concluir este laboratório você será capaz de:\n",
        "\n",
        "* Trabalhar com classes e objetos\n",
        "* Identificar e definir atributos e métodos\n"
      ]
    },
    {
      "cell_type": "markdown",
      "metadata": {},
      "source": [
        "<h2>Sumário</h2>\n",
        "<div class=\"alert alert-block\" style=\"margin-top: 20px\">\n",
        "    <ul>\n",
        "        <li>\n",
        "            <a href=\"#Introduction-to-Classes-and-Objects\">Introdução às Classes e Objetos</a>\n",
        "            <ul>\n",
        "                <li><a href=\"#Creating-a-class\">Criando uma classe</a></li>\n",
        "                <li><a href=\"#Instances-of-a-Class:-Objects-and-Attributes\">Instâncias de uma Classe: Objetos e Atributos</a></li>\n",
        "                <li><a href=\"#Methods\">Métodos</a></li>\n",
        "            </ul>\n",
        "        </li>\n",
        "        <li><a href=\"#Creating-a-class\">Criando uma classe</a></li>\n",
        "        <li><a href=\"#Creating-an-instance-of-a-class-Circle\">Criando uma instância da classe Circle</a></li>\n",
        "        <li><a href=\"#The-Rectangle-Class\">A classe Rectangle</a></li>\n",
        "    </ul>\n",
        "</div>\n",
        "\n",
        "<hr>\n"
      ]
    },
    {
      "cell_type": "markdown",
      "metadata": {},
      "source": [
        "## Introdução às Classes e Objetos\n"
      ]
    },
    {
      "cell_type": "markdown",
      "metadata": {},
      "source": [
        "### Criando uma Classe\n"
      ]
    },
    {
      "cell_type": "markdown",
      "metadata": {},
      "source": [
        "O primeiro passo para criar uma classe é dar-lhe um nome. Neste notebook, criaremos duas classes: *Circle* e *Rectangle*. Precisamos determinar todos os dados que compõem essa classe, os quais chamamos de <em>atributos</em>. Pense neste passo como se estivesse criando uma planta baixa (blueprint) que usaremos para criar objetos. Na Figura 1, vemos duas classes, *Circle* e *Rectangle*. Cada uma possui seus atributos: a classe *Circle* possui os atributos *radius* e *color*, enquanto a classe *Rectangle* possui os atributos *height* e *width*. Vamos usar exemplos visuais dessas formas antes de partirmos para o código, pois isso ajudará a familiarizá-lo com a terminologia.\n"
      ]
    },
    {
      "cell_type": "markdown",
      "metadata": {},
      "source": [
        "<img src=\"https://cf-courses-data.s3.us.cloud-object-storage.appdomain.cloud/IBMDeveloperSkillsNetwork-PY0101EN-SkillsNetwork/labs/Module%203/images/ClassesClass.png\" width=\"500\">\n"
      ]
    },
    {
      "cell_type": "markdown",
      "metadata": {},
      "source": [
        "<i>Figura 1: As classes Circle e Rectangle, cada uma com seus respectivos atributos. A classe Circle possui os atributos radius e color, enquanto a classe Rectangle possui os atributos height e width.</i>\n"
      ]
    },
    {
      "cell_type": "markdown",
      "metadata": {},
      "source": [
        "### Instâncias de uma Classe: Objetos e Atributos\n"
      ]
    },
    {
      "cell_type": "markdown",
      "metadata": {},
      "source": [
        "Uma instância (objeto) é a realização concreta de uma classe. Na Figura 2, vemos três instâncias da classe *Circle*. Cada objeto recebe um nome: red circle, yellow circle e green circle. Cada objeto possui atributos diferentes; por exemplo, foque no atributo de cor de cada objeto.\n"
      ]
    },
    {
      "cell_type": "markdown",
      "metadata": {},
      "source": [
        "<img src=\"https://cf-courses-data.s3.us.cloud-object-storage.appdomain.cloud/IBMDeveloperSkillsNetwork-PY0101EN-SkillsNetwork/labs/Module%203/images/ClassesObj.png\" width=\"500\">\n"
      ]
    },
    {
      "cell_type": "markdown",
      "metadata": {},
      "source": [
        "<i>Figura 2: Três instâncias da classe Circle, ou seja, três objetos do tipo Circle.</i>\n"
      ]
    },
    {
      "cell_type": "markdown",
      "metadata": {},
      "source": [
        "O atributo de cor do objeto red circle é \"red\", para o objeto green circle é \"green\" e para o yellow circle é \"yellow\".\n"
      ]
    },
    {
      "cell_type": "markdown",
      "metadata": {},
      "source": [
        "### Métodos\n"
      ]
    },
    {
      "cell_type": "markdown",
      "metadata": {},
      "source": [
        "Métodos permitem alterar ou interagir com um objeto; eles são funções associadas aos objetos. Por exemplo, suponha que desejemos aumentar o valor do atributo *radius* de um círculo em uma determinada quantidade. Podemos criar um método chamado **add_radius(r)** que aumenta o *radius* em **r**. Isto é ilustrado na Figura 3, na qual, após aplicar o método ao objeto de círculo laranja, o atributo *radius* é aumentado. A notação de ponto indica que o método está sendo aplicado ao objeto, ou seja, uma função que atua sobre os dados do objeto.\n"
      ]
    },
    {
      "cell_type": "markdown",
      "metadata": {},
      "source": [
        "<img src=\"https://cf-courses-data.s3.us.cloud-object-storage.appdomain.cloud/IBMDeveloperSkillsNetwork-PY0101EN-SkillsNetwork/labs/Module%203/images/ClassesMethod.png\" width=\"500\"> \n"
      ]
    },
    {
      "cell_type": "markdown",
      "metadata": {},
      "source": [
        "<i>Figura 3: Aplicando o método \"add_radius\" ao objeto (circular) laranja.</i>\n"
      ]
    },
    {
      "cell_type": "markdown",
      "metadata": {},
      "source": [
        "<hr>\n"
      ]
    },
    {
      "cell_type": "markdown",
      "metadata": {},
      "source": [
        "## Criando uma Classe\n"
      ]
    },
    {
      "cell_type": "markdown",
      "metadata": {},
      "source": [
        "Agora vamos criar a classe *Circle*. Mas antes, importaremos uma biblioteca para desenhar os objetos:\n"
      ]
    },
    {
      "cell_type": "code",
      "execution_count": null,
      "metadata": {},
      "outputs": [],
      "source": [
        "# Importar a biblioteca\n",
        "\n",
        "import matplotlib.pyplot as plt\n",
        "%matplotlib inline  "
      ]
    },
    {
      "cell_type": "markdown",
      "metadata": {},
      "source": [
        "O primeiro passo para criar sua própria classe é utilizar a palavra-chave <code>class</code>, seguida do nome da classe, como mostrado na Figura 4. Neste curso, a classe pai será sempre *object*:\n"
      ]
    },
    {
      "cell_type": "markdown",
      "metadata": {},
      "source": [
        "<img src=\"https://cf-courses-data.s3.us.cloud-object-storage.appdomain.cloud/IBMDeveloperSkillsNetwork-PY0101EN-SkillsNetwork/labs/Module%203/images/ClassesDefine.png\" width=\"400\">\n"
      ]
    },
    {
      "cell_type": "markdown",
      "metadata": {},
      "source": [
        "<i>Figura 4: Criando a classe Circle.</i>\n"
      ]
    },
    {
      "cell_type": "markdown",
      "metadata": {},
      "source": [
        "O próximo passo é o método especial construtor <code>__init__</code>, que é usado para inicializar o objeto. Os parâmetros de entrada são os atributos de dados. O termo <code>self</code> contém todos os atributos do objeto. Por exemplo, <code>self.color</code> corresponde ao valor do atributo *color* e <code>self.radius</code> ao atributo *radius*. Também temos o método <code>add_radius()</code> com o parâmetro <code>r</code> que adiciona o valor de <code>r</code> ao atributo *radius*. Para acessar o atributo *radius*, usamos a sintaxe <code>self.radius</code>. A sintaxe está resumida na Figura 5:\n"
      ]
    },
    {
      "cell_type": "markdown",
      "metadata": {},
      "source": [
        "<img src=\"https://cf-courses-data.s3.us.cloud-object-storage.appdomain.cloud/IBMDeveloperSkillsNetwork-PY0101EN-SkillsNetwork/labs/Module%203/images/ClassesCircle.png\" width=\"600\">\n"
      ]
    },
    {
      "cell_type": "markdown",
      "metadata": {},
      "source": [
        "<i>Figura 5: Sintaxe detalhada do objeto Circle.</i>\n"
      ]
    },
    {
      "cell_type": "markdown",
      "metadata": {},
      "source": [
        "O objeto propriamente dito é mostrado a seguir. Incluímos o método <code>drawCircle</code> para exibir a imagem de um círculo. Definimos o *radius* padrão como 3 e a cor padrão como azul:\n"
      ]
    },
    {
      "cell_type": "code",
      "execution_count": null,
      "metadata": {},
      "outputs": [],
      "source": [
        "# Criar uma classe Circle\n",
        "\n",
        "class Circle(object):\n",
        "    \n",
        "    # Construtor\n",
        "    def __init__(self, radius=3, color='blue'):\n",
        "        self.radius = radius\n",
        "        self.color = color \n",
        "    \n",
        "    # Método\n",
        "    def add_radius(self, r):\n",
        "        self.radius = self.radius + r\n",
        "        return(self.radius)\n",
        "    \n",
        "    # Método\n",
        "    def drawCircle(self):\n",
        "        plt.gca().add_patch(plt.Circle((0, 0), radius=self.radius, fc=self.color))\n",
        "        plt.axis('scaled')\n",
        "        plt.show()  "
      ]
    },
    {
      "cell_type": "markdown",
      "metadata": {},
      "source": [
        "<hr>\n"
      ]
    },
    {
      "cell_type": "markdown",
      "metadata": {},
      "source": [
        "## Criando uma instância da classe Circle\n"
      ]
    },
    {
      "cell_type": "markdown",
      "metadata": {},
      "source": [
        "Vamos criar o objeto <code>RedCircle</code> do tipo Circle para realizar as seguintes ações:\n"
      ]
    },
    {
      "cell_type": "code",
      "execution_count": null,
      "metadata": {},
      "outputs": [],
      "source": [
        "# Criar um objeto RedCircle\n",
        "\n",
        "RedCircle = Circle(10, 'red')"
      ]
    },
    {
      "cell_type": "markdown",
      "metadata": {},
      "source": [
        "Podemos usar o comando <code>dir</code> para listar os métodos do objeto. Muitos deles são métodos padrão do Python.\n"
      ]
    },
    {
      "cell_type": "code",
      "execution_count": null,
      "metadata": {},
      "outputs": [],
      "source": [
        "# Descobrir os métodos disponíveis no objeto RedCircle\n",
        "\n",
        "dir(RedCircle)"
      ]
    },
    {
      "cell_type": "markdown",
      "metadata": {},
      "source": [
        "Podemos visualizar os atributos de dados do objeto:\n"
      ]
    },
    {
      "cell_type": "code",
      "execution_count": null,
      "metadata": {},
      "outputs": [],
      "source": [
        "# Imprimir o atributo radius do objeto\n",
        "\n",
        "RedCircle.radius"
      ]
    },
    {
      "cell_type": "code",
      "execution_count": null,
      "metadata": {},
      "outputs": [],
      "source": [
        "# Imprimir o atributo color do objeto\n",
        "\n",
        "RedCircle.color"
      ]
    },
    {
      "cell_type": "markdown",
      "metadata": {},
      "source": [
        "Podemos alterar os atributos de dados do objeto:\n"
      ]
    },
    {
      "cell_type": "code",
      "execution_count": null,
      "metadata": {},
      "outputs": [],
      "source": [
        "# Alterar o atributo radius do objeto\n",
        "\n",
        "RedCircle.radius = 1\n",
        "RedCircle.radius"
      ]
    },
    {
      "cell_type": "markdown",
      "metadata": {},
      "source": [
        "Podemos desenhar o objeto usando o método <code>drawCircle()</code>:\n"
      ]
    },
    {
      "cell_type": "code",
      "execution_count": null,
      "metadata": {},
      "outputs": [],
      "source": [
        "# Chamar o método drawCircle\n",
        "\n",
        "RedCircle.drawCircle()"
      ]
    },
    {
      "cell_type": "markdown",
      "metadata": {},
      "source": [
        "Podemos aumentar o atributo *radius* do objeto aplicando o método <code>add_radius()</code>. Vamos aumentar o *radius* em 2 e depois em 5:\n"
      ]
    },
    {
      "cell_type": "code",
      "execution_count": null,
      "metadata": {},
      "outputs": [],
      "source": [
        "# Usar o método para alterar o atributo radius do objeto\n",
        "\n",
        "print('Radius do objeto:', RedCircle.radius)\n",
        "RedCircle.add_radius(2)\n",
        "print('Radius após aplicar add_radius(2):', RedCircle.radius)\n",
        "RedCircle.add_radius(5)\n",
        "print('Radius após aplicar add_radius(5):', RedCircle.radius)"
      ]
    },
    {
      "cell_type": "markdown",
      "metadata": {},
      "source": [
        "Vamos criar um círculo azul. Como a cor padrão já é azul, basta especificar o valor do *radius*:\n"
      ]
    },
    {
      "cell_type": "code",
      "execution_count": null,
      "metadata": {},
      "outputs": [],
      "source": [
        "# Criar um BlueCircle com um radius definido\n",
        "\n",
        "BlueCircle = Circle(radius=100)"
      ]
    },
    {
      "cell_type": "markdown",
      "metadata": {},
      "source": [
        "Assim como antes, podemos acessar os atributos da instância da classe usando a notação ponto:\n"
      ]
    },
    {
      "cell_type": "code",
      "execution_count": null,
      "metadata": {},
      "outputs": [],
      "source": [
        "# Imprimir o atributo radius do BlueCircle\n",
        "\n",
        "BlueCircle.radius"
      ]
    },
    {
      "cell_type": "code",
      "execution_count": null,
      "metadata": {},
      "outputs": [],
      "source": [
        "# Imprimir o atributo color do BlueCircle\n",
        "\n",
        "BlueCircle.color"
      ]
    },
    {
      "cell_type": "markdown",
      "metadata": {},
      "source": [
        "Podemos desenhar o objeto usando o método <code>drawCircle()</code>:\n"
      ]
    },
    {
      "cell_type": "code",
      "execution_count": null,
      "metadata": {},
      "outputs": [],
      "source": [
        "# Chamar o método drawCircle\n",
        "\n",
        "BlueCircle.drawCircle()"
      ]
    },
    {
      "cell_type": "markdown",
      "metadata": {},
      "source": [
        "Compare os eixos x e y da figura com a figura do <code>RedCircle</code>; eles são diferentes.\n"
      ]
    },
    {
      "cell_type": "markdown",
      "metadata": {},
      "source": [
        "<hr>\n"
      ]
    },
    {
      "cell_type": "markdown",
      "metadata": {},
      "source": [
        "## A Classe Rectangle\n"
      ]
    },
    {
      "cell_type": "markdown",
      "metadata": {},
      "source": [
        "Vamos criar uma classe *Rectangle* com os atributos *height*, *width* e *color*. Incluiremos apenas o método para desenhar o objeto retangular:\n"
      ]
    },
    {
      "cell_type": "code",
      "execution_count": null,
      "metadata": {},
      "outputs": [],
      "source": [
        "# Criar uma nova classe Rectangle para criar um objeto retângulo\n",
        "\n",
        "class Rectangle(object):\n",
        "    \n",
        "    # Construtor\n",
        "    def __init__(self, width=2, height=3, color='r'):\n",
        "        self.height = height \n",
        "        self.width = width\n",
        "        self.color = color\n",
        "    \n",
        "    # Método\n",
        "    def drawRectangle(self):\n",
        "        plt.gca().add_patch(plt.Rectangle((0, 0), self.width, self.height, fc=self.color))\n",
        "        plt.axis('scaled')\n",
        "        plt.show()\n",
        "        "
      ]
    },
    {
      "cell_type": "markdown",
      "metadata": {},
      "source": [
        "Vamos criar o objeto <code>SkinnyBlueRectangle</code> do tipo *Rectangle*. Seu *width* será 2, *height* 3 e a cor será azul:\n"
      ]
    },
    {
      "cell_type": "code",
      "execution_count": null,
      "metadata": {},
      "outputs": [],
      "source": [
        "# Criar um novo objeto Rectangle\n",
        "\n",
        "SkinnyBlueRectangle = Rectangle(2, 3, 'blue')"
      ]
    },
    {
      "cell_type": "markdown",
      "metadata": {},
      "source": [
        "Assim como antes, podemos acessar os atributos da instância da classe usando a notação ponto:\n"
      ]
    },
    {
      "cell_type": "code",
      "execution_count": null,
      "metadata": {},
      "outputs": [],
      "source": [
        "# Imprimir o atributo height do objeto\n",
        "\n",
        "SkinnyBlueRectangle.height"
      ]
    },
    {
      "cell_type": "code",
      "execution_count": null,
      "metadata": {},
      "outputs": [],
      "source": [
        "# Imprimir o atributo width do objeto\n",
        "\n",
        "SkinnyBlueRectangle.width"
      ]
    },
    {
      "cell_type": "code",
      "execution_count": null,
      "metadata": {},
      "outputs": [],
      "source": [
        "# Imprimir o atributo color do objeto\n",
        "\n",
        "SkinnyBlueRectangle.color"
      ]
    },
    {
      "cell_type": "markdown",
      "metadata": {},
      "source": [
        "Podemos desenhar o objeto:\n"
      ]
    },
    {
      "cell_type": "code",
      "execution_count": null,
      "metadata": {},
      "outputs": [],
      "source": [
        "# Chamar o método drawRectangle para desenhar a forma\n",
        "\n",
        "SkinnyBlueRectangle.drawRectangle()"
      ]
    },
    {
      "cell_type": "markdown",
      "metadata": {},
      "source": [
        "Vamos criar o objeto <code>FatYellowRectangle</code> do tipo *Rectangle*:\n"
      ]
    },
    {
      "cell_type": "code",
      "execution_count": null,
      "metadata": {},
      "outputs": [],
      "source": [
        "# Criar um novo objeto Rectangle\n",
        "\n",
        "FatYellowRectangle = Rectangle(20, 5, 'yellow')"
      ]
    },
    {
      "cell_type": "markdown",
      "metadata": {},
      "source": [
        "Podemos acessar os atributos da instância da classe usando a notação ponto:\n"
      ]
    },
    {
      "cell_type": "code",
      "execution_count": null,
      "metadata": {},
      "outputs": [],
      "source": [
        "# Imprimir o atributo height do objeto\n",
        "\n",
        "FatYellowRectangle.height"
      ]
    },
    {
      "cell_type": "code",
      "execution_count": null,
      "metadata": {},
      "outputs": [],
      "source": [
        "# Imprimir o atributo width do objeto\n",
        "\n",
        "FatYellowRectangle.width"
      ]
    },
    {
      "cell_type": "code",
      "execution_count": null,
      "metadata": {},
      "outputs": [],
      "source": [
        "# Imprimir o atributo color do objeto\n",
        "\n",
        "FatYellowRectangle.color"
      ]
    },
    {
      "cell_type": "markdown",
      "metadata": {},
      "source": [
        "Podemos desenhar o objeto:\n"
      ]
    },
    {
      "cell_type": "code",
      "execution_count": null,
      "metadata": {},
      "outputs": [],
      "source": [
        "# Chamar o método drawRectangle para desenhar a forma\n",
        "\n",
        "FatYellowRectangle.drawRectangle()"
      ]
    },
    {
      "cell_type": "markdown",
      "metadata": {},
      "source": [
        "<hr>\n",
        "<center>\n",
        "    \n",
        "# Cenário: Sistema de gerenciamento de estoque de uma concessionária\n",
        "</center>\n"
      ]
    },
    {
      "cell_type": "markdown",
      "metadata": {},
      "source": [
        "Você está desenvolvendo um programa em Python para simular o sistema de gerenciamento de estoque de uma concessionária. O sistema tem como objetivo modelar os carros e seus atributos de forma precisa.\n"
      ]
    },
    {
      "cell_type": "markdown",
      "metadata": {},
      "source": [
        "### Tarefa-1. Você deve criar um programa em Python para representar veículos utilizando uma classe. Cada carro deve possuir atributos para velocidade máxima e quilometragem.\n"
      ]
    },
    {
      "cell_type": "code",
      "execution_count": null,
      "metadata": {},
      "outputs": [],
      "source": [
        "#Type your code here"
      ]
    },
    {
      "cell_type": "markdown",
      "metadata": {},
      "source": [
        "<details><summary>Clique aqui para a solução</summary>\n",
        "\n",
        "```python\n",
        "class Vehicle:\n",
        "    def __init__(self, max_speed, mileage):\n",
        "        self.max_speed = max_speed\n",
        "        self.mileage = mileage\n",
        "        \n",
        "```\n",
        "\n",
        "</details>\n"
      ]
    },
    {
      "cell_type": "markdown",
      "metadata": {},
      "source": [
        "### Tarefa-2. Atualize a classe adicionando a cor padrão \"white\" a todos os veículos.\n"
      ]
    },
    {
      "cell_type": "code",
      "execution_count": null,
      "metadata": {},
      "outputs": [],
      "source": [
        "#Type your code here"
      ]
    },
    {
      "cell_type": "markdown",
      "metadata": {},
      "source": [
        "<details><summary>Clique aqui para a solução</summary>\n",
        "\n",
        "```python\n",
        "class Vehicle:\n",
        "    color = \"white\"\n",
        "\n",
        "    def __init__(self, max_speed, mileage):\n",
        "        self.max_speed = max_speed\n",
        "        self.mileage = mileage\n",
        "        \n",
        "```\n",
        "\n",
        "</details>\n"
      ]
    },
    {
      "cell_type": "markdown",
      "metadata": {},
      "source": [
        "### Tarefa-3. Além disso, crie métodos na classe Vehicle para definir a capacidade de assentos do veículo.\n"
      ]
    },
    {
      "cell_type": "code",
      "execution_count": null,
      "metadata": {},
      "outputs": [],
      "source": [
        "#Type your code here"
      ]
    },
    {
      "cell_type": "markdown",
      "metadata": {},
      "source": [
        "<details><summary>Clique aqui para a solução</summary>\n",
        "\n",
        "```python\n",
        "class Vehicle:\n",
        "    color = \"white\"\n",
        "\n",
        "    def __init__(self, max_speed, mileage):\n",
        "        self.max_speed = max_speed\n",
        "        self.mileage = mileage\n",
        "        self.seating_capacity = None\n",
        "\n",
        "    def assign_seating_capacity(self, seating_capacity):\n",
        "        self.seating_capacity = seating_capacity\n",
        "```\n",
        "\n",
        "</details>\n"
      ]
    },
    {
      "cell_type": "markdown",
      "metadata": {},
      "source": [
        "### Tarefa-4. Crie um método para exibir todas as propriedades de um objeto da classe.\n"
      ]
    },
    {
      "cell_type": "code",
      "execution_count": null,
      "metadata": {},
      "outputs": [],
      "source": [
        "#Type your code here"
      ]
    },
    {
      "cell_type": "markdown",
      "metadata": {},
      "source": [
        "<details><summary>Clique aqui para a solução</summary>\n",
        "\n",
        "```python\n",
        "class Vehicle:\n",
        "    color = \"white\"\n",
        "\n",
        "    def __init__(self, max_speed, mileage):\n",
        "        self.max_speed = max_speed\n",
        "        self.mileage = mileage\n",
        "        self.seating_capacity = None\n",
        "\n",
        "    def assign_seating_capacity(self, seating_capacity):\n",
        "        self.seating_capacity = seating_capacity\n",
        "\n",
        "    def display_properties(self):\n",
        "        print(\"Propriedades do Veículo:\")\n",
        "        print(\"Cor:\", self.color)\n",
        "        print(\"Velocidade Máxima:\", self.max_speed)\n",
        "        print(\"Quilometragem:\", self.mileage)\n",
        "        print(\"Capacidade de Assentos:\", self.seating_capacity)\n",
        "        \n",
        "```\n",
        "\n",
        "</details>\n"
      ]
    },
    {
      "cell_type": "markdown",
      "metadata": {},
      "source": [
        "### Tarefa-5. Além disso, crie dois objetos da classe Vehicle: um com velocidade máxima de 200 km/h e quilometragem de 20 km/l com capacidade para cinco assentos, e outro com velocidade máxima de 180 km/h e quilometragem de 25 km/l com capacidade para quatro assentos.\n"
      ]
    },
    {
      "cell_type": "code",
      "execution_count": null,
      "metadata": {},
      "outputs": [],
      "source": [
        "#Type your code here"
      ]
    },
    {
      "cell_type": "markdown",
      "metadata": {},
      "source": [
        "<details><summary>Clique aqui para a solução</summary>\n",
        "\n",
        "```python\n",
        "class Vehicle:\n",
        "    color = \"white\"\n",
        "\n",
        "    def __init__(self, max_speed, mileage):\n",
        "        self.max_speed = max_speed\n",
        "        self.mileage = mileage\n",
        "        self.seating_capacity = None\n",
        "\n",
        "    def assign_seating_capacity(self, seating_capacity):\n",
        "        self.seating_capacity = seating_capacity\n",
        "\n",
        "    def display_properties(self):\n",
        "        print(\"Propriedades do Veículo:\")\n",
        "        print(\"Cor:\", self.color)\n",
        "        print(\"Velocidade Máxima:\", self.max_speed)\n",
        "        print(\"Quilometragem:\", self.mileage)\n",
        "        print(\"Capacidade de Assentos:\", self.seating_capacity)\n",
        "\n",
        "# Criando objetos da classe Vehicle\n",
        "vehicle1 = Vehicle(200, 20)\n",
        "vehicle1.assign_seating_capacity(5)\n",
        "vehicle1.display_properties()\n",
        "\n",
        "vehicle2 = Vehicle(180, 25)\n",
        "vehicle2.assign_seating_capacity(4)\n",
        "vehicle2.display_properties()\n",
        "\n",
        "```\n",
        "\n",
        "</details>\n"
      ]
    },
    {
      "cell_type": "markdown",
      "metadata": {},
      "source": [
        "<hr>\n",
        "<h2>O último exercício!</h2>\n",
        "<p>Parabéns, você concluiu sua primeira lição e laboratório prático em Python. \n",
        "<hr>\n"
      ]
    }
  ],
  "metadata": {
    "kernelspec": {
      "display_name": "Python (Pyodide)",
      "language": "python",
      "name": "python"
    },
    "language_info": {
      "codemirror_mode": {
        "name": "python",
        "version": 3
      },
      "file_extension": ".py",
      "mimetype": "text/x-python",
      "name": "python",
      "nbconvert_exporter": "python",
      "pygments_lexer": "ipython3",
      "version": "3.8"
    },
    "prev_pub_hash": "252ef91d0bb13b462b79b6278502193a9e4638b605666d4db9137145ed6a0d74"
  },
  "nbformat": 4,
  "nbformat_minor": 4
}

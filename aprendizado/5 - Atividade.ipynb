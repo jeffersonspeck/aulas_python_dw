{
 "cells": [
  {
   "cell_type": "markdown",
   "id": "c35f647d",
   "metadata": {},
   "source": [
    "# 🎯 Projeto: Análise de Comentários de Produtos em uma Loja Online\n",
    "\n",
    "Você foi contratado por uma empresa de e-commerce para criar uma análise simples de comentários de clientes usando Python. Seu objetivo é processar strings, identificar padrões nos textos e extrair informações úteis como tipo de dado, estatísticas de uso de palavras, e variáveis auxiliares.\n",
    "\n",
    "Utilize o espaço reservado para inserir os códigos solicitados. Cada célula deve conter a solução para o que foi pedido.\n",
    "\n",
    "Salvar com as respostas e anexar ao JACAD!\n",
    "\n",
    "⌛ Tempo total estimado:\n",
    "De 30 a 40 minutos"
   ]
  },
  {
   "cell_type": "markdown",
   "id": "5735a7bb",
   "metadata": {},
   "source": [
    "### 1. Crie uma variável chamada `comentario` que armazene a seguinte string:\n",
    "\n",
    "\"Gostei muito do produto! Chegou no prazo, bem embalado e funcionando perfeitamente. Recomendo.\"\n",
    "\n",
    "Escreva o código abaixo:"
   ]
  },
  {
   "cell_type": "code",
   "execution_count": null,
   "id": "03ae5739",
   "metadata": {},
   "outputs": [],
   "source": [
    "comentario = 'Gostei muito do produto! Chegou no prazo, bem embalado e funcionando perfeitamente. Recomendo.'"
   ]
  },
  {
   "cell_type": "markdown",
   "id": "f5ff5164",
   "metadata": {},
   "source": [
    "### 2. Mostre o tipo de dado da variável `comentario` e imprima seu conteúdo."
   ]
  },
  {
   "cell_type": "code",
   "execution_count": null,
   "id": "4f12109e",
   "metadata": {},
   "outputs": [],
   "source": []
  },
  {
   "cell_type": "markdown",
   "id": "89152205",
   "metadata": {},
   "source": [
    "### 3. Imprima o número de caracteres do comentário."
   ]
  },
  {
   "cell_type": "code",
   "execution_count": null,
   "id": "9c138831",
   "metadata": {},
   "outputs": [],
   "source": []
  },
  {
   "cell_type": "markdown",
   "id": "90483d64",
   "metadata": {},
   "source": [
    "### 4. Converta o comentário todo para letras maiúsculas e depois para minúsculas."
   ]
  },
  {
   "cell_type": "code",
   "execution_count": null,
   "id": "a6419dba",
   "metadata": {},
   "outputs": [],
   "source": []
  },
  {
   "cell_type": "markdown",
   "id": "3b5dd28c",
   "metadata": {},
   "source": [
    "### 5. Use fatiamento (slicing) para exibir:\n",
    "   a) As 5 primeiras letras\n",
    "   b) As últimas 10 letras"
   ]
  },
  {
   "cell_type": "code",
   "execution_count": null,
   "id": "f7089b3f",
   "metadata": {},
   "outputs": [],
   "source": []
  },
  {
   "cell_type": "markdown",
   "id": "613310e3",
   "metadata": {},
   "source": [
    "### 6. Verifique se a palavra \"Recomendo\" está presente no comentário.\n",
    "Imprima uma mensagem como \"Sim, a palavra está presente\" ou \"Não, a palavra não está presente\"."
   ]
  },
  {
   "cell_type": "code",
   "execution_count": null,
   "id": "bdfa3487",
   "metadata": {},
   "outputs": [],
   "source": []
  },
  {
   "cell_type": "markdown",
   "id": "f8157bf0",
   "metadata": {},
   "source": [
    "### 7. Substitua a palavra \"produto\" por \"item\" no comentário."
   ]
  },
  {
   "cell_type": "code",
   "execution_count": null,
   "id": "474c6954",
   "metadata": {},
   "outputs": [],
   "source": []
  },
  {
   "cell_type": "markdown",
   "id": "16cfe4c7",
   "metadata": {},
   "source": [
    "### 8. Quebre o comentário em uma lista de palavras."
   ]
  },
  {
   "cell_type": "code",
   "execution_count": null,
   "id": "76cada5a",
   "metadata": {},
   "outputs": [],
   "source": []
  },
  {
   "cell_type": "markdown",
   "id": "b64642eb",
   "metadata": {},
   "source": [
    "### 9. Conte quantas vezes a letra \"o\" aparece no comentário original (maiúsculas ou minúsculas)."
   ]
  },
  {
   "cell_type": "code",
   "execution_count": null,
   "id": "f6592cf1",
   "metadata": {},
   "outputs": [],
   "source": []
  },
  {
   "cell_type": "markdown",
   "id": "06270a1f",
   "metadata": {},
   "source": [
    "### 10. Crie três variáveis: nome_cliente, produto_comprado e nota (de 0 a 5), e combine todas essas informações em uma frase final no formato:\n",
    "\n",
    "\"O cliente <nome_cliente> avaliou o <produto_comprado> com nota <nota>. Comentário: <comentario>\"\n",
    "\n",
    "Use `f-strings` para montar a frase."
   ]
  },
  {
   "cell_type": "code",
   "execution_count": null,
   "id": "819451cd",
   "metadata": {},
   "outputs": [],
   "source": []
  },
  {
   "cell_type": "markdown",
   "id": "0da5dd81",
   "metadata": {},
   "source": [
    "## Autor\n",
    "\n",
    "<a href=\"https://linktr.ee/jeffersonspeck\" target=\"_blank\">Jefferson Rodrigo Speck</a>\n",
    "\n",
    "## <h3 align=\"center\"> © Este conteúdo não pode ser reproduzido sem autorização do autor <h3/>"
   ]
  }
 ],
 "metadata": {
  "language_info": {
   "name": "python"
  }
 },
 "nbformat": 4,
 "nbformat_minor": 5
}
